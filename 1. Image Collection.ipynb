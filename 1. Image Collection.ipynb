{
 "cells": [
  {
   "cell_type": "markdown",
   "metadata": {},
   "source": [
    "# 1. Import Dependencies"
   ]
  },
  {
   "cell_type": "code",
   "execution_count": 1,
   "metadata": {},
   "outputs": [
    {
     "name": "stdout",
     "output_type": "stream",
     "text": [
      "Collecting opencv-python\n",
      "  Downloading opencv_python-4.5.5.62-cp36-abi3-win_amd64.whl (35.4 MB)\n",
      "Requirement already satisfied: numpy>=1.17.3 in c:\\users\\brito\\appdata\\local\\programs\\python\\python39\\lib\\site-packages (from opencv-python) (1.19.5)\n",
      "Installing collected packages: opencv-python\n",
      "Successfully installed opencv-python-4.5.5.62\n"
     ]
    },
    {
     "name": "stderr",
     "output_type": "stream",
     "text": [
      "WARNING: You are using pip version 21.3.1; however, version 22.0.3 is available.\n",
      "You should consider upgrading via the 'C:\\Users\\brito\\AppData\\Local\\Programs\\Python\\Python39\\python.exe -m pip install --upgrade pip' command.\n"
     ]
    }
   ],
   "source": [
    "!pip install opencv-python"
   ]
  },
  {
   "cell_type": "code",
   "execution_count": 1,
   "metadata": {},
   "outputs": [],
   "source": [
    "# Import opencv\n",
    "import cv2 \n",
    "\n",
    "# Import uuid\n",
    "import uuid\n",
    "\n",
    "# Import Operating System\n",
    "import os\n",
    "\n",
    "# Import time\n",
    "import time"
   ]
  },
  {
   "cell_type": "markdown",
   "metadata": {},
   "source": [
    "# 2. Define Images to Collect"
   ]
  },
  {
   "cell_type": "code",
   "execution_count": 2,
   "metadata": {},
   "outputs": [],
   "source": [
    "labels = ['thumbsup', 'thumbsdown']\n",
    "number_imgs = 6"
   ]
  },
  {
   "cell_type": "markdown",
   "metadata": {},
   "source": [
    "# 3. Setup Folders "
   ]
  },
  {
   "cell_type": "code",
   "execution_count": 3,
   "metadata": {},
   "outputs": [],
   "source": [
    "IMAGES_PATH = os.path.join('Tensorflow', 'workspace', 'images', 'collectedimages')"
   ]
  },
  {
   "cell_type": "code",
   "execution_count": 4,
   "metadata": {},
   "outputs": [],
   "source": [
    "if not os.path.exists(IMAGES_PATH):\n",
    "    if os.name == 'posix':\n",
    "        !mkdir -p {IMAGES_PATH}\n",
    "    if os.name == 'nt':\n",
    "         !mkdir {IMAGES_PATH}\n",
    "for label in labels:\n",
    "    path = os.path.join(IMAGES_PATH, label)\n",
    "    if not os.path.exists(path):\n",
    "        !mkdir {path}"
   ]
  },
  {
   "cell_type": "markdown",
   "metadata": {},
   "source": [
    "# 4. Capture Images"
   ]
  },
  {
   "cell_type": "code",
   "execution_count": 6,
   "metadata": {},
   "outputs": [
    {
     "name": "stdout",
     "output_type": "stream",
     "text": [
      "Collecting images for thumbsup\n",
      "Collecting image 0\n",
      "Collecting image 1\n",
      "Collecting image 2\n",
      "Collecting image 3\n",
      "Collecting image 4\n",
      "Collecting image 5\n",
      "Collecting images for thumbsdown\n",
      "Collecting image 0\n",
      "Collecting image 1\n",
      "Collecting image 2\n",
      "Collecting image 3\n",
      "Collecting image 4\n",
      "Collecting image 5\n"
     ]
    }
   ],
   "source": [
    "for label in labels:\n",
    "    cap = cv2.VideoCapture(0)\n",
    "    print('Collecting images for {}'.format(label))\n",
    "    time.sleep(5)\n",
    "    for imgnum in range(number_imgs):\n",
    "        print('Collecting image {}'.format(imgnum))\n",
    "        ret, frame = cap.read()\n",
    "        imgname = os.path.join(IMAGES_PATH,label,label+'.'+'{}.jpg'.format(str(uuid.uuid1())))\n",
    "        cv2.imwrite(imgname, frame)\n",
    "        cv2.imshow('frame', frame)\n",
    "        time.sleep(2)\n",
    "\n",
    "        if cv2.waitKey(1) & 0xFF == ord('q'):\n",
    "            break\n",
    "cap.release()\n",
    "cv2.destroyAllWindows()"
   ]
  },
  {
   "cell_type": "markdown",
   "metadata": {},
   "source": [
    "# 5. Image Labelling"
   ]
  },
  {
   "cell_type": "code",
   "execution_count": 16,
   "metadata": {},
   "outputs": [
    {
     "name": "stderr",
     "output_type": "stream",
     "text": [
      "WARNING: You are using pip version 21.3.1; however, version 22.0.3 is available.\n",
      "You should consider upgrading via the 'C:\\Users\\brito\\AppData\\Local\\Programs\\Python\\Python39\\python.exe -m pip install --upgrade pip' command.\n"
     ]
    },
    {
     "name": "stdout",
     "output_type": "stream",
     "text": [
      "Collecting pyqt5\n",
      "  Using cached PyQt5-5.15.6-cp36-abi3-win_amd64.whl (6.7 MB)\n",
      "Collecting lxml\n",
      "  Using cached lxml-4.7.1-cp39-cp39-win_amd64.whl (3.7 MB)\n",
      "Collecting PyQt5-Qt5>=5.15.2\n",
      "  Using cached PyQt5_Qt5-5.15.2-py3-none-win_amd64.whl (50.1 MB)\n",
      "Collecting PyQt5-sip<13,>=12.8\n",
      "  Using cached PyQt5_sip-12.9.1-cp39-cp39-win_amd64.whl (77 kB)\n",
      "Installing collected packages: PyQt5-sip, PyQt5-Qt5, pyqt5, lxml\n",
      "Successfully installed PyQt5-Qt5-5.15.2 PyQt5-sip-12.9.1 lxml-4.7.1 pyqt5-5.15.6\n"
     ]
    }
   ],
   "source": [
    "!pip install --upgrade pyqt5 lxml"
   ]
  },
  {
   "cell_type": "code",
   "execution_count": 8,
   "metadata": {},
   "outputs": [],
   "source": [
    "LABELIMG_PATH = os.path.join('Tensorflow', 'labelimg')\n"
   ]
  },
  {
   "cell_type": "code",
   "execution_count": 9,
   "metadata": {},
   "outputs": [
    {
     "name": "stdout",
     "output_type": "stream",
     "text": [
      "Tensorflow\\labelimg\n"
     ]
    }
   ],
   "source": [
    "print(LABELIMG_PATH)"
   ]
  },
  {
   "cell_type": "code",
   "execution_count": 7,
   "metadata": {},
   "outputs": [
    {
     "name": "stderr",
     "output_type": "stream",
     "text": [
      "Cloning into 'Tensorflow\\labelimg'...\n"
     ]
    }
   ],
   "source": [
    "if not os.path.exists(LABELIMG_PATH):\n",
    "    !mkdir {LABELIMG_PATH}\n",
    "    !git clone https://github.com/tzutalin/labelImg {LABELIMG_PATH}"
   ]
  },
  {
   "cell_type": "code",
   "execution_count": 18,
   "metadata": {},
   "outputs": [],
   "source": [
    "if os.name == 'posix': \n",
    "    !make qt5py3\n",
    "if os.name =='nt':\n",
    "    !cd {LABELIMG_PATH} && pyrcc5 -o libs/resources.py resources.qrc"
   ]
  },
  {
   "cell_type": "code",
   "execution_count": 10,
   "metadata": {},
   "outputs": [
    {
     "name": "stdout",
     "output_type": "stream",
     "text": [
      "Image:C:\\Users\\brito\\OneDrive\\Documentos\\1 - Data Science\\5 - Projetos\\8 - TensorFlow Object Detection\\TFODCourse\\Tensorflow\\workspace\\images\\collectedimages\\thumbsdown\\thumbsdown.02bcfd7b-8f49-11ec-b109-8c882b122a33.jpg -> Annotation:C:/Users/brito/OneDrive/Documentos/1 - Data Science/5 - Projetos/8 - TensorFlow Object Detection/TFODCourse/Tensorflow/workspace/images/collectedimages/thumbsdown/thumbsdown.02bcfd7b-8f49-11ec-b109-8c882b122a33.xml\n",
      "Image:C:\\Users\\brito\\OneDrive\\Documentos\\1 - Data Science\\5 - Projetos\\8 - TensorFlow Object Detection\\TFODCourse\\Tensorflow\\workspace\\images\\collectedimages\\thumbsdown\\thumbsdown.03f0cea7-8f49-11ec-af35-8c882b122a33.jpg -> Annotation:C:/Users/brito/OneDrive/Documentos/1 - Data Science/5 - Projetos/8 - TensorFlow Object Detection/TFODCourse/Tensorflow/workspace/images/collectedimages/thumbsdown/thumbsdown.03f0cea7-8f49-11ec-af35-8c882b122a33.xml\n",
      "Image:C:\\Users\\brito\\OneDrive\\Documentos\\1 - Data Science\\5 - Projetos\\8 - TensorFlow Object Detection\\TFODCourse\\Tensorflow\\workspace\\images\\collectedimages\\thumbsdown\\thumbsdown.5c104861-8f49-11ec-9448-8c882b122a33.jpg -> Annotation:C:/Users/brito/OneDrive/Documentos/1 - Data Science/5 - Projetos/8 - TensorFlow Object Detection/TFODCourse/Tensorflow/workspace/images/collectedimages/thumbsdown/thumbsdown.5c104861-8f49-11ec-9448-8c882b122a33.xml\n",
      "Image:C:\\Users\\brito\\OneDrive\\Documentos\\1 - Data Science\\5 - Projetos\\8 - TensorFlow Object Detection\\TFODCourse\\Tensorflow\\workspace\\images\\collectedimages\\thumbsdown\\thumbsdown.5d472753-8f49-11ec-a27c-8c882b122a33.jpg -> Annotation:C:/Users/brito/OneDrive/Documentos/1 - Data Science/5 - Projetos/8 - TensorFlow Object Detection/TFODCourse/Tensorflow/workspace/images/collectedimages/thumbsdown/thumbsdown.5d472753-8f49-11ec-a27c-8c882b122a33.xml\n",
      "Image:C:\\Users\\brito\\OneDrive\\Documentos\\1 - Data Science\\5 - Projetos\\8 - TensorFlow Object Detection\\TFODCourse\\Tensorflow\\workspace\\images\\collectedimages\\thumbsdown\\thumbsdown.5fb607cd-8f49-11ec-afba-8c882b122a33.jpg -> Annotation:C:/Users/brito/OneDrive/Documentos/1 - Data Science/5 - Projetos/8 - TensorFlow Object Detection/TFODCourse/Tensorflow/workspace/images/collectedimages/thumbsdown/thumbsdown.5fb607cd-8f49-11ec-afba-8c882b122a33.xml\n",
      "Image:C:\\Users\\brito\\OneDrive\\Documentos\\1 - Data Science\\5 - Projetos\\8 - TensorFlow Object Detection\\TFODCourse\\Tensorflow\\workspace\\images\\collectedimages\\thumbsdown\\thumbsdown.60ed6867-8f49-11ec-ae8d-8c882b122a33.jpg -> Annotation:C:/Users/brito/OneDrive/Documentos/1 - Data Science/5 - Projetos/8 - TensorFlow Object Detection/TFODCourse/Tensorflow/workspace/images/collectedimages/thumbsdown/thumbsdown.60ed6867-8f49-11ec-ae8d-8c882b122a33.xml\n",
      "Image:C:\\Users\\brito\\OneDrive\\Documentos\\1 - Data Science\\5 - Projetos\\8 - TensorFlow Object Detection\\TFODCourse\\Tensorflow\\workspace\\images\\collectedimages\\thumbsdown\\thumbsdown.0183ce32-8f49-11ec-9c1f-8c882b122a33.jpg -> Annotation:C:/Users/brito/OneDrive/Documentos/1 - Data Science/5 - Projetos/8 - TensorFlow Object Detection/TFODCourse/Tensorflow/workspace/images/collectedimages/thumbsdown/thumbsdown.0183ce32-8f49-11ec-9c1f-8c882b122a33.xml\n",
      "Image:C:\\Users\\brito\\OneDrive\\Documentos\\1 - Data Science\\5 - Projetos\\8 - TensorFlow Object Detection\\TFODCourse\\Tensorflow\\workspace\\images\\collectedimages\\thumbsdown\\thumbsdown.6222deda-8f49-11ec-813d-8c882b122a33.jpg -> Annotation:C:/Users/brito/OneDrive/Documentos/1 - Data Science/5 - Projetos/8 - TensorFlow Object Detection/TFODCourse/Tensorflow/workspace/images/collectedimages/thumbsdown/thumbsdown.6222deda-8f49-11ec-813d-8c882b122a33.xml\n",
      "Image:C:\\Users\\brito\\OneDrive\\Documentos\\1 - Data Science\\5 - Projetos\\8 - TensorFlow Object Detection\\TFODCourse\\Tensorflow\\workspace\\images\\collectedimages\\thumbsdown\\thumbsdown.07928ea7-8f49-11ec-a80a-8c882b122a33.jpg -> Annotation:C:/Users/brito/OneDrive/Documentos/1 - Data Science/5 - Projetos/8 - TensorFlow Object Detection/TFODCourse/Tensorflow/workspace/images/collectedimages/thumbsdown/thumbsdown.07928ea7-8f49-11ec-a80a-8c882b122a33.xml\n",
      "Image:C:\\Users\\brito\\OneDrive\\Documentos\\1 - Data Science\\5 - Projetos\\8 - TensorFlow Object Detection\\TFODCourse\\Tensorflow\\workspace\\images\\collectedimages\\thumbsdown\\thumbsdown.0525983b-8f49-11ec-aa25-8c882b122a33.jpg -> Annotation:C:/Users/brito/OneDrive/Documentos/1 - Data Science/5 - Projetos/8 - TensorFlow Object Detection/TFODCourse/Tensorflow/workspace/images/collectedimages/thumbsdown/thumbsdown.0525983b-8f49-11ec-aa25-8c882b122a33.xml\n",
      "Image:C:\\Users\\brito\\OneDrive\\Documentos\\1 - Data Science\\5 - Projetos\\8 - TensorFlow Object Detection\\TFODCourse\\Tensorflow\\workspace\\images\\collectedimages\\thumbsup\\thumbsup.4d499e94-8f49-11ec-9494-8c882b122a33.jpg -> Annotation:C:/Users/brito/OneDrive/Documentos/1 - Data Science/5 - Projetos/8 - TensorFlow Object Detection/TFODCourse/Tensorflow/workspace/images/collectedimages/thumbsup/thumbsup.4d499e94-8f49-11ec-9494-8c882b122a33.xml\n",
      "Image:C:\\Users\\brito\\OneDrive\\Documentos\\1 - Data Science\\5 - Projetos\\8 - TensorFlow Object Detection\\TFODCourse\\Tensorflow\\workspace\\images\\collectedimages\\thumbsup\\thumbsup.4e80e640-8f49-11ec-a385-8c882b122a33.jpg -> Annotation:C:/Users/brito/OneDrive/Documentos/1 - Data Science/5 - Projetos/8 - TensorFlow Object Detection/TFODCourse/Tensorflow/workspace/images/collectedimages/thumbsup/thumbsup.4e80e640-8f49-11ec-a385-8c882b122a33.xml\n",
      "Image:C:\\Users\\brito\\OneDrive\\Documentos\\1 - Data Science\\5 - Projetos\\8 - TensorFlow Object Detection\\TFODCourse\\Tensorflow\\workspace\\images\\collectedimages\\thumbsup\\thumbsup.4fb680d7-8f49-11ec-9d31-8c882b122a33.jpg -> Annotation:C:/Users/brito/OneDrive/Documentos/1 - Data Science/5 - Projetos/8 - TensorFlow Object Detection/TFODCourse/Tensorflow/workspace/images/collectedimages/thumbsup/thumbsup.4fb680d7-8f49-11ec-9d31-8c882b122a33.xml\n",
      "Image:C:\\Users\\brito\\OneDrive\\Documentos\\1 - Data Science\\5 - Projetos\\8 - TensorFlow Object Detection\\TFODCourse\\Tensorflow\\workspace\\images\\collectedimages\\thumbsup\\thumbsup.50eb2fc3-8f49-11ec-858b-8c882b122a33.jpg -> Annotation:C:/Users/brito/OneDrive/Documentos/1 - Data Science/5 - Projetos/8 - TensorFlow Object Detection/TFODCourse/Tensorflow/workspace/images/collectedimages/thumbsup/thumbsup.50eb2fc3-8f49-11ec-858b-8c882b122a33.xml\n",
      "Image:C:\\Users\\brito\\OneDrive\\Documentos\\1 - Data Science\\5 - Projetos\\8 - TensorFlow Object Detection\\TFODCourse\\Tensorflow\\workspace\\images\\collectedimages\\thumbsup\\thumbsup.52233b68-8f49-11ec-8662-8c882b122a33.jpg -> Annotation:C:/Users/brito/OneDrive/Documentos/1 - Data Science/5 - Projetos/8 - TensorFlow Object Detection/TFODCourse/Tensorflow/workspace/images/collectedimages/thumbsup/thumbsup.52233b68-8f49-11ec-8662-8c882b122a33.xml\n",
      "Image:C:\\Users\\brito\\OneDrive\\Documentos\\1 - Data Science\\5 - Projetos\\8 - TensorFlow Object Detection\\TFODCourse\\Tensorflow\\workspace\\images\\collectedimages\\thumbsup\\thumbsup.f5b68d59-8f48-11ec-bd6d-8c882b122a33.jpg -> Annotation:C:/Users/brito/OneDrive/Documentos/1 - Data Science/5 - Projetos/8 - TensorFlow Object Detection/TFODCourse/Tensorflow/workspace/images/collectedimages/thumbsup/thumbsup.f5b68d59-8f48-11ec-bd6d-8c882b122a33.xml\n",
      "Image:C:\\Users\\brito\\OneDrive\\Documentos\\1 - Data Science\\5 - Projetos\\8 - TensorFlow Object Detection\\TFODCourse\\Tensorflow\\workspace\\images\\collectedimages\\thumbsup\\thumbsup.f6ec4175-8f48-11ec-8f42-8c882b122a33.jpg -> Annotation:C:/Users/brito/OneDrive/Documentos/1 - Data Science/5 - Projetos/8 - TensorFlow Object Detection/TFODCourse/Tensorflow/workspace/images/collectedimages/thumbsup/thumbsup.f6ec4175-8f48-11ec-8f42-8c882b122a33.xml\n",
      "Image:C:\\Users\\brito\\OneDrive\\Documentos\\1 - Data Science\\5 - Projetos\\8 - TensorFlow Object Detection\\TFODCourse\\Tensorflow\\workspace\\images\\collectedimages\\thumbsup\\thumbsup.f47f351a-8f48-11ec-ad87-8c882b122a33.jpg -> Annotation:C:/Users/brito/OneDrive/Documentos/1 - Data Science/5 - Projetos/8 - TensorFlow Object Detection/TFODCourse/Tensorflow/workspace/images/collectedimages/thumbsup/thumbsup.f47f351a-8f48-11ec-ad87-8c882b122a33.xml\n",
      "Image:C:\\Users\\brito\\OneDrive\\Documentos\\1 - Data Science\\5 - Projetos\\8 - TensorFlow Object Detection\\TFODCourse\\Tensorflow\\workspace\\images\\collectedimages\\thumbsup\\thumbsup.f95b9174-8f48-11ec-874d-8c882b122a33.jpg -> Annotation:C:/Users/brito/OneDrive/Documentos/1 - Data Science/5 - Projetos/8 - TensorFlow Object Detection/TFODCourse/Tensorflow/workspace/images/collectedimages/thumbsup/thumbsup.f95b9174-8f48-11ec-874d-8c882b122a33.xml\n",
      "Image:C:\\Users\\brito\\OneDrive\\Documentos\\1 - Data Science\\5 - Projetos\\8 - TensorFlow Object Detection\\TFODCourse\\Tensorflow\\workspace\\images\\collectedimages\\thumbsup\\thumbsup.f34620fd-8f48-11ec-bf03-8c882b122a33.jpg -> Annotation:C:/Users/brito/OneDrive/Documentos/1 - Data Science/5 - Projetos/8 - TensorFlow Object Detection/TFODCourse/Tensorflow/workspace/images/collectedimages/thumbsup/thumbsup.f34620fd-8f48-11ec-bf03-8c882b122a33.xml\n",
      "Image:C:\\Users\\brito\\OneDrive\\Documentos\\1 - Data Science\\5 - Projetos\\8 - TensorFlow Object Detection\\TFODCourse\\Tensorflow\\workspace\\images\\collectedimages\\thumbsup\\thumbsup.f823136c-8f48-11ec-bc85-8c882b122a33.jpg -> Annotation:C:/Users/brito/OneDrive/Documentos/1 - Data Science/5 - Projetos/8 - TensorFlow Object Detection/TFODCourse/Tensorflow/workspace/images/collectedimages/thumbsup/thumbsup.f823136c-8f48-11ec-bc85-8c882b122a33.xml\n"
     ]
    }
   ],
   "source": [
    "!cd {LABELIMG_PATH} && python labelImg.py"
   ]
  },
  {
   "cell_type": "markdown",
   "metadata": {},
   "source": [
    "# 6. Move them into a Training and Testing Partition"
   ]
  },
  {
   "cell_type": "markdown",
   "metadata": {},
   "source": [
    "# OPTIONAL - 7. Compress them for Colab Training"
   ]
  },
  {
   "cell_type": "code",
   "execution_count": 20,
   "metadata": {},
   "outputs": [],
   "source": [
    "TRAIN_PATH = os.path.join('Tensorflow', 'workspace', 'images', 'train')\n",
    "TEST_PATH = os.path.join('Tensorflow', 'workspace', 'images', 'test')\n",
    "ARCHIVE_PATH = os.path.join('Tensorflow', 'workspace', 'images', 'archive.tar.gz')"
   ]
  },
  {
   "cell_type": "code",
   "execution_count": 21,
   "metadata": {},
   "outputs": [],
   "source": [
    "!tar -czf {ARCHIVE_PATH} {TRAIN_PATH} {TEST_PATH}"
   ]
  },
  {
   "cell_type": "code",
   "execution_count": null,
   "metadata": {},
   "outputs": [],
   "source": []
  }
 ],
 "metadata": {
  "interpreter": {
   "hash": "a8c97bfdb673fc33a0ea0fa21770b5736a4c95a0abbefb69b70dbcd97c1a2224"
  },
  "kernelspec": {
   "display_name": "tfod",
   "language": "python",
   "name": "tfod"
  },
  "language_info": {
   "codemirror_mode": {
    "name": "ipython",
    "version": 3
   },
   "file_extension": ".py",
   "mimetype": "text/x-python",
   "name": "python",
   "nbconvert_exporter": "python",
   "pygments_lexer": "ipython3",
   "version": "3.9.7"
  }
 },
 "nbformat": 4,
 "nbformat_minor": 2
}
