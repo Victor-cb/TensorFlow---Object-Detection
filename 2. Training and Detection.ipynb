{
 "cells": [
  {
   "cell_type": "markdown",
   "metadata": {
    "id": "QUANWN3rpfC9"
   },
   "source": [
    "# 0. Setup Paths"
   ]
  },
  {
   "cell_type": "code",
   "execution_count": 62,
   "metadata": {
    "id": "146BB11JpfDA"
   },
   "outputs": [],
   "source": [
    "import os"
   ]
  },
  {
   "cell_type": "code",
   "execution_count": 63,
   "metadata": {
    "id": "42hJEdo_pfDB"
   },
   "outputs": [],
   "source": [
    "CUSTOM_MODEL_NAME = 'my_ssd_mobnet_tuned' \n",
    "PRETRAINED_MODEL_NAME = 'ssd_mobilenet_v2_fpnlite_320x320_coco17_tpu-8'\n",
    "PRETRAINED_MODEL_URL = 'http://download.tensorflow.org/models/object_detection/tf2/20200711/ssd_mobilenet_v2_fpnlite_320x320_coco17_tpu-8.tar.gz'\n",
    "TF_RECORD_SCRIPT_NAME = 'generate_tfrecord.py'\n",
    "LABEL_MAP_NAME = 'label_map.pbtxt'"
   ]
  },
  {
   "cell_type": "code",
   "execution_count": 64,
   "metadata": {
    "id": "hbPhYVy_pfDB"
   },
   "outputs": [],
   "source": [
    "paths = {\n",
    "    'WORKSPACE_PATH': os.path.join('Tensorflow', 'workspace'),\n",
    "    'SCRIPTS_PATH': os.path.join('Tensorflow','scripts'),\n",
    "    'APIMODEL_PATH': os.path.join('Tensorflow','models'),\n",
    "    'ANNOTATION_PATH': os.path.join('Tensorflow', 'workspace','annotations'),\n",
    "    'IMAGE_PATH': os.path.join('Tensorflow', 'workspace','images'),\n",
    "    'MODEL_PATH': os.path.join('Tensorflow', 'workspace','models'),\n",
    "    'PRETRAINED_MODEL_PATH': os.path.join('Tensorflow', 'workspace','pre-trained-models'),\n",
    "    'CHECKPOINT_PATH': os.path.join('Tensorflow', 'workspace','models',CUSTOM_MODEL_NAME), \n",
    "    'OUTPUT_PATH': os.path.join('Tensorflow', 'workspace','models',CUSTOM_MODEL_NAME, 'export'), \n",
    "    'TFJS_PATH':os.path.join('Tensorflow', 'workspace','models',CUSTOM_MODEL_NAME, 'tfjsexport'), \n",
    "    'TFLITE_PATH':os.path.join('Tensorflow', 'workspace','models',CUSTOM_MODEL_NAME, 'tfliteexport'), \n",
    "    'PROTOC_PATH':os.path.join('Tensorflow','protoc')\n",
    " }"
   ]
  },
  {
   "cell_type": "code",
   "execution_count": 60,
   "metadata": {
    "id": "LwhWZMI0pfDC"
   },
   "outputs": [],
   "source": [
    "files = {\n",
    "    'PIPELINE_CONFIG':os.path.join('Tensorflow', 'workspace','models', CUSTOM_MODEL_NAME, 'pipeline.config'),\n",
    "    'TF_RECORD_SCRIPT': os.path.join(paths['SCRIPTS_PATH'], TF_RECORD_SCRIPT_NAME), \n",
    "    'LABELMAP': os.path.join(paths['ANNOTATION_PATH'], LABEL_MAP_NAME)\n",
    "}"
   ]
  },
  {
   "cell_type": "code",
   "execution_count": 61,
   "metadata": {
    "id": "HR-TfDGrpfDC"
   },
   "outputs": [],
   "source": [
    "for path in paths.values():\n",
    "    if not os.path.exists(path):\n",
    "        if os.name == 'posix':\n",
    "            !mkdir -p {path}\n",
    "        if os.name == 'nt':\n",
    "            !mkdir {path}"
   ]
  },
  {
   "cell_type": "markdown",
   "metadata": {
    "id": "OLU-rs_ipfDE"
   },
   "source": [
    "# 1. Download TF Models Pretrained Models from Tensorflow Model Zoo and Install TFOD"
   ]
  },
  {
   "cell_type": "code",
   "execution_count": null,
   "metadata": {},
   "outputs": [],
   "source": [
    "# https://www.tensorflow.org/install/source_windows"
   ]
  },
  {
   "cell_type": "code",
   "execution_count": 7,
   "metadata": {
    "id": "K-Cmz2edpfDE",
    "scrolled": true
   },
   "outputs": [
    {
     "name": "stdout",
     "output_type": "stream",
     "text": [
      "Requirement already satisfied: wget in c:\\users\\brito\\onedrive\\documentos\\1 - data science\\5 - projetos\\8 - tensorflow object detection\\tfodcourse\\tfod\\lib\\site-packages (3.2)\n"
     ]
    },
    {
     "name": "stderr",
     "output_type": "stream",
     "text": [
      "WARNING: Ignoring invalid distribution -eras (c:\\users\\brito\\onedrive\\documentos\\1 - data science\\5 - projetos\\8 - tensorflow object detection\\tfodcourse\\tfod\\lib\\site-packages)\n",
      "WARNING: Ignoring invalid distribution -eras (c:\\users\\brito\\onedrive\\documentos\\1 - data science\\5 - projetos\\8 - tensorflow object detection\\tfodcourse\\tfod\\lib\\site-packages)\n",
      "WARNING: Ignoring invalid distribution -eras (c:\\users\\brito\\onedrive\\documentos\\1 - data science\\5 - projetos\\8 - tensorflow object detection\\tfodcourse\\tfod\\lib\\site-packages)\n",
      "WARNING: Ignoring invalid distribution -eras (c:\\users\\brito\\onedrive\\documentos\\1 - data science\\5 - projetos\\8 - tensorflow object detection\\tfodcourse\\tfod\\lib\\site-packages)\n",
      "WARNING: Ignoring invalid distribution -eras (c:\\users\\brito\\onedrive\\documentos\\1 - data science\\5 - projetos\\8 - tensorflow object detection\\tfodcourse\\tfod\\lib\\site-packages)\n"
     ]
    }
   ],
   "source": [
    "if os.name=='nt':\n",
    "    !pip install wget\n",
    "    import wget"
   ]
  },
  {
   "cell_type": "code",
   "execution_count": 7,
   "metadata": {
    "id": "iA1DIq5OpfDE"
   },
   "outputs": [],
   "source": [
    "if not os.path.exists(os.path.join(paths['APIMODEL_PATH'], 'research', 'object_detection')):\n",
    "    !git clone https://github.com/tensorflow/models {paths['APIMODEL_PATH']}"
   ]
  },
  {
   "cell_type": "code",
   "execution_count": null,
   "metadata": {
    "id": "rJjMHbnDs3Tv"
   },
   "outputs": [],
   "source": [
    "# Install Tensorflow Object Detection \n",
    "if os.name=='posix':  \n",
    "    !apt-get install protobuf-compiler\n",
    "    !cd Tensorflow/models/research && protoc object_detection/protos/*.proto --python_out=. && cp object_detection/packages/tf2/setup.py . && python -m pip install . \n",
    "    \n",
    "if os.name=='nt':\n",
    "    url=\"https://github.com/protocolbuffers/protobuf/releases/download/v3.15.6/protoc-3.15.6-win64.zip\"\n",
    "    wget.download(url)\n",
    "    !move protoc-3.15.6-win64.zip {paths['PROTOC_PATH']}\n",
    "    !cd {paths['PROTOC_PATH']} && tar -xf protoc-3.15.6-win64.zip\n",
    "    os.environ['PATH'] += os.pathsep + os.path.abspath(os.path.join(paths['PROTOC_PATH'], 'bin'))   \n",
    "    !cd Tensorflow/models/research && protoc object_detection/protos/*.proto --python_out=. && copy object_detection\\\\packages\\\\tf2\\\\setup.py setup.py && python setup.py build && python setup.py install\n",
    "    !cd Tensorflow/models/research/slim && pip install -e . "
   ]
  },
  {
   "cell_type": "code",
   "execution_count": 9,
   "metadata": {
    "scrolled": true
   },
   "outputs": [
    {
     "name": "stderr",
     "output_type": "stream",
     "text": [
      "Running tests under Python 3.9.7: C:\\Users\\brito\\OneDrive\\Documentos\\1 - Data Science\\5 - Projetos\\8 - TensorFlow Object Detection\\TFODCourse\\tfod\\Scripts\\python.exe\n",
      "[ RUN      ] ModelBuilderTF2Test.test_create_center_net_deepmac\n",
      "2022-02-16 11:18:21.492197: I tensorflow/core/platform/cpu_feature_guard.cc:151] This TensorFlow binary is optimized with oneAPI Deep Neural Network Library (oneDNN) to use the following CPU instructions in performance-critical operations:  AVX AVX2\n",
      "To enable them in other operations, rebuild TensorFlow with the appropriate compiler flags.\n",
      "2022-02-16 11:18:22.085626: I tensorflow/core/common_runtime/gpu/gpu_device.cc:1525] Created device /job:localhost/replica:0/task:0/device:GPU:0 with 3957 MB memory:  -> device: 0, name: NVIDIA GeForce RTX 2060, pci bus id: 0000:06:00.0, compute capability: 7.5\n",
      "C:\\Users\\brito\\OneDrive\\Documentos\\1 - Data Science\\5 - Projetos\\8 - TensorFlow Object Detection\\TFODCourse\\tfod\\lib\\site-packages\\object_detection-0.1-py3.9.egg\\object_detection\\builders\\model_builder.py:1100: DeprecationWarning: The 'warn' function is deprecated, use 'warning' instead\n",
      "  logging.warn(('Building experimental DeepMAC meta-arch.'\n",
      "W0216 11:18:22.569635  2556 model_builder.py:1100] Building experimental DeepMAC meta-arch. Some features may be omitted.\n",
      "INFO:tensorflow:time(__main__.ModelBuilderTF2Test.test_create_center_net_deepmac): 1.38s\n",
      "I0216 11:18:22.863718  2556 test_util.py:2373] time(__main__.ModelBuilderTF2Test.test_create_center_net_deepmac): 1.38s\n",
      "[       OK ] ModelBuilderTF2Test.test_create_center_net_deepmac\n",
      "[ RUN      ] ModelBuilderTF2Test.test_create_center_net_model0 (customize_head_params=True)\n",
      "INFO:tensorflow:time(__main__.ModelBuilderTF2Test.test_create_center_net_model0 (customize_head_params=True)): 1.34s\n",
      "I0216 11:18:24.200650  2556 test_util.py:2373] time(__main__.ModelBuilderTF2Test.test_create_center_net_model0 (customize_head_params=True)): 1.34s\n",
      "[       OK ] ModelBuilderTF2Test.test_create_center_net_model0 (customize_head_params=True)\n",
      "[ RUN      ] ModelBuilderTF2Test.test_create_center_net_model1 (customize_head_params=False)\n",
      "INFO:tensorflow:time(__main__.ModelBuilderTF2Test.test_create_center_net_model1 (customize_head_params=False)): 0.32s\n",
      "I0216 11:18:24.523601  2556 test_util.py:2373] time(__main__.ModelBuilderTF2Test.test_create_center_net_model1 (customize_head_params=False)): 0.32s\n",
      "[       OK ] ModelBuilderTF2Test.test_create_center_net_model1 (customize_head_params=False)\n",
      "[ RUN      ] ModelBuilderTF2Test.test_create_center_net_model_from_keypoints\n",
      "INFO:tensorflow:time(__main__.ModelBuilderTF2Test.test_create_center_net_model_from_keypoints): 0.37s\n",
      "I0216 11:18:24.890172  2556 test_util.py:2373] time(__main__.ModelBuilderTF2Test.test_create_center_net_model_from_keypoints): 0.37s\n",
      "[       OK ] ModelBuilderTF2Test.test_create_center_net_model_from_keypoints\n",
      "[ RUN      ] ModelBuilderTF2Test.test_create_center_net_model_mobilenet\n",
      "INFO:tensorflow:time(__main__.ModelBuilderTF2Test.test_create_center_net_model_mobilenet): 1.73s\n",
      "I0216 11:18:26.619728  2556 test_util.py:2373] time(__main__.ModelBuilderTF2Test.test_create_center_net_model_mobilenet): 1.73s\n",
      "[       OK ] ModelBuilderTF2Test.test_create_center_net_model_mobilenet\n",
      "[ RUN      ] ModelBuilderTF2Test.test_create_experimental_model\n",
      "INFO:tensorflow:time(__main__.ModelBuilderTF2Test.test_create_experimental_model): 0.0s\n",
      "I0216 11:18:26.619728  2556 test_util.py:2373] time(__main__.ModelBuilderTF2Test.test_create_experimental_model): 0.0s\n",
      "[       OK ] ModelBuilderTF2Test.test_create_experimental_model\n",
      "[ RUN      ] ModelBuilderTF2Test.test_create_faster_rcnn_from_config_with_crop_feature0 (True)\n",
      "INFO:tensorflow:time(__main__.ModelBuilderTF2Test.test_create_faster_rcnn_from_config_with_crop_feature0 (True)): 0.03s\n",
      "I0216 11:18:26.646729  2556 test_util.py:2373] time(__main__.ModelBuilderTF2Test.test_create_faster_rcnn_from_config_with_crop_feature0 (True)): 0.03s\n",
      "[       OK ] ModelBuilderTF2Test.test_create_faster_rcnn_from_config_with_crop_feature0 (True)\n",
      "[ RUN      ] ModelBuilderTF2Test.test_create_faster_rcnn_from_config_with_crop_feature1 (False)\n",
      "INFO:tensorflow:time(__main__.ModelBuilderTF2Test.test_create_faster_rcnn_from_config_with_crop_feature1 (False)): 0.02s\n",
      "I0216 11:18:26.662729  2556 test_util.py:2373] time(__main__.ModelBuilderTF2Test.test_create_faster_rcnn_from_config_with_crop_feature1 (False)): 0.02s\n",
      "[       OK ] ModelBuilderTF2Test.test_create_faster_rcnn_from_config_with_crop_feature1 (False)\n",
      "[ RUN      ] ModelBuilderTF2Test.test_create_faster_rcnn_model_from_config_with_example_miner\n",
      "INFO:tensorflow:time(__main__.ModelBuilderTF2Test.test_create_faster_rcnn_model_from_config_with_example_miner): 0.02s\n",
      "I0216 11:18:26.678729  2556 test_util.py:2373] time(__main__.ModelBuilderTF2Test.test_create_faster_rcnn_model_from_config_with_example_miner): 0.02s\n",
      "[       OK ] ModelBuilderTF2Test.test_create_faster_rcnn_model_from_config_with_example_miner\n",
      "[ RUN      ] ModelBuilderTF2Test.test_create_faster_rcnn_models_from_config_faster_rcnn_with_matmul\n",
      "INFO:tensorflow:time(__main__.ModelBuilderTF2Test.test_create_faster_rcnn_models_from_config_faster_rcnn_with_matmul): 0.1s\n",
      "I0216 11:18:26.780415  2556 test_util.py:2373] time(__main__.ModelBuilderTF2Test.test_create_faster_rcnn_models_from_config_faster_rcnn_with_matmul): 0.1s\n",
      "[       OK ] ModelBuilderTF2Test.test_create_faster_rcnn_models_from_config_faster_rcnn_with_matmul\n",
      "[ RUN      ] ModelBuilderTF2Test.test_create_faster_rcnn_models_from_config_faster_rcnn_without_matmul\n",
      "INFO:tensorflow:time(__main__.ModelBuilderTF2Test.test_create_faster_rcnn_models_from_config_faster_rcnn_without_matmul): 0.21s\n",
      "I0216 11:18:26.995594  2556 test_util.py:2373] time(__main__.ModelBuilderTF2Test.test_create_faster_rcnn_models_from_config_faster_rcnn_without_matmul): 0.21s\n",
      "[       OK ] ModelBuilderTF2Test.test_create_faster_rcnn_models_from_config_faster_rcnn_without_matmul\n",
      "[ RUN      ] ModelBuilderTF2Test.test_create_faster_rcnn_models_from_config_mask_rcnn_with_matmul\n",
      "INFO:tensorflow:time(__main__.ModelBuilderTF2Test.test_create_faster_rcnn_models_from_config_mask_rcnn_with_matmul): 0.11s\n",
      "I0216 11:18:27.108321  2556 test_util.py:2373] time(__main__.ModelBuilderTF2Test.test_create_faster_rcnn_models_from_config_mask_rcnn_with_matmul): 0.11s\n",
      "[       OK ] ModelBuilderTF2Test.test_create_faster_rcnn_models_from_config_mask_rcnn_with_matmul\n",
      "[ RUN      ] ModelBuilderTF2Test.test_create_faster_rcnn_models_from_config_mask_rcnn_without_matmul\n",
      "INFO:tensorflow:time(__main__.ModelBuilderTF2Test.test_create_faster_rcnn_models_from_config_mask_rcnn_without_matmul): 0.11s\n",
      "I0216 11:18:27.219340  2556 test_util.py:2373] time(__main__.ModelBuilderTF2Test.test_create_faster_rcnn_models_from_config_mask_rcnn_without_matmul): 0.11s\n",
      "[       OK ] ModelBuilderTF2Test.test_create_faster_rcnn_models_from_config_mask_rcnn_without_matmul\n",
      "[ RUN      ] ModelBuilderTF2Test.test_create_rfcn_model_from_config\n",
      "INFO:tensorflow:time(__main__.ModelBuilderTF2Test.test_create_rfcn_model_from_config): 0.1s\n",
      "I0216 11:18:27.317996  2556 test_util.py:2373] time(__main__.ModelBuilderTF2Test.test_create_rfcn_model_from_config): 0.1s\n",
      "[       OK ] ModelBuilderTF2Test.test_create_rfcn_model_from_config\n",
      "[ RUN      ] ModelBuilderTF2Test.test_create_ssd_fpn_model_from_config\n",
      "INFO:tensorflow:time(__main__.ModelBuilderTF2Test.test_create_ssd_fpn_model_from_config): 0.03s\n",
      "I0216 11:18:27.347033  2556 test_util.py:2373] time(__main__.ModelBuilderTF2Test.test_create_ssd_fpn_model_from_config): 0.03s\n",
      "[       OK ] ModelBuilderTF2Test.test_create_ssd_fpn_model_from_config\n",
      "[ RUN      ] ModelBuilderTF2Test.test_create_ssd_models_from_config\n",
      "I0216 11:18:27.543572  2556 ssd_efficientnet_bifpn_feature_extractor.py:145] EfficientDet EfficientNet backbone version: efficientnet-b0\n",
      "I0216 11:18:27.544572  2556 ssd_efficientnet_bifpn_feature_extractor.py:147] EfficientDet BiFPN num filters: 64\n",
      "I0216 11:18:27.544572  2556 ssd_efficientnet_bifpn_feature_extractor.py:148] EfficientDet BiFPN num iterations: 3\n",
      "I0216 11:18:27.546573  2556 efficientnet_model.py:144] round_filter input=32 output=32\n",
      "I0216 11:18:27.562573  2556 efficientnet_model.py:144] round_filter input=32 output=32\n",
      "I0216 11:18:27.562573  2556 efficientnet_model.py:144] round_filter input=16 output=16\n",
      "I0216 11:18:27.621571  2556 efficientnet_model.py:144] round_filter input=16 output=16\n",
      "I0216 11:18:27.621571  2556 efficientnet_model.py:144] round_filter input=24 output=24\n",
      "I0216 11:18:27.768570  2556 efficientnet_model.py:144] round_filter input=24 output=24\n",
      "I0216 11:18:27.768570  2556 efficientnet_model.py:144] round_filter input=40 output=40\n",
      "I0216 11:18:27.928569  2556 efficientnet_model.py:144] round_filter input=40 output=40\n",
      "I0216 11:18:27.928569  2556 efficientnet_model.py:144] round_filter input=80 output=80\n",
      "I0216 11:18:28.171569  2556 efficientnet_model.py:144] round_filter input=80 output=80\n",
      "I0216 11:18:28.171569  2556 efficientnet_model.py:144] round_filter input=112 output=112\n",
      "I0216 11:18:28.425356  2556 efficientnet_model.py:144] round_filter input=112 output=112\n",
      "I0216 11:18:28.425356  2556 efficientnet_model.py:144] round_filter input=192 output=192\n",
      "I0216 11:18:28.737027  2556 efficientnet_model.py:144] round_filter input=192 output=192\n",
      "I0216 11:18:28.738028  2556 efficientnet_model.py:144] round_filter input=320 output=320\n",
      "I0216 11:18:28.814659  2556 efficientnet_model.py:144] round_filter input=1280 output=1280\n",
      "I0216 11:18:28.845991  2556 efficientnet_model.py:454] Building model efficientnet with params ModelConfig(width_coefficient=1.0, depth_coefficient=1.0, resolution=224, dropout_rate=0.2, blocks=(BlockConfig(input_filters=32, output_filters=16, kernel_size=3, num_repeat=1, expand_ratio=1, strides=(1, 1), se_ratio=0.25, id_skip=True, fused_conv=False, conv_type='depthwise'), BlockConfig(input_filters=16, output_filters=24, kernel_size=3, num_repeat=2, expand_ratio=6, strides=(2, 2), se_ratio=0.25, id_skip=True, fused_conv=False, conv_type='depthwise'), BlockConfig(input_filters=24, output_filters=40, kernel_size=5, num_repeat=2, expand_ratio=6, strides=(2, 2), se_ratio=0.25, id_skip=True, fused_conv=False, conv_type='depthwise'), BlockConfig(input_filters=40, output_filters=80, kernel_size=3, num_repeat=3, expand_ratio=6, strides=(2, 2), se_ratio=0.25, id_skip=True, fused_conv=False, conv_type='depthwise'), BlockConfig(input_filters=80, output_filters=112, kernel_size=5, num_repeat=3, expand_ratio=6, strides=(1, 1), se_ratio=0.25, id_skip=True, fused_conv=False, conv_type='depthwise'), BlockConfig(input_filters=112, output_filters=192, kernel_size=5, num_repeat=4, expand_ratio=6, strides=(2, 2), se_ratio=0.25, id_skip=True, fused_conv=False, conv_type='depthwise'), BlockConfig(input_filters=192, output_filters=320, kernel_size=3, num_repeat=1, expand_ratio=6, strides=(1, 1), se_ratio=0.25, id_skip=True, fused_conv=False, conv_type='depthwise')), stem_base_filters=32, top_base_filters=1280, activation='simple_swish', batch_norm='default', bn_momentum=0.99, bn_epsilon=0.001, weight_decay=5e-06, drop_connect_rate=0.2, depth_divisor=8, min_depth=None, use_se=True, input_channels=3, num_classes=1000, model_name='efficientnet', rescale_input=False, data_format='channels_last', dtype='float32')\n",
      "I0216 11:18:28.901451  2556 ssd_efficientnet_bifpn_feature_extractor.py:145] EfficientDet EfficientNet backbone version: efficientnet-b1\n",
      "I0216 11:18:28.901451  2556 ssd_efficientnet_bifpn_feature_extractor.py:147] EfficientDet BiFPN num filters: 88\n",
      "I0216 11:18:28.901451  2556 ssd_efficientnet_bifpn_feature_extractor.py:148] EfficientDet BiFPN num iterations: 4\n",
      "I0216 11:18:28.903451  2556 efficientnet_model.py:144] round_filter input=32 output=32\n",
      "I0216 11:18:28.918485  2556 efficientnet_model.py:144] round_filter input=32 output=32\n",
      "I0216 11:18:28.918485  2556 efficientnet_model.py:144] round_filter input=16 output=16\n",
      "I0216 11:18:29.049622  2556 efficientnet_model.py:144] round_filter input=16 output=16\n",
      "I0216 11:18:29.049622  2556 efficientnet_model.py:144] round_filter input=24 output=24\n",
      "I0216 11:18:29.273889  2556 efficientnet_model.py:144] round_filter input=24 output=24\n",
      "I0216 11:18:29.273889  2556 efficientnet_model.py:144] round_filter input=40 output=40\n",
      "I0216 11:18:29.507642  2556 efficientnet_model.py:144] round_filter input=40 output=40\n",
      "I0216 11:18:29.507642  2556 efficientnet_model.py:144] round_filter input=80 output=80\n",
      "I0216 11:18:29.823808  2556 efficientnet_model.py:144] round_filter input=80 output=80\n",
      "I0216 11:18:29.824671  2556 efficientnet_model.py:144] round_filter input=112 output=112\n",
      "I0216 11:18:30.145586  2556 efficientnet_model.py:144] round_filter input=112 output=112\n",
      "I0216 11:18:30.145586  2556 efficientnet_model.py:144] round_filter input=192 output=192\n",
      "I0216 11:18:30.658628  2556 efficientnet_model.py:144] round_filter input=192 output=192\n",
      "I0216 11:18:30.658628  2556 efficientnet_model.py:144] round_filter input=320 output=320\n",
      "I0216 11:18:30.824695  2556 efficientnet_model.py:144] round_filter input=1280 output=1280\n",
      "I0216 11:18:30.854069  2556 efficientnet_model.py:454] Building model efficientnet with params ModelConfig(width_coefficient=1.0, depth_coefficient=1.1, resolution=240, dropout_rate=0.2, blocks=(BlockConfig(input_filters=32, output_filters=16, kernel_size=3, num_repeat=1, expand_ratio=1, strides=(1, 1), se_ratio=0.25, id_skip=True, fused_conv=False, conv_type='depthwise'), BlockConfig(input_filters=16, output_filters=24, kernel_size=3, num_repeat=2, expand_ratio=6, strides=(2, 2), se_ratio=0.25, id_skip=True, fused_conv=False, conv_type='depthwise'), BlockConfig(input_filters=24, output_filters=40, kernel_size=5, num_repeat=2, expand_ratio=6, strides=(2, 2), se_ratio=0.25, id_skip=True, fused_conv=False, conv_type='depthwise'), BlockConfig(input_filters=40, output_filters=80, kernel_size=3, num_repeat=3, expand_ratio=6, strides=(2, 2), se_ratio=0.25, id_skip=True, fused_conv=False, conv_type='depthwise'), BlockConfig(input_filters=80, output_filters=112, kernel_size=5, num_repeat=3, expand_ratio=6, strides=(1, 1), se_ratio=0.25, id_skip=True, fused_conv=False, conv_type='depthwise'), BlockConfig(input_filters=112, output_filters=192, kernel_size=5, num_repeat=4, expand_ratio=6, strides=(2, 2), se_ratio=0.25, id_skip=True, fused_conv=False, conv_type='depthwise'), BlockConfig(input_filters=192, output_filters=320, kernel_size=3, num_repeat=1, expand_ratio=6, strides=(1, 1), se_ratio=0.25, id_skip=True, fused_conv=False, conv_type='depthwise')), stem_base_filters=32, top_base_filters=1280, activation='simple_swish', batch_norm='default', bn_momentum=0.99, bn_epsilon=0.001, weight_decay=5e-06, drop_connect_rate=0.2, depth_divisor=8, min_depth=None, use_se=True, input_channels=3, num_classes=1000, model_name='efficientnet', rescale_input=False, data_format='channels_last', dtype='float32')\n",
      "I0216 11:18:30.922914  2556 ssd_efficientnet_bifpn_feature_extractor.py:145] EfficientDet EfficientNet backbone version: efficientnet-b2\n",
      "I0216 11:18:30.922914  2556 ssd_efficientnet_bifpn_feature_extractor.py:147] EfficientDet BiFPN num filters: 112\n",
      "I0216 11:18:30.923912  2556 ssd_efficientnet_bifpn_feature_extractor.py:148] EfficientDet BiFPN num iterations: 5\n",
      "I0216 11:18:30.924914  2556 efficientnet_model.py:144] round_filter input=32 output=32\n",
      "I0216 11:18:30.940792  2556 efficientnet_model.py:144] round_filter input=32 output=32\n",
      "I0216 11:18:30.940792  2556 efficientnet_model.py:144] round_filter input=16 output=16\n",
      "I0216 11:18:31.070642  2556 efficientnet_model.py:144] round_filter input=16 output=16\n",
      "I0216 11:18:31.070642  2556 efficientnet_model.py:144] round_filter input=24 output=24\n",
      "I0216 11:18:31.304213  2556 efficientnet_model.py:144] round_filter input=24 output=24\n",
      "I0216 11:18:31.305212  2556 efficientnet_model.py:144] round_filter input=40 output=48\n",
      "I0216 11:18:31.528643  2556 efficientnet_model.py:144] round_filter input=40 output=48\n",
      "I0216 11:18:31.528643  2556 efficientnet_model.py:144] round_filter input=80 output=88\n",
      "I0216 11:18:31.838600  2556 efficientnet_model.py:144] round_filter input=80 output=88\n",
      "I0216 11:18:31.838600  2556 efficientnet_model.py:144] round_filter input=112 output=120\n",
      "I0216 11:18:32.153663  2556 efficientnet_model.py:144] round_filter input=112 output=120\n",
      "I0216 11:18:32.153663  2556 efficientnet_model.py:144] round_filter input=192 output=208\n",
      "I0216 11:18:32.542005  2556 efficientnet_model.py:144] round_filter input=192 output=208\n",
      "I0216 11:18:32.542005  2556 efficientnet_model.py:144] round_filter input=320 output=352\n",
      "I0216 11:18:32.698675  2556 efficientnet_model.py:144] round_filter input=1280 output=1408\n",
      "I0216 11:18:32.727675  2556 efficientnet_model.py:454] Building model efficientnet with params ModelConfig(width_coefficient=1.1, depth_coefficient=1.2, resolution=260, dropout_rate=0.3, blocks=(BlockConfig(input_filters=32, output_filters=16, kernel_size=3, num_repeat=1, expand_ratio=1, strides=(1, 1), se_ratio=0.25, id_skip=True, fused_conv=False, conv_type='depthwise'), BlockConfig(input_filters=16, output_filters=24, kernel_size=3, num_repeat=2, expand_ratio=6, strides=(2, 2), se_ratio=0.25, id_skip=True, fused_conv=False, conv_type='depthwise'), BlockConfig(input_filters=24, output_filters=40, kernel_size=5, num_repeat=2, expand_ratio=6, strides=(2, 2), se_ratio=0.25, id_skip=True, fused_conv=False, conv_type='depthwise'), BlockConfig(input_filters=40, output_filters=80, kernel_size=3, num_repeat=3, expand_ratio=6, strides=(2, 2), se_ratio=0.25, id_skip=True, fused_conv=False, conv_type='depthwise'), BlockConfig(input_filters=80, output_filters=112, kernel_size=5, num_repeat=3, expand_ratio=6, strides=(1, 1), se_ratio=0.25, id_skip=True, fused_conv=False, conv_type='depthwise'), BlockConfig(input_filters=112, output_filters=192, kernel_size=5, num_repeat=4, expand_ratio=6, strides=(2, 2), se_ratio=0.25, id_skip=True, fused_conv=False, conv_type='depthwise'), BlockConfig(input_filters=192, output_filters=320, kernel_size=3, num_repeat=1, expand_ratio=6, strides=(1, 1), se_ratio=0.25, id_skip=True, fused_conv=False, conv_type='depthwise')), stem_base_filters=32, top_base_filters=1280, activation='simple_swish', batch_norm='default', bn_momentum=0.99, bn_epsilon=0.001, weight_decay=5e-06, drop_connect_rate=0.2, depth_divisor=8, min_depth=None, use_se=True, input_channels=3, num_classes=1000, model_name='efficientnet', rescale_input=False, data_format='channels_last', dtype='float32')\n",
      "I0216 11:18:32.811678  2556 ssd_efficientnet_bifpn_feature_extractor.py:145] EfficientDet EfficientNet backbone version: efficientnet-b3\n",
      "I0216 11:18:32.812678  2556 ssd_efficientnet_bifpn_feature_extractor.py:147] EfficientDet BiFPN num filters: 160\n",
      "I0216 11:18:32.812678  2556 ssd_efficientnet_bifpn_feature_extractor.py:148] EfficientDet BiFPN num iterations: 6\n",
      "I0216 11:18:32.814678  2556 efficientnet_model.py:144] round_filter input=32 output=40\n",
      "I0216 11:18:32.831668  2556 efficientnet_model.py:144] round_filter input=32 output=40\n",
      "I0216 11:18:32.831668  2556 efficientnet_model.py:144] round_filter input=16 output=24\n",
      "I0216 11:18:32.953918  2556 efficientnet_model.py:144] round_filter input=16 output=24\n",
      "I0216 11:18:32.953918  2556 efficientnet_model.py:144] round_filter input=24 output=32\n",
      "I0216 11:18:33.197103  2556 efficientnet_model.py:144] round_filter input=24 output=32\n",
      "I0216 11:18:33.197103  2556 efficientnet_model.py:144] round_filter input=40 output=48\n",
      "I0216 11:18:33.464888  2556 efficientnet_model.py:144] round_filter input=40 output=48\n",
      "I0216 11:18:33.465888  2556 efficientnet_model.py:144] round_filter input=80 output=96\n",
      "I0216 11:18:33.862730  2556 efficientnet_model.py:144] round_filter input=80 output=96\n",
      "I0216 11:18:33.862730  2556 efficientnet_model.py:144] round_filter input=112 output=136\n",
      "I0216 11:18:34.261755  2556 efficientnet_model.py:144] round_filter input=112 output=136\n",
      "I0216 11:18:34.261755  2556 efficientnet_model.py:144] round_filter input=192 output=232\n",
      "I0216 11:18:34.917605  2556 efficientnet_model.py:144] round_filter input=192 output=232\n",
      "I0216 11:18:34.917605  2556 efficientnet_model.py:144] round_filter input=320 output=384\n",
      "I0216 11:18:35.080793  2556 efficientnet_model.py:144] round_filter input=1280 output=1536\n",
      "I0216 11:18:35.110788  2556 efficientnet_model.py:454] Building model efficientnet with params ModelConfig(width_coefficient=1.2, depth_coefficient=1.4, resolution=300, dropout_rate=0.3, blocks=(BlockConfig(input_filters=32, output_filters=16, kernel_size=3, num_repeat=1, expand_ratio=1, strides=(1, 1), se_ratio=0.25, id_skip=True, fused_conv=False, conv_type='depthwise'), BlockConfig(input_filters=16, output_filters=24, kernel_size=3, num_repeat=2, expand_ratio=6, strides=(2, 2), se_ratio=0.25, id_skip=True, fused_conv=False, conv_type='depthwise'), BlockConfig(input_filters=24, output_filters=40, kernel_size=5, num_repeat=2, expand_ratio=6, strides=(2, 2), se_ratio=0.25, id_skip=True, fused_conv=False, conv_type='depthwise'), BlockConfig(input_filters=40, output_filters=80, kernel_size=3, num_repeat=3, expand_ratio=6, strides=(2, 2), se_ratio=0.25, id_skip=True, fused_conv=False, conv_type='depthwise'), BlockConfig(input_filters=80, output_filters=112, kernel_size=5, num_repeat=3, expand_ratio=6, strides=(1, 1), se_ratio=0.25, id_skip=True, fused_conv=False, conv_type='depthwise'), BlockConfig(input_filters=112, output_filters=192, kernel_size=5, num_repeat=4, expand_ratio=6, strides=(2, 2), se_ratio=0.25, id_skip=True, fused_conv=False, conv_type='depthwise'), BlockConfig(input_filters=192, output_filters=320, kernel_size=3, num_repeat=1, expand_ratio=6, strides=(1, 1), se_ratio=0.25, id_skip=True, fused_conv=False, conv_type='depthwise')), stem_base_filters=32, top_base_filters=1280, activation='simple_swish', batch_norm='default', bn_momentum=0.99, bn_epsilon=0.001, weight_decay=5e-06, drop_connect_rate=0.2, depth_divisor=8, min_depth=None, use_se=True, input_channels=3, num_classes=1000, model_name='efficientnet', rescale_input=False, data_format='channels_last', dtype='float32')\n",
      "I0216 11:18:35.183796  2556 ssd_efficientnet_bifpn_feature_extractor.py:145] EfficientDet EfficientNet backbone version: efficientnet-b4\n",
      "I0216 11:18:35.184794  2556 ssd_efficientnet_bifpn_feature_extractor.py:147] EfficientDet BiFPN num filters: 224\n",
      "I0216 11:18:35.184794  2556 ssd_efficientnet_bifpn_feature_extractor.py:148] EfficientDet BiFPN num iterations: 7\n",
      "I0216 11:18:35.185794  2556 efficientnet_model.py:144] round_filter input=32 output=48\n",
      "I0216 11:18:35.201809  2556 efficientnet_model.py:144] round_filter input=32 output=48\n",
      "I0216 11:18:35.201809  2556 efficientnet_model.py:144] round_filter input=16 output=24\n",
      "I0216 11:18:35.321803  2556 efficientnet_model.py:144] round_filter input=16 output=24\n",
      "I0216 11:18:35.321803  2556 efficientnet_model.py:144] round_filter input=24 output=32\n",
      "I0216 11:18:35.636649  2556 efficientnet_model.py:144] round_filter input=24 output=32\n",
      "I0216 11:18:35.636649  2556 efficientnet_model.py:144] round_filter input=40 output=56\n",
      "I0216 11:18:35.955805  2556 efficientnet_model.py:144] round_filter input=40 output=56\n",
      "I0216 11:18:35.955805  2556 efficientnet_model.py:144] round_filter input=80 output=112\n",
      "I0216 11:18:36.401827  2556 efficientnet_model.py:144] round_filter input=80 output=112\n",
      "I0216 11:18:36.401827  2556 efficientnet_model.py:144] round_filter input=112 output=160\n",
      "I0216 11:18:36.875857  2556 efficientnet_model.py:144] round_filter input=112 output=160\n",
      "I0216 11:18:36.875857  2556 efficientnet_model.py:144] round_filter input=192 output=272\n",
      "I0216 11:18:37.522579  2556 efficientnet_model.py:144] round_filter input=192 output=272\n",
      "I0216 11:18:37.522579  2556 efficientnet_model.py:144] round_filter input=320 output=448\n",
      "I0216 11:18:37.677647  2556 efficientnet_model.py:144] round_filter input=1280 output=1792\n",
      "I0216 11:18:37.709871  2556 efficientnet_model.py:454] Building model efficientnet with params ModelConfig(width_coefficient=1.4, depth_coefficient=1.8, resolution=380, dropout_rate=0.4, blocks=(BlockConfig(input_filters=32, output_filters=16, kernel_size=3, num_repeat=1, expand_ratio=1, strides=(1, 1), se_ratio=0.25, id_skip=True, fused_conv=False, conv_type='depthwise'), BlockConfig(input_filters=16, output_filters=24, kernel_size=3, num_repeat=2, expand_ratio=6, strides=(2, 2), se_ratio=0.25, id_skip=True, fused_conv=False, conv_type='depthwise'), BlockConfig(input_filters=24, output_filters=40, kernel_size=5, num_repeat=2, expand_ratio=6, strides=(2, 2), se_ratio=0.25, id_skip=True, fused_conv=False, conv_type='depthwise'), BlockConfig(input_filters=40, output_filters=80, kernel_size=3, num_repeat=3, expand_ratio=6, strides=(2, 2), se_ratio=0.25, id_skip=True, fused_conv=False, conv_type='depthwise'), BlockConfig(input_filters=80, output_filters=112, kernel_size=5, num_repeat=3, expand_ratio=6, strides=(1, 1), se_ratio=0.25, id_skip=True, fused_conv=False, conv_type='depthwise'), BlockConfig(input_filters=112, output_filters=192, kernel_size=5, num_repeat=4, expand_ratio=6, strides=(2, 2), se_ratio=0.25, id_skip=True, fused_conv=False, conv_type='depthwise'), BlockConfig(input_filters=192, output_filters=320, kernel_size=3, num_repeat=1, expand_ratio=6, strides=(1, 1), se_ratio=0.25, id_skip=True, fused_conv=False, conv_type='depthwise')), stem_base_filters=32, top_base_filters=1280, activation='simple_swish', batch_norm='default', bn_momentum=0.99, bn_epsilon=0.001, weight_decay=5e-06, drop_connect_rate=0.2, depth_divisor=8, min_depth=None, use_se=True, input_channels=3, num_classes=1000, model_name='efficientnet', rescale_input=False, data_format='channels_last', dtype='float32')\n",
      "I0216 11:18:37.797691  2556 ssd_efficientnet_bifpn_feature_extractor.py:145] EfficientDet EfficientNet backbone version: efficientnet-b5\n",
      "I0216 11:18:37.797691  2556 ssd_efficientnet_bifpn_feature_extractor.py:147] EfficientDet BiFPN num filters: 288\n",
      "I0216 11:18:37.797691  2556 ssd_efficientnet_bifpn_feature_extractor.py:148] EfficientDet BiFPN num iterations: 7\n",
      "I0216 11:18:37.799920  2556 efficientnet_model.py:144] round_filter input=32 output=48\n",
      "I0216 11:18:37.819332  2556 efficientnet_model.py:144] round_filter input=32 output=48\n",
      "I0216 11:18:37.820335  2556 efficientnet_model.py:144] round_filter input=16 output=24\n",
      "I0216 11:18:38.000656  2556 efficientnet_model.py:144] round_filter input=16 output=24\n",
      "I0216 11:18:38.000656  2556 efficientnet_model.py:144] round_filter input=24 output=40\n",
      "I0216 11:18:38.384823  2556 efficientnet_model.py:144] round_filter input=24 output=40\n",
      "I0216 11:18:38.384823  2556 efficientnet_model.py:144] round_filter input=40 output=64\n",
      "I0216 11:18:38.808693  2556 efficientnet_model.py:144] round_filter input=40 output=64\n",
      "I0216 11:18:38.808693  2556 efficientnet_model.py:144] round_filter input=80 output=128\n",
      "I0216 11:18:39.593271  2556 efficientnet_model.py:144] round_filter input=80 output=128\n",
      "I0216 11:18:39.593271  2556 efficientnet_model.py:144] round_filter input=112 output=176\n",
      "I0216 11:18:40.178767  2556 efficientnet_model.py:144] round_filter input=112 output=176\n",
      "I0216 11:18:40.178767  2556 efficientnet_model.py:144] round_filter input=192 output=304\n",
      "I0216 11:18:40.902602  2556 efficientnet_model.py:144] round_filter input=192 output=304\n",
      "I0216 11:18:40.902602  2556 efficientnet_model.py:144] round_filter input=320 output=512\n",
      "I0216 11:18:41.136602  2556 efficientnet_model.py:144] round_filter input=1280 output=2048\n",
      "I0216 11:18:41.166617  2556 efficientnet_model.py:454] Building model efficientnet with params ModelConfig(width_coefficient=1.6, depth_coefficient=2.2, resolution=456, dropout_rate=0.4, blocks=(BlockConfig(input_filters=32, output_filters=16, kernel_size=3, num_repeat=1, expand_ratio=1, strides=(1, 1), se_ratio=0.25, id_skip=True, fused_conv=False, conv_type='depthwise'), BlockConfig(input_filters=16, output_filters=24, kernel_size=3, num_repeat=2, expand_ratio=6, strides=(2, 2), se_ratio=0.25, id_skip=True, fused_conv=False, conv_type='depthwise'), BlockConfig(input_filters=24, output_filters=40, kernel_size=5, num_repeat=2, expand_ratio=6, strides=(2, 2), se_ratio=0.25, id_skip=True, fused_conv=False, conv_type='depthwise'), BlockConfig(input_filters=40, output_filters=80, kernel_size=3, num_repeat=3, expand_ratio=6, strides=(2, 2), se_ratio=0.25, id_skip=True, fused_conv=False, conv_type='depthwise'), BlockConfig(input_filters=80, output_filters=112, kernel_size=5, num_repeat=3, expand_ratio=6, strides=(1, 1), se_ratio=0.25, id_skip=True, fused_conv=False, conv_type='depthwise'), BlockConfig(input_filters=112, output_filters=192, kernel_size=5, num_repeat=4, expand_ratio=6, strides=(2, 2), se_ratio=0.25, id_skip=True, fused_conv=False, conv_type='depthwise'), BlockConfig(input_filters=192, output_filters=320, kernel_size=3, num_repeat=1, expand_ratio=6, strides=(1, 1), se_ratio=0.25, id_skip=True, fused_conv=False, conv_type='depthwise')), stem_base_filters=32, top_base_filters=1280, activation='simple_swish', batch_norm='default', bn_momentum=0.99, bn_epsilon=0.001, weight_decay=5e-06, drop_connect_rate=0.2, depth_divisor=8, min_depth=None, use_se=True, input_channels=3, num_classes=1000, model_name='efficientnet', rescale_input=False, data_format='channels_last', dtype='float32')\n",
      "I0216 11:18:41.262633  2556 ssd_efficientnet_bifpn_feature_extractor.py:145] EfficientDet EfficientNet backbone version: efficientnet-b6\n",
      "I0216 11:18:41.262633  2556 ssd_efficientnet_bifpn_feature_extractor.py:147] EfficientDet BiFPN num filters: 384\n",
      "I0216 11:18:41.262633  2556 ssd_efficientnet_bifpn_feature_extractor.py:148] EfficientDet BiFPN num iterations: 8\n",
      "I0216 11:18:41.264631  2556 efficientnet_model.py:144] round_filter input=32 output=56\n",
      "I0216 11:18:41.281633  2556 efficientnet_model.py:144] round_filter input=32 output=56\n",
      "I0216 11:18:41.281633  2556 efficientnet_model.py:144] round_filter input=16 output=32\n",
      "I0216 11:18:41.468567  2556 efficientnet_model.py:144] round_filter input=16 output=32\n",
      "I0216 11:18:41.468567  2556 efficientnet_model.py:144] round_filter input=24 output=40\n",
      "I0216 11:18:41.959653  2556 efficientnet_model.py:144] round_filter input=24 output=40\n",
      "I0216 11:18:41.959653  2556 efficientnet_model.py:144] round_filter input=40 output=72\n",
      "I0216 11:18:42.437748  2556 efficientnet_model.py:144] round_filter input=40 output=72\n",
      "I0216 11:18:42.437748  2556 efficientnet_model.py:144] round_filter input=80 output=144\n",
      "I0216 11:18:43.069650  2556 efficientnet_model.py:144] round_filter input=80 output=144\n",
      "I0216 11:18:43.069650  2556 efficientnet_model.py:144] round_filter input=112 output=200\n",
      "I0216 11:18:43.723692  2556 efficientnet_model.py:144] round_filter input=112 output=200\n",
      "I0216 11:18:43.724693  2556 efficientnet_model.py:144] round_filter input=192 output=344\n",
      "I0216 11:18:44.802135  2556 efficientnet_model.py:144] round_filter input=192 output=344\n",
      "I0216 11:18:44.802135  2556 efficientnet_model.py:144] round_filter input=320 output=576\n",
      "I0216 11:18:45.040892  2556 efficientnet_model.py:144] round_filter input=1280 output=2304\n",
      "I0216 11:18:45.072889  2556 efficientnet_model.py:454] Building model efficientnet with params ModelConfig(width_coefficient=1.8, depth_coefficient=2.6, resolution=528, dropout_rate=0.5, blocks=(BlockConfig(input_filters=32, output_filters=16, kernel_size=3, num_repeat=1, expand_ratio=1, strides=(1, 1), se_ratio=0.25, id_skip=True, fused_conv=False, conv_type='depthwise'), BlockConfig(input_filters=16, output_filters=24, kernel_size=3, num_repeat=2, expand_ratio=6, strides=(2, 2), se_ratio=0.25, id_skip=True, fused_conv=False, conv_type='depthwise'), BlockConfig(input_filters=24, output_filters=40, kernel_size=5, num_repeat=2, expand_ratio=6, strides=(2, 2), se_ratio=0.25, id_skip=True, fused_conv=False, conv_type='depthwise'), BlockConfig(input_filters=40, output_filters=80, kernel_size=3, num_repeat=3, expand_ratio=6, strides=(2, 2), se_ratio=0.25, id_skip=True, fused_conv=False, conv_type='depthwise'), BlockConfig(input_filters=80, output_filters=112, kernel_size=5, num_repeat=3, expand_ratio=6, strides=(1, 1), se_ratio=0.25, id_skip=True, fused_conv=False, conv_type='depthwise'), BlockConfig(input_filters=112, output_filters=192, kernel_size=5, num_repeat=4, expand_ratio=6, strides=(2, 2), se_ratio=0.25, id_skip=True, fused_conv=False, conv_type='depthwise'), BlockConfig(input_filters=192, output_filters=320, kernel_size=3, num_repeat=1, expand_ratio=6, strides=(1, 1), se_ratio=0.25, id_skip=True, fused_conv=False, conv_type='depthwise')), stem_base_filters=32, top_base_filters=1280, activation='simple_swish', batch_norm='default', bn_momentum=0.99, bn_epsilon=0.001, weight_decay=5e-06, drop_connect_rate=0.2, depth_divisor=8, min_depth=None, use_se=True, input_channels=3, num_classes=1000, model_name='efficientnet', rescale_input=False, data_format='channels_last', dtype='float32')\n",
      "I0216 11:18:45.184804  2556 ssd_efficientnet_bifpn_feature_extractor.py:145] EfficientDet EfficientNet backbone version: efficientnet-b7\n",
      "I0216 11:18:45.184804  2556 ssd_efficientnet_bifpn_feature_extractor.py:147] EfficientDet BiFPN num filters: 384\n",
      "I0216 11:18:45.184804  2556 ssd_efficientnet_bifpn_feature_extractor.py:148] EfficientDet BiFPN num iterations: 8\n",
      "I0216 11:18:45.186803  2556 efficientnet_model.py:144] round_filter input=32 output=64\n",
      "I0216 11:18:45.203155  2556 efficientnet_model.py:144] round_filter input=32 output=64\n",
      "I0216 11:18:45.204151  2556 efficientnet_model.py:144] round_filter input=16 output=32\n",
      "I0216 11:18:45.463751  2556 efficientnet_model.py:144] round_filter input=16 output=32\n",
      "I0216 11:18:45.463751  2556 efficientnet_model.py:144] round_filter input=24 output=48\n",
      "I0216 11:18:46.030769  2556 efficientnet_model.py:144] round_filter input=24 output=48\n",
      "I0216 11:18:46.030769  2556 efficientnet_model.py:144] round_filter input=40 output=80\n",
      "I0216 11:18:46.606572  2556 efficientnet_model.py:144] round_filter input=40 output=80\n",
      "I0216 11:18:46.606572  2556 efficientnet_model.py:144] round_filter input=80 output=160\n",
      "I0216 11:18:47.434973  2556 efficientnet_model.py:144] round_filter input=80 output=160\n",
      "I0216 11:18:47.434973  2556 efficientnet_model.py:144] round_filter input=112 output=224\n",
      "I0216 11:18:48.200742  2556 efficientnet_model.py:144] round_filter input=112 output=224\n",
      "I0216 11:18:48.200742  2556 efficientnet_model.py:144] round_filter input=192 output=384\n",
      "I0216 11:18:49.248562  2556 efficientnet_model.py:144] round_filter input=192 output=384\n",
      "I0216 11:18:49.249562  2556 efficientnet_model.py:144] round_filter input=320 output=640\n",
      "I0216 11:18:49.776798  2556 efficientnet_model.py:144] round_filter input=1280 output=2560\n",
      "I0216 11:18:49.816799  2556 efficientnet_model.py:454] Building model efficientnet with params ModelConfig(width_coefficient=2.0, depth_coefficient=3.1, resolution=600, dropout_rate=0.5, blocks=(BlockConfig(input_filters=32, output_filters=16, kernel_size=3, num_repeat=1, expand_ratio=1, strides=(1, 1), se_ratio=0.25, id_skip=True, fused_conv=False, conv_type='depthwise'), BlockConfig(input_filters=16, output_filters=24, kernel_size=3, num_repeat=2, expand_ratio=6, strides=(2, 2), se_ratio=0.25, id_skip=True, fused_conv=False, conv_type='depthwise'), BlockConfig(input_filters=24, output_filters=40, kernel_size=5, num_repeat=2, expand_ratio=6, strides=(2, 2), se_ratio=0.25, id_skip=True, fused_conv=False, conv_type='depthwise'), BlockConfig(input_filters=40, output_filters=80, kernel_size=3, num_repeat=3, expand_ratio=6, strides=(2, 2), se_ratio=0.25, id_skip=True, fused_conv=False, conv_type='depthwise'), BlockConfig(input_filters=80, output_filters=112, kernel_size=5, num_repeat=3, expand_ratio=6, strides=(1, 1), se_ratio=0.25, id_skip=True, fused_conv=False, conv_type='depthwise'), BlockConfig(input_filters=112, output_filters=192, kernel_size=5, num_repeat=4, expand_ratio=6, strides=(2, 2), se_ratio=0.25, id_skip=True, fused_conv=False, conv_type='depthwise'), BlockConfig(input_filters=192, output_filters=320, kernel_size=3, num_repeat=1, expand_ratio=6, strides=(1, 1), se_ratio=0.25, id_skip=True, fused_conv=False, conv_type='depthwise')), stem_base_filters=32, top_base_filters=1280, activation='simple_swish', batch_norm='default', bn_momentum=0.99, bn_epsilon=0.001, weight_decay=5e-06, drop_connect_rate=0.2, depth_divisor=8, min_depth=None, use_se=True, input_channels=3, num_classes=1000, model_name='efficientnet', rescale_input=False, data_format='channels_last', dtype='float32')\n",
      "INFO:tensorflow:time(__main__.ModelBuilderTF2Test.test_create_ssd_models_from_config): 22.6s\n",
      "I0216 11:18:49.947927  2556 test_util.py:2373] time(__main__.ModelBuilderTF2Test.test_create_ssd_models_from_config): 22.6s\n",
      "[       OK ] ModelBuilderTF2Test.test_create_ssd_models_from_config\n",
      "[ RUN      ] ModelBuilderTF2Test.test_invalid_faster_rcnn_batchnorm_update\n",
      "INFO:tensorflow:time(__main__.ModelBuilderTF2Test.test_invalid_faster_rcnn_batchnorm_update): 0.0s\n",
      "I0216 11:18:49.953332  2556 test_util.py:2373] time(__main__.ModelBuilderTF2Test.test_invalid_faster_rcnn_batchnorm_update): 0.0s\n",
      "[       OK ] ModelBuilderTF2Test.test_invalid_faster_rcnn_batchnorm_update\n",
      "[ RUN      ] ModelBuilderTF2Test.test_invalid_first_stage_nms_iou_threshold\n",
      "INFO:tensorflow:time(__main__.ModelBuilderTF2Test.test_invalid_first_stage_nms_iou_threshold): 0.0s\n",
      "I0216 11:18:49.955332  2556 test_util.py:2373] time(__main__.ModelBuilderTF2Test.test_invalid_first_stage_nms_iou_threshold): 0.0s\n",
      "[       OK ] ModelBuilderTF2Test.test_invalid_first_stage_nms_iou_threshold\n",
      "[ RUN      ] ModelBuilderTF2Test.test_invalid_model_config_proto\n",
      "INFO:tensorflow:time(__main__.ModelBuilderTF2Test.test_invalid_model_config_proto): 0.0s\n",
      "I0216 11:18:49.955332  2556 test_util.py:2373] time(__main__.ModelBuilderTF2Test.test_invalid_model_config_proto): 0.0s\n",
      "[       OK ] ModelBuilderTF2Test.test_invalid_model_config_proto\n",
      "[ RUN      ] ModelBuilderTF2Test.test_invalid_second_stage_batch_size\n",
      "INFO:tensorflow:time(__main__.ModelBuilderTF2Test.test_invalid_second_stage_batch_size): 0.0s\n",
      "I0216 11:18:49.958332  2556 test_util.py:2373] time(__main__.ModelBuilderTF2Test.test_invalid_second_stage_batch_size): 0.0s\n",
      "[       OK ] ModelBuilderTF2Test.test_invalid_second_stage_batch_size\n",
      "[ RUN      ] ModelBuilderTF2Test.test_session\n",
      "[  SKIPPED ] ModelBuilderTF2Test.test_session\n",
      "[ RUN      ] ModelBuilderTF2Test.test_unknown_faster_rcnn_feature_extractor\n",
      "INFO:tensorflow:time(__main__.ModelBuilderTF2Test.test_unknown_faster_rcnn_feature_extractor): 0.0s\n",
      "I0216 11:18:49.960335  2556 test_util.py:2373] time(__main__.ModelBuilderTF2Test.test_unknown_faster_rcnn_feature_extractor): 0.0s\n",
      "[       OK ] ModelBuilderTF2Test.test_unknown_faster_rcnn_feature_extractor\n",
      "[ RUN      ] ModelBuilderTF2Test.test_unknown_meta_architecture\n",
      "INFO:tensorflow:time(__main__.ModelBuilderTF2Test.test_unknown_meta_architecture): 0.0s\n",
      "I0216 11:18:49.960335  2556 test_util.py:2373] time(__main__.ModelBuilderTF2Test.test_unknown_meta_architecture): 0.0s\n",
      "[       OK ] ModelBuilderTF2Test.test_unknown_meta_architecture\n",
      "[ RUN      ] ModelBuilderTF2Test.test_unknown_ssd_feature_extractor\n",
      "INFO:tensorflow:time(__main__.ModelBuilderTF2Test.test_unknown_ssd_feature_extractor): 0.0s\n",
      "I0216 11:18:49.961349  2556 test_util.py:2373] time(__main__.ModelBuilderTF2Test.test_unknown_ssd_feature_extractor): 0.0s\n",
      "[       OK ] ModelBuilderTF2Test.test_unknown_ssd_feature_extractor\n",
      "----------------------------------------------------------------------\n",
      "Ran 24 tests in 28.483s\n",
      "\n",
      "OK (skipped=1)\n"
     ]
    }
   ],
   "source": [
    "VERIFICATION_SCRIPT = os.path.join(paths['APIMODEL_PATH'], 'research', 'object_detection', 'builders', 'model_builder_tf2_test.py')\n",
    "# Verify Installation\n",
    "!python {VERIFICATION_SCRIPT}"
   ]
  },
  {
   "cell_type": "code",
   "execution_count": null,
   "metadata": {},
   "outputs": [],
   "source": [
    "!pip install pyyaml"
   ]
  },
  {
   "cell_type": "code",
   "execution_count": 9,
   "metadata": {},
   "outputs": [
    {
     "name": "stdout",
     "output_type": "stream",
     "text": [
      "Requirement already satisfied: tensorflow in c:\\users\\brito\\onedrive\\documentos\\1 - data science\\5 - projetos\\8 - tensorflow object detection\\tfodcourse\\tfod\\lib\\site-packages (2.8.0)\n",
      "Requirement already satisfied: protobuf>=3.9.2 in c:\\users\\brito\\onedrive\\documentos\\1 - data science\\5 - projetos\\8 - tensorflow object detection\\tfodcourse\\tfod\\lib\\site-packages (from tensorflow) (3.19.4)\n",
      "Requirement already satisfied: tensorboard<2.9,>=2.8 in c:\\users\\brito\\onedrive\\documentos\\1 - data science\\5 - projetos\\8 - tensorflow object detection\\tfodcourse\\tfod\\lib\\site-packages (from tensorflow) (2.8.0)\n",
      "Requirement already satisfied: wrapt>=1.11.0 in c:\\users\\brito\\onedrive\\documentos\\1 - data science\\5 - projetos\\8 - tensorflow object detection\\tfodcourse\\tfod\\lib\\site-packages (from tensorflow) (1.12.1)\n",
      "Requirement already satisfied: setuptools in c:\\users\\brito\\onedrive\\documentos\\1 - data science\\5 - projetos\\8 - tensorflow object detection\\tfodcourse\\tfod\\lib\\site-packages (from tensorflow) (60.9.1)\n",
      "Requirement already satisfied: six>=1.12.0 in c:\\users\\brito\\onedrive\\documentos\\1 - data science\\5 - projetos\\8 - tensorflow object detection\\tfodcourse\\tfod\\lib\\site-packages (from tensorflow) (1.15.0)\n",
      "Collecting numpy>=1.20\n"
     ]
    },
    {
     "name": "stderr",
     "output_type": "stream",
     "text": [
      "ERROR: pip's dependency resolver does not currently take into account all the packages that are installed. This behaviour is the source of the following dependency conflicts.\n",
      "object-detection 0.1 requires apache-beam, which is not installed.\n",
      "object-detection 0.1 requires avro-python3, which is not installed.\n",
      "tf-models-official 2.8.0 requires gin-config, which is not installed.\n",
      "tf-models-official 2.8.0 requires google-api-python-client>=1.6.7, which is not installed.\n",
      "tf-models-official 2.8.0 requires kaggle>=1.3.9, which is not installed.\n",
      "tf-models-official 2.8.0 requires oauth2client, which is not installed.\n",
      "tf-models-official 2.8.0 requires opencv-python-headless, which is not installed.\n",
      "tf-models-official 2.8.0 requires psutil>=5.4.3, which is not installed.\n",
      "tf-models-official 2.8.0 requires py-cpuinfo>=3.3.0, which is not installed.\n",
      "tf-models-official 2.8.0 requires sacrebleu, which is not installed.\n",
      "tf-models-official 2.8.0 requires sentencepiece, which is not installed.\n",
      "tf-models-official 2.8.0 requires seqeval, which is not installed.\n",
      "tf-models-official 2.8.0 requires tensorflow-addons, which is not installed.\n",
      "tf-models-official 2.8.0 requires tensorflow-datasets, which is not installed.\n",
      "tf-models-official 2.8.0 requires tensorflow-hub>=0.6.0, which is not installed.\n",
      "tf-models-official 2.8.0 requires tensorflow-model-optimization>=0.4.1, which is not installed.\n",
      "tf-models-official 2.8.0 requires tensorflow-text~=2.8.0, which is not installed.\n",
      "tensorflow-gpu 2.6.0 requires numpy~=1.19.2, but you have numpy 1.22.2 which is incompatible.\n",
      "tf-models-official 2.8.0 requires pyyaml<6.0,>=5.1, but you have pyyaml 6.0 which is incompatible.\n"
     ]
    },
    {
     "name": "stdout",
     "output_type": "stream",
     "text": [
      "  Using cached numpy-1.22.2-cp39-cp39-win_amd64.whl (14.7 MB)\n",
      "Requirement already satisfied: tensorflow-io-gcs-filesystem>=0.23.1 in c:\\users\\brito\\onedrive\\documentos\\1 - data science\\5 - projetos\\8 - tensorflow object detection\\tfodcourse\\tfod\\lib\\site-packages (from tensorflow) (0.24.0)\n",
      "Requirement already satisfied: typing-extensions>=3.6.6 in c:\\users\\brito\\onedrive\\documentos\\1 - data science\\5 - projetos\\8 - tensorflow object detection\\tfodcourse\\tfod\\lib\\site-packages (from tensorflow) (3.7.4.3)\n",
      "Requirement already satisfied: flatbuffers>=1.12 in c:\\users\\brito\\onedrive\\documentos\\1 - data science\\5 - projetos\\8 - tensorflow object detection\\tfodcourse\\tfod\\lib\\site-packages (from tensorflow) (1.12)\n",
      "Collecting keras-preprocessing>=1.1.1\n",
      "  Using cached Keras_Preprocessing-1.1.2-py2.py3-none-any.whl (42 kB)\n",
      "Requirement already satisfied: grpcio<2.0,>=1.24.3 in c:\\users\\brito\\onedrive\\documentos\\1 - data science\\5 - projetos\\8 - tensorflow object detection\\tfodcourse\\tfod\\lib\\site-packages (from tensorflow) (1.43.0)\n",
      "Requirement already satisfied: google-pasta>=0.1.1 in c:\\users\\brito\\onedrive\\documentos\\1 - data science\\5 - projetos\\8 - tensorflow object detection\\tfodcourse\\tfod\\lib\\site-packages (from tensorflow) (0.2.0)\n",
      "Requirement already satisfied: termcolor>=1.1.0 in c:\\users\\brito\\onedrive\\documentos\\1 - data science\\5 - projetos\\8 - tensorflow object detection\\tfodcourse\\tfod\\lib\\site-packages (from tensorflow) (1.1.0)\n",
      "Requirement already satisfied: h5py>=2.9.0 in c:\\users\\brito\\onedrive\\documentos\\1 - data science\\5 - projetos\\8 - tensorflow object detection\\tfodcourse\\tfod\\lib\\site-packages (from tensorflow) (3.1.0)\n",
      "Requirement already satisfied: gast>=0.2.1 in c:\\users\\brito\\onedrive\\documentos\\1 - data science\\5 - projetos\\8 - tensorflow object detection\\tfodcourse\\tfod\\lib\\site-packages (from tensorflow) (0.4.0)\n",
      "Requirement already satisfied: absl-py>=0.4.0 in c:\\users\\brito\\onedrive\\documentos\\1 - data science\\5 - projetos\\8 - tensorflow object detection\\tfodcourse\\tfod\\lib\\site-packages (from tensorflow) (0.15.0)\n",
      "Requirement already satisfied: libclang>=9.0.1 in c:\\users\\brito\\onedrive\\documentos\\1 - data science\\5 - projetos\\8 - tensorflow object detection\\tfodcourse\\tfod\\lib\\site-packages (from tensorflow) (13.0.0)\n",
      "Requirement already satisfied: astunparse>=1.6.0 in c:\\users\\brito\\onedrive\\documentos\\1 - data science\\5 - projetos\\8 - tensorflow object detection\\tfodcourse\\tfod\\lib\\site-packages (from tensorflow) (1.6.3)\n",
      "Requirement already satisfied: tf-estimator-nightly==2.8.0.dev2021122109 in c:\\users\\brito\\onedrive\\documentos\\1 - data science\\5 - projetos\\8 - tensorflow object detection\\tfodcourse\\tfod\\lib\\site-packages (from tensorflow) (2.8.0.dev2021122109)\n",
      "Collecting keras<2.9,>=2.8.0rc0\n",
      "  Using cached keras-2.8.0-py2.py3-none-any.whl (1.4 MB)\n",
      "Requirement already satisfied: opt-einsum>=2.3.2 in c:\\users\\brito\\onedrive\\documentos\\1 - data science\\5 - projetos\\8 - tensorflow object detection\\tfodcourse\\tfod\\lib\\site-packages (from tensorflow) (3.3.0)\n",
      "Requirement already satisfied: wheel<1.0,>=0.23.0 in c:\\users\\brito\\onedrive\\documentos\\1 - data science\\5 - projetos\\8 - tensorflow object detection\\tfodcourse\\tfod\\lib\\site-packages (from astunparse>=1.6.0->tensorflow) (0.37.1)\n",
      "Requirement already satisfied: google-auth<3,>=1.6.3 in c:\\users\\brito\\onedrive\\documentos\\1 - data science\\5 - projetos\\8 - tensorflow object detection\\tfodcourse\\tfod\\lib\\site-packages (from tensorboard<2.9,>=2.8->tensorflow) (2.6.0)\n",
      "Requirement already satisfied: markdown>=2.6.8 in c:\\users\\brito\\onedrive\\documentos\\1 - data science\\5 - projetos\\8 - tensorflow object detection\\tfodcourse\\tfod\\lib\\site-packages (from tensorboard<2.9,>=2.8->tensorflow) (3.3.6)\n",
      "Requirement already satisfied: requests<3,>=2.21.0 in c:\\users\\brito\\onedrive\\documentos\\1 - data science\\5 - projetos\\8 - tensorflow object detection\\tfodcourse\\tfod\\lib\\site-packages (from tensorboard<2.9,>=2.8->tensorflow) (2.27.1)\n",
      "Requirement already satisfied: werkzeug>=0.11.15 in c:\\users\\brito\\onedrive\\documentos\\1 - data science\\5 - projetos\\8 - tensorflow object detection\\tfodcourse\\tfod\\lib\\site-packages (from tensorboard<2.9,>=2.8->tensorflow) (2.0.3)\n",
      "Requirement already satisfied: google-auth-oauthlib<0.5,>=0.4.1 in c:\\users\\brito\\onedrive\\documentos\\1 - data science\\5 - projetos\\8 - tensorflow object detection\\tfodcourse\\tfod\\lib\\site-packages (from tensorboard<2.9,>=2.8->tensorflow) (0.4.6)\n",
      "Requirement already satisfied: tensorboard-plugin-wit>=1.6.0 in c:\\users\\brito\\onedrive\\documentos\\1 - data science\\5 - projetos\\8 - tensorflow object detection\\tfodcourse\\tfod\\lib\\site-packages (from tensorboard<2.9,>=2.8->tensorflow) (1.8.1)\n",
      "Requirement already satisfied: tensorboard-data-server<0.7.0,>=0.6.0 in c:\\users\\brito\\onedrive\\documentos\\1 - data science\\5 - projetos\\8 - tensorflow object detection\\tfodcourse\\tfod\\lib\\site-packages (from tensorboard<2.9,>=2.8->tensorflow) (0.6.1)\n",
      "Requirement already satisfied: rsa<5,>=3.1.4 in c:\\users\\brito\\onedrive\\documentos\\1 - data science\\5 - projetos\\8 - tensorflow object detection\\tfodcourse\\tfod\\lib\\site-packages (from google-auth<3,>=1.6.3->tensorboard<2.9,>=2.8->tensorflow) (4.8)\n",
      "Requirement already satisfied: cachetools<6.0,>=2.0.0 in c:\\users\\brito\\onedrive\\documentos\\1 - data science\\5 - projetos\\8 - tensorflow object detection\\tfodcourse\\tfod\\lib\\site-packages (from google-auth<3,>=1.6.3->tensorboard<2.9,>=2.8->tensorflow) (5.0.0)\n",
      "Requirement already satisfied: pyasn1-modules>=0.2.1 in c:\\users\\brito\\onedrive\\documentos\\1 - data science\\5 - projetos\\8 - tensorflow object detection\\tfodcourse\\tfod\\lib\\site-packages (from google-auth<3,>=1.6.3->tensorboard<2.9,>=2.8->tensorflow) (0.2.8)\n",
      "Requirement already satisfied: requests-oauthlib>=0.7.0 in c:\\users\\brito\\onedrive\\documentos\\1 - data science\\5 - projetos\\8 - tensorflow object detection\\tfodcourse\\tfod\\lib\\site-packages (from google-auth-oauthlib<0.5,>=0.4.1->tensorboard<2.9,>=2.8->tensorflow) (1.3.1)\n",
      "Requirement already satisfied: importlib-metadata>=4.4 in c:\\users\\brito\\onedrive\\documentos\\1 - data science\\5 - projetos\\8 - tensorflow object detection\\tfodcourse\\tfod\\lib\\site-packages (from markdown>=2.6.8->tensorboard<2.9,>=2.8->tensorflow) (4.11.1)\n",
      "Requirement already satisfied: certifi>=2017.4.17 in c:\\users\\brito\\onedrive\\documentos\\1 - data science\\5 - projetos\\8 - tensorflow object detection\\tfodcourse\\tfod\\lib\\site-packages (from requests<3,>=2.21.0->tensorboard<2.9,>=2.8->tensorflow) (2021.10.8)\n",
      "Requirement already satisfied: idna<4,>=2.5 in c:\\users\\brito\\onedrive\\documentos\\1 - data science\\5 - projetos\\8 - tensorflow object detection\\tfodcourse\\tfod\\lib\\site-packages (from requests<3,>=2.21.0->tensorboard<2.9,>=2.8->tensorflow) (3.3)\n",
      "Requirement already satisfied: urllib3<1.27,>=1.21.1 in c:\\users\\brito\\onedrive\\documentos\\1 - data science\\5 - projetos\\8 - tensorflow object detection\\tfodcourse\\tfod\\lib\\site-packages (from requests<3,>=2.21.0->tensorboard<2.9,>=2.8->tensorflow) (1.26.8)\n",
      "Requirement already satisfied: charset-normalizer~=2.0.0 in c:\\users\\brito\\onedrive\\documentos\\1 - data science\\5 - projetos\\8 - tensorflow object detection\\tfodcourse\\tfod\\lib\\site-packages (from requests<3,>=2.21.0->tensorboard<2.9,>=2.8->tensorflow) (2.0.12)\n",
      "Requirement already satisfied: zipp>=0.5 in c:\\users\\brito\\onedrive\\documentos\\1 - data science\\5 - projetos\\8 - tensorflow object detection\\tfodcourse\\tfod\\lib\\site-packages (from importlib-metadata>=4.4->markdown>=2.6.8->tensorboard<2.9,>=2.8->tensorflow) (3.7.0)\n",
      "Requirement already satisfied: pyasn1<0.5.0,>=0.4.6 in c:\\users\\brito\\onedrive\\documentos\\1 - data science\\5 - projetos\\8 - tensorflow object detection\\tfodcourse\\tfod\\lib\\site-packages (from pyasn1-modules>=0.2.1->google-auth<3,>=1.6.3->tensorboard<2.9,>=2.8->tensorflow) (0.4.8)\n",
      "Requirement already satisfied: oauthlib>=3.0.0 in c:\\users\\brito\\onedrive\\documentos\\1 - data science\\5 - projetos\\8 - tensorflow object detection\\tfodcourse\\tfod\\lib\\site-packages (from requests-oauthlib>=0.7.0->google-auth-oauthlib<0.5,>=0.4.1->tensorboard<2.9,>=2.8->tensorflow) (3.2.0)\n",
      "Installing collected packages: keras, numpy, keras-preprocessing\n",
      "  Attempting uninstall: numpy\n",
      "    Found existing installation: numpy 1.19.5\n",
      "    Uninstalling numpy-1.19.5:\n",
      "      Successfully uninstalled numpy-1.19.5\n",
      "Successfully installed keras-2.8.0 keras-preprocessing-1.1.2 numpy-1.22.2\n"
     ]
    }
   ],
   "source": [
    "!pip install tensorflow --upgrade"
   ]
  },
  {
   "cell_type": "code",
   "execution_count": null,
   "metadata": {},
   "outputs": [],
   "source": [
    "!pip uninstall protobuf matplotlib -y\n",
    "!pip install protobuf matplotlib"
   ]
  },
  {
   "cell_type": "code",
   "execution_count": null,
   "metadata": {
    "scrolled": true
   },
   "outputs": [],
   "source": [
    "import object_detection"
   ]
  },
  {
   "cell_type": "code",
   "execution_count": null,
   "metadata": {},
   "outputs": [],
   "source": [
    "!pip list"
   ]
  },
  {
   "cell_type": "code",
   "execution_count": null,
   "metadata": {
    "colab": {
     "base_uri": "https://localhost:8080/"
    },
    "id": "csofht2npfDE",
    "outputId": "ff5471b2-bed2-43f2-959c-327a706527b6"
   },
   "outputs": [],
   "source": [
    "if os.name =='posix':\n",
    "    !wget {PRETRAINED_MODEL_URL}\n",
    "    !mv {PRETRAINED_MODEL_NAME+'.tar.gz'} {paths['PRETRAINED_MODEL_PATH']}\n",
    "    !cd {paths['PRETRAINED_MODEL_PATH']} && tar -zxvf {PRETRAINED_MODEL_NAME+'.tar.gz'}\n",
    "if os.name == 'nt':\n",
    "    wget.download(PRETRAINED_MODEL_URL)\n",
    "    !move {PRETRAINED_MODEL_NAME+'.tar.gz'} {paths['PRETRAINED_MODEL_PATH']}\n",
    "    !cd {paths['PRETRAINED_MODEL_PATH']} && tar -zxvf {PRETRAINED_MODEL_NAME+'.tar.gz'}"
   ]
  },
  {
   "cell_type": "markdown",
   "metadata": {
    "id": "M5KJTnkfpfDC"
   },
   "source": [
    "# 2. Create Label Map"
   ]
  },
  {
   "cell_type": "code",
   "execution_count": 65,
   "metadata": {
    "id": "p1BVDWo7pfDC"
   },
   "outputs": [],
   "source": [
    "labels = [{'name':'ThumbsUp', 'id':1}, {'name':'ThumbsDown', 'id':2}, {'name':'ThankYou', 'id':3}, {'name':'LiveLong', 'id':4}]\n",
    "\n",
    "with open(files['LABELMAP'], 'w') as f:\n",
    "    for label in labels:\n",
    "        f.write('item { \\n')\n",
    "        f.write('\\tname:\\'{}\\'\\n'.format(label['name']))\n",
    "        f.write('\\tid:{}\\n'.format(label['id']))\n",
    "        f.write('}\\n')"
   ]
  },
  {
   "cell_type": "markdown",
   "metadata": {
    "id": "C88zyVELpfDC"
   },
   "source": [
    "# 3. Create TF records"
   ]
  },
  {
   "cell_type": "code",
   "execution_count": 66,
   "metadata": {
    "colab": {
     "base_uri": "https://localhost:8080/"
    },
    "id": "KWpb_BVUpfDD",
    "outputId": "56ce2a3f-3933-4ee6-8a9d-d5ec65f7d73c"
   },
   "outputs": [],
   "source": [
    "if not os.path.exists(files['TF_RECORD_SCRIPT']):\n",
    "    !git clone https://github.com/nicknochnack/GenerateTFRecord {paths['SCRIPTS_PATH']}"
   ]
  },
  {
   "cell_type": "code",
   "execution_count": 67,
   "metadata": {
    "colab": {
     "base_uri": "https://localhost:8080/"
    },
    "id": "UPFToGZqpfDD",
    "outputId": "0ebb456f-aadc-4a1f-96e6-fbfec1923e1c"
   },
   "outputs": [
    {
     "name": "stdout",
     "output_type": "stream",
     "text": [
      "Successfully created the TFRecord file: Tensorflow\\workspace\\annotations\\train.record\n",
      "Successfully created the TFRecord file: Tensorflow\\workspace\\annotations\\test.record\n"
     ]
    }
   ],
   "source": [
    "!python {files['TF_RECORD_SCRIPT']} -x {os.path.join(paths['IMAGE_PATH'], 'train')} -l {files['LABELMAP']} -o {os.path.join(paths['ANNOTATION_PATH'], 'train.record')} \n",
    "!python {files['TF_RECORD_SCRIPT']} -x {os.path.join(paths['IMAGE_PATH'], 'test')} -l {files['LABELMAP']} -o {os.path.join(paths['ANNOTATION_PATH'], 'test.record')} "
   ]
  },
  {
   "cell_type": "markdown",
   "metadata": {
    "id": "qT4QU7pLpfDE"
   },
   "source": [
    "# 4. Copy Model Config to Training Folder"
   ]
  },
  {
   "cell_type": "code",
   "execution_count": 68,
   "metadata": {
    "id": "cOjuTFbwpfDF"
   },
   "outputs": [
    {
     "name": "stdout",
     "output_type": "stream",
     "text": [
      "        1 arquivo(s) copiado(s).\n"
     ]
    }
   ],
   "source": [
    "if os.name =='posix':\n",
    "    !cp {os.path.join(paths['PRETRAINED_MODEL_PATH'], PRETRAINED_MODEL_NAME, 'pipeline.config')} {os.path.join(paths['CHECKPOINT_PATH'])}\n",
    "if os.name == 'nt':\n",
    "    !copy {os.path.join(paths['PRETRAINED_MODEL_PATH'], PRETRAINED_MODEL_NAME, 'pipeline.config')} {os.path.join(paths['CHECKPOINT_PATH'])}"
   ]
  },
  {
   "cell_type": "markdown",
   "metadata": {
    "id": "Ga8gpNslpfDF"
   },
   "source": [
    "# 5. Update Config For Transfer Learning"
   ]
  },
  {
   "cell_type": "code",
   "execution_count": 69,
   "metadata": {
    "id": "Z9hRrO_ppfDF"
   },
   "outputs": [],
   "source": [
    "import tensorflow as tf\n",
    "from object_detection.utils import config_util\n",
    "from object_detection.protos import pipeline_pb2\n",
    "from google.protobuf import text_format"
   ]
  },
  {
   "cell_type": "code",
   "execution_count": 70,
   "metadata": {
    "id": "c2A0mn4ipfDF"
   },
   "outputs": [],
   "source": [
    "config = config_util.get_configs_from_pipeline_file(files['PIPELINE_CONFIG'])"
   ]
  },
  {
   "cell_type": "code",
   "execution_count": 71,
   "metadata": {
    "colab": {
     "base_uri": "https://localhost:8080/"
    },
    "id": "uQA13-afpfDF",
    "outputId": "907496a4-a39d-4b13-8c2c-e5978ecb1f10"
   },
   "outputs": [
    {
     "data": {
      "text/plain": [
       "{'model': ssd {\n",
       "   num_classes: 90\n",
       "   image_resizer {\n",
       "     fixed_shape_resizer {\n",
       "       height: 320\n",
       "       width: 320\n",
       "     }\n",
       "   }\n",
       "   feature_extractor {\n",
       "     type: \"ssd_mobilenet_v2_fpn_keras\"\n",
       "     depth_multiplier: 1.0\n",
       "     min_depth: 16\n",
       "     conv_hyperparams {\n",
       "       regularizer {\n",
       "         l2_regularizer {\n",
       "           weight: 3.9999998989515007e-05\n",
       "         }\n",
       "       }\n",
       "       initializer {\n",
       "         random_normal_initializer {\n",
       "           mean: 0.0\n",
       "           stddev: 0.009999999776482582\n",
       "         }\n",
       "       }\n",
       "       activation: RELU_6\n",
       "       batch_norm {\n",
       "         decay: 0.996999979019165\n",
       "         scale: true\n",
       "         epsilon: 0.0010000000474974513\n",
       "       }\n",
       "     }\n",
       "     use_depthwise: true\n",
       "     override_base_feature_extractor_hyperparams: true\n",
       "     fpn {\n",
       "       min_level: 3\n",
       "       max_level: 7\n",
       "       additional_layer_depth: 128\n",
       "     }\n",
       "   }\n",
       "   box_coder {\n",
       "     faster_rcnn_box_coder {\n",
       "       y_scale: 10.0\n",
       "       x_scale: 10.0\n",
       "       height_scale: 5.0\n",
       "       width_scale: 5.0\n",
       "     }\n",
       "   }\n",
       "   matcher {\n",
       "     argmax_matcher {\n",
       "       matched_threshold: 0.5\n",
       "       unmatched_threshold: 0.5\n",
       "       ignore_thresholds: false\n",
       "       negatives_lower_than_unmatched: true\n",
       "       force_match_for_each_row: true\n",
       "       use_matmul_gather: true\n",
       "     }\n",
       "   }\n",
       "   similarity_calculator {\n",
       "     iou_similarity {\n",
       "     }\n",
       "   }\n",
       "   box_predictor {\n",
       "     weight_shared_convolutional_box_predictor {\n",
       "       conv_hyperparams {\n",
       "         regularizer {\n",
       "           l2_regularizer {\n",
       "             weight: 3.9999998989515007e-05\n",
       "           }\n",
       "         }\n",
       "         initializer {\n",
       "           random_normal_initializer {\n",
       "             mean: 0.0\n",
       "             stddev: 0.009999999776482582\n",
       "           }\n",
       "         }\n",
       "         activation: RELU_6\n",
       "         batch_norm {\n",
       "           decay: 0.996999979019165\n",
       "           scale: true\n",
       "           epsilon: 0.0010000000474974513\n",
       "         }\n",
       "       }\n",
       "       depth: 128\n",
       "       num_layers_before_predictor: 4\n",
       "       kernel_size: 3\n",
       "       class_prediction_bias_init: -4.599999904632568\n",
       "       share_prediction_tower: true\n",
       "       use_depthwise: true\n",
       "     }\n",
       "   }\n",
       "   anchor_generator {\n",
       "     multiscale_anchor_generator {\n",
       "       min_level: 3\n",
       "       max_level: 7\n",
       "       anchor_scale: 4.0\n",
       "       aspect_ratios: 1.0\n",
       "       aspect_ratios: 2.0\n",
       "       aspect_ratios: 0.5\n",
       "       scales_per_octave: 2\n",
       "     }\n",
       "   }\n",
       "   post_processing {\n",
       "     batch_non_max_suppression {\n",
       "       score_threshold: 9.99999993922529e-09\n",
       "       iou_threshold: 0.6000000238418579\n",
       "       max_detections_per_class: 100\n",
       "       max_total_detections: 100\n",
       "       use_static_shapes: false\n",
       "     }\n",
       "     score_converter: SIGMOID\n",
       "   }\n",
       "   normalize_loss_by_num_matches: true\n",
       "   loss {\n",
       "     localization_loss {\n",
       "       weighted_smooth_l1 {\n",
       "       }\n",
       "     }\n",
       "     classification_loss {\n",
       "       weighted_sigmoid_focal {\n",
       "         gamma: 2.0\n",
       "         alpha: 0.25\n",
       "       }\n",
       "     }\n",
       "     classification_weight: 1.0\n",
       "     localization_weight: 1.0\n",
       "   }\n",
       "   encode_background_as_zeros: true\n",
       "   normalize_loc_loss_by_codesize: true\n",
       "   inplace_batchnorm_update: true\n",
       "   freeze_batchnorm: false\n",
       " },\n",
       " 'train_config': batch_size: 128\n",
       " data_augmentation_options {\n",
       "   random_horizontal_flip {\n",
       "   }\n",
       " }\n",
       " data_augmentation_options {\n",
       "   random_crop_image {\n",
       "     min_object_covered: 0.0\n",
       "     min_aspect_ratio: 0.75\n",
       "     max_aspect_ratio: 3.0\n",
       "     min_area: 0.75\n",
       "     max_area: 1.0\n",
       "     overlap_thresh: 0.0\n",
       "   }\n",
       " }\n",
       " sync_replicas: true\n",
       " optimizer {\n",
       "   momentum_optimizer {\n",
       "     learning_rate {\n",
       "       cosine_decay_learning_rate {\n",
       "         learning_rate_base: 0.07999999821186066\n",
       "         total_steps: 50000\n",
       "         warmup_learning_rate: 0.026666000485420227\n",
       "         warmup_steps: 1000\n",
       "       }\n",
       "     }\n",
       "     momentum_optimizer_value: 0.8999999761581421\n",
       "   }\n",
       "   use_moving_average: false\n",
       " }\n",
       " fine_tune_checkpoint: \"PATH_TO_BE_CONFIGURED\"\n",
       " num_steps: 50000\n",
       " startup_delay_steps: 0.0\n",
       " replicas_to_aggregate: 8\n",
       " max_number_of_boxes: 100\n",
       " unpad_groundtruth_tensors: false\n",
       " fine_tune_checkpoint_type: \"classification\"\n",
       " fine_tune_checkpoint_version: V2,\n",
       " 'train_input_config': label_map_path: \"PATH_TO_BE_CONFIGURED\"\n",
       " tf_record_input_reader {\n",
       "   input_path: \"PATH_TO_BE_CONFIGURED\"\n",
       " },\n",
       " 'eval_config': metrics_set: \"coco_detection_metrics\"\n",
       " use_moving_averages: false,\n",
       " 'eval_input_configs': [label_map_path: \"PATH_TO_BE_CONFIGURED\"\n",
       " shuffle: false\n",
       " num_epochs: 1\n",
       " tf_record_input_reader {\n",
       "   input_path: \"PATH_TO_BE_CONFIGURED\"\n",
       " }\n",
       " ],\n",
       " 'eval_input_config': label_map_path: \"PATH_TO_BE_CONFIGURED\"\n",
       " shuffle: false\n",
       " num_epochs: 1\n",
       " tf_record_input_reader {\n",
       "   input_path: \"PATH_TO_BE_CONFIGURED\"\n",
       " }}"
      ]
     },
     "execution_count": 71,
     "metadata": {},
     "output_type": "execute_result"
    }
   ],
   "source": [
    "config"
   ]
  },
  {
   "cell_type": "code",
   "execution_count": 72,
   "metadata": {
    "id": "9vK5lotDpfDF"
   },
   "outputs": [],
   "source": [
    "pipeline_config = pipeline_pb2.TrainEvalPipelineConfig()\n",
    "with tf.io.gfile.GFile(files['PIPELINE_CONFIG'], \"r\") as f:                                                                                                                                                                                                                     \n",
    "    proto_str = f.read()                                                                                                                                                                                                                                          \n",
    "    text_format.Merge(proto_str, pipeline_config)  "
   ]
  },
  {
   "cell_type": "code",
   "execution_count": 73,
   "metadata": {
    "id": "rP43Ph0JpfDG"
   },
   "outputs": [],
   "source": [
    "pipeline_config.model.ssd.num_classes = len(labels)\n",
    "pipeline_config.train_config.batch_size = 4\n",
    "pipeline_config.train_config.fine_tune_checkpoint = os.path.join(paths['PRETRAINED_MODEL_PATH'], PRETRAINED_MODEL_NAME, 'checkpoint', 'ckpt-0')\n",
    "pipeline_config.train_config.fine_tune_checkpoint_type = \"detection\"\n",
    "pipeline_config.train_input_reader.label_map_path= files['LABELMAP']\n",
    "pipeline_config.train_input_reader.tf_record_input_reader.input_path[:] = [os.path.join(paths['ANNOTATION_PATH'], 'train.record')]\n",
    "pipeline_config.eval_input_reader[0].label_map_path = files['LABELMAP']\n",
    "pipeline_config.eval_input_reader[0].tf_record_input_reader.input_path[:] = [os.path.join(paths['ANNOTATION_PATH'], 'test.record')]"
   ]
  },
  {
   "cell_type": "code",
   "execution_count": 74,
   "metadata": {
    "id": "oJvfgwWqpfDG"
   },
   "outputs": [],
   "source": [
    "config_text = text_format.MessageToString(pipeline_config)                                                                                                                                                                                                        \n",
    "with tf.io.gfile.GFile(files['PIPELINE_CONFIG'], \"wb\") as f:                                                                                                                                                                                                                     \n",
    "    f.write(config_text)   "
   ]
  },
  {
   "cell_type": "markdown",
   "metadata": {
    "id": "Zr3ON7xMpfDG"
   },
   "source": [
    "# 6. Train the model"
   ]
  },
  {
   "cell_type": "code",
   "execution_count": 75,
   "metadata": {
    "id": "B-Y2UQmQpfDG"
   },
   "outputs": [],
   "source": [
    "TRAINING_SCRIPT = os.path.join(paths['APIMODEL_PATH'], 'research', 'object_detection', 'model_main_tf2.py')"
   ]
  },
  {
   "cell_type": "code",
   "execution_count": 76,
   "metadata": {
    "id": "jMP2XDfQpfDH"
   },
   "outputs": [],
   "source": [
    "command = \"python {} --model_dir={} --pipeline_config_path={} --num_train_steps=3000\".format(TRAINING_SCRIPT, paths['CHECKPOINT_PATH'],files['PIPELINE_CONFIG'])"
   ]
  },
  {
   "cell_type": "code",
   "execution_count": 77,
   "metadata": {
    "colab": {
     "base_uri": "https://localhost:8080/"
    },
    "id": "A4OXXi-ApfDH",
    "outputId": "117a0e83-012b-466e-b7a6-ccaa349ac5ab"
   },
   "outputs": [
    {
     "name": "stdout",
     "output_type": "stream",
     "text": [
      "python Tensorflow\\models\\research\\object_detection\\model_main_tf2.py --model_dir=Tensorflow\\workspace\\models\\my_ssd_mobnet_tuned --pipeline_config_path=Tensorflow\\workspace\\models\\my_ssd_mobnet_tuned\\pipeline.config --num_train_steps=3000\n"
     ]
    }
   ],
   "source": [
    "print(command)"
   ]
  },
  {
   "cell_type": "code",
   "execution_count": 78,
   "metadata": {
    "colab": {
     "base_uri": "https://localhost:8080/"
    },
    "id": "i3ZsJR-qpfDH",
    "outputId": "cabec5e1-45e6-4f2f-d9cf-297d9c1d0225"
   },
   "outputs": [
    {
     "name": "stderr",
     "output_type": "stream",
     "text": [
      "2022-02-16 14:09:23.218706: I tensorflow/core/platform/cpu_feature_guard.cc:151] This TensorFlow binary is optimized with oneAPI Deep Neural Network Library (oneDNN) to use the following CPU instructions in performance-critical operations:  AVX AVX2\n",
      "To enable them in other operations, rebuild TensorFlow with the appropriate compiler flags.\n",
      "2022-02-16 14:09:23.828033: I tensorflow/core/common_runtime/gpu/gpu_device.cc:1525] Created device /job:localhost/replica:0/task:0/device:GPU:0 with 3957 MB memory:  -> device: 0, name: NVIDIA GeForce RTX 2060, pci bus id: 0000:06:00.0, compute capability: 7.5\n",
      "INFO:tensorflow:Using MirroredStrategy with devices ('/job:localhost/replica:0/task:0/device:GPU:0',)\n",
      "I0216 14:09:24.163501 19468 mirrored_strategy.py:374] Using MirroredStrategy with devices ('/job:localhost/replica:0/task:0/device:GPU:0',)\n",
      "INFO:tensorflow:Maybe overwriting train_steps: 3000\n",
      "I0216 14:09:24.172499 19468 config_util.py:552] Maybe overwriting train_steps: 3000\n",
      "INFO:tensorflow:Maybe overwriting use_bfloat16: False\n",
      "I0216 14:09:24.172499 19468 config_util.py:552] Maybe overwriting use_bfloat16: False\n",
      "WARNING:tensorflow:From C:\\Users\\brito\\OneDrive\\Documentos\\1 - Data Science\\5 - Projetos\\8 - TensorFlow Object Detection\\TFODCourse\\tfod\\lib\\site-packages\\object_detection-0.1-py3.9.egg\\object_detection\\model_lib_v2.py:563: StrategyBase.experimental_distribute_datasets_from_function (from tensorflow.python.distribute.distribute_lib) is deprecated and will be removed in a future version.\n",
      "Instructions for updating:\n",
      "rename to distribute_datasets_from_function\n",
      "W0216 14:09:24.212768 19468 deprecation.py:337] From C:\\Users\\brito\\OneDrive\\Documentos\\1 - Data Science\\5 - Projetos\\8 - TensorFlow Object Detection\\TFODCourse\\tfod\\lib\\site-packages\\object_detection-0.1-py3.9.egg\\object_detection\\model_lib_v2.py:563: StrategyBase.experimental_distribute_datasets_from_function (from tensorflow.python.distribute.distribute_lib) is deprecated and will be removed in a future version.\n",
      "Instructions for updating:\n",
      "rename to distribute_datasets_from_function\n",
      "INFO:tensorflow:Reading unweighted datasets: ['Tensorflow\\\\workspace\\\\annotations\\\\train.record']\n",
      "I0216 14:09:24.229767 19468 dataset_builder.py:163] Reading unweighted datasets: ['Tensorflow\\\\workspace\\\\annotations\\\\train.record']\n",
      "INFO:tensorflow:Reading record datasets for input file: ['Tensorflow\\\\workspace\\\\annotations\\\\train.record']\n",
      "I0216 14:09:24.229767 19468 dataset_builder.py:80] Reading record datasets for input file: ['Tensorflow\\\\workspace\\\\annotations\\\\train.record']\n",
      "INFO:tensorflow:Number of filenames to read: 1\n",
      "I0216 14:09:24.229767 19468 dataset_builder.py:81] Number of filenames to read: 1\n",
      "WARNING:tensorflow:num_readers has been reduced to 1 to match input file shards.\n",
      "W0216 14:09:24.229767 19468 dataset_builder.py:87] num_readers has been reduced to 1 to match input file shards.\n",
      "WARNING:tensorflow:From C:\\Users\\brito\\OneDrive\\Documentos\\1 - Data Science\\5 - Projetos\\8 - TensorFlow Object Detection\\TFODCourse\\tfod\\lib\\site-packages\\object_detection-0.1-py3.9.egg\\object_detection\\builders\\dataset_builder.py:101: parallel_interleave (from tensorflow.python.data.experimental.ops.interleave_ops) is deprecated and will be removed in a future version.\n",
      "Instructions for updating:\n",
      "Use `tf.data.Dataset.interleave(map_func, cycle_length, block_length, num_parallel_calls=tf.data.AUTOTUNE)` instead. If sloppy execution is desired, use `tf.data.Options.deterministic`.\n",
      "W0216 14:09:24.239767 19468 deprecation.py:337] From C:\\Users\\brito\\OneDrive\\Documentos\\1 - Data Science\\5 - Projetos\\8 - TensorFlow Object Detection\\TFODCourse\\tfod\\lib\\site-packages\\object_detection-0.1-py3.9.egg\\object_detection\\builders\\dataset_builder.py:101: parallel_interleave (from tensorflow.python.data.experimental.ops.interleave_ops) is deprecated and will be removed in a future version.\n",
      "Instructions for updating:\n",
      "Use `tf.data.Dataset.interleave(map_func, cycle_length, block_length, num_parallel_calls=tf.data.AUTOTUNE)` instead. If sloppy execution is desired, use `tf.data.Options.deterministic`.\n",
      "WARNING:tensorflow:From C:\\Users\\brito\\OneDrive\\Documentos\\1 - Data Science\\5 - Projetos\\8 - TensorFlow Object Detection\\TFODCourse\\tfod\\lib\\site-packages\\object_detection-0.1-py3.9.egg\\object_detection\\builders\\dataset_builder.py:236: DatasetV1.map_with_legacy_function (from tensorflow.python.data.ops.dataset_ops) is deprecated and will be removed in a future version.\n",
      "Instructions for updating:\n",
      "Use `tf.data.Dataset.map()\n",
      "W0216 14:09:24.308098 19468 deprecation.py:337] From C:\\Users\\brito\\OneDrive\\Documentos\\1 - Data Science\\5 - Projetos\\8 - TensorFlow Object Detection\\TFODCourse\\tfod\\lib\\site-packages\\object_detection-0.1-py3.9.egg\\object_detection\\builders\\dataset_builder.py:236: DatasetV1.map_with_legacy_function (from tensorflow.python.data.ops.dataset_ops) is deprecated and will be removed in a future version.\n",
      "Instructions for updating:\n",
      "Use `tf.data.Dataset.map()\n",
      "WARNING:tensorflow:From C:\\Users\\brito\\OneDrive\\Documentos\\1 - Data Science\\5 - Projetos\\8 - TensorFlow Object Detection\\TFODCourse\\tfod\\lib\\site-packages\\tensorflow\\python\\util\\dispatch.py:1082: sparse_to_dense (from tensorflow.python.ops.sparse_ops) is deprecated and will be removed in a future version.\n",
      "Instructions for updating:\n",
      "Create a `tf.sparse.SparseTensor` and use `tf.sparse.to_dense` instead.\n",
      "W0216 14:09:32.102553 19468 deprecation.py:337] From C:\\Users\\brito\\OneDrive\\Documentos\\1 - Data Science\\5 - Projetos\\8 - TensorFlow Object Detection\\TFODCourse\\tfod\\lib\\site-packages\\tensorflow\\python\\util\\dispatch.py:1082: sparse_to_dense (from tensorflow.python.ops.sparse_ops) is deprecated and will be removed in a future version.\n",
      "Instructions for updating:\n",
      "Create a `tf.sparse.SparseTensor` and use `tf.sparse.to_dense` instead.\n",
      "WARNING:tensorflow:From C:\\Users\\brito\\OneDrive\\Documentos\\1 - Data Science\\5 - Projetos\\8 - TensorFlow Object Detection\\TFODCourse\\tfod\\lib\\site-packages\\tensorflow\\python\\util\\dispatch.py:1082: sample_distorted_bounding_box (from tensorflow.python.ops.image_ops_impl) is deprecated and will be removed in a future version.\n",
      "Instructions for updating:\n",
      "`seed2` arg is deprecated.Use sample_distorted_bounding_box_v2 instead.\n",
      "W0216 14:09:35.532606 19468 deprecation.py:337] From C:\\Users\\brito\\OneDrive\\Documentos\\1 - Data Science\\5 - Projetos\\8 - TensorFlow Object Detection\\TFODCourse\\tfod\\lib\\site-packages\\tensorflow\\python\\util\\dispatch.py:1082: sample_distorted_bounding_box (from tensorflow.python.ops.image_ops_impl) is deprecated and will be removed in a future version.\n",
      "Instructions for updating:\n",
      "`seed2` arg is deprecated.Use sample_distorted_bounding_box_v2 instead.\n",
      "WARNING:tensorflow:From C:\\Users\\brito\\OneDrive\\Documentos\\1 - Data Science\\5 - Projetos\\8 - TensorFlow Object Detection\\TFODCourse\\tfod\\lib\\site-packages\\tensorflow\\python\\util\\dispatch.py:1082: to_float (from tensorflow.python.ops.math_ops) is deprecated and will be removed in a future version.\n",
      "Instructions for updating:\n",
      "Use `tf.cast` instead.\n",
      "W0216 14:09:37.487571 19468 deprecation.py:337] From C:\\Users\\brito\\OneDrive\\Documentos\\1 - Data Science\\5 - Projetos\\8 - TensorFlow Object Detection\\TFODCourse\\tfod\\lib\\site-packages\\tensorflow\\python\\util\\dispatch.py:1082: to_float (from tensorflow.python.ops.math_ops) is deprecated and will be removed in a future version.\n",
      "Instructions for updating:\n",
      "Use `tf.cast` instead.\n",
      "C:\\Users\\brito\\OneDrive\\Documentos\\1 - Data Science\\5 - Projetos\\8 - TensorFlow Object Detection\\TFODCourse\\tfod\\lib\\site-packages\\keras\\backend.py:450: UserWarning: `tf.keras.backend.set_learning_phase` is deprecated and will be removed after 2020-10-11. To update it, simply pass a True/False value to the `training` argument of the `__call__` method of your layer or model.\n",
      "  warnings.warn('`tf.keras.backend.set_learning_phase` is deprecated and '\n",
      "2022-02-16 14:10:05.049412: I tensorflow/stream_executor/cuda/cuda_dnn.cc:368] Loaded cuDNN version 8100\n",
      "INFO:tensorflow:Reduce to /job:localhost/replica:0/task:0/device:CPU:0 then broadcast to ('/job:localhost/replica:0/task:0/device:CPU:0',).\n",
      "I0216 14:10:11.431101 19468 cross_device_ops.py:616] Reduce to /job:localhost/replica:0/task:0/device:CPU:0 then broadcast to ('/job:localhost/replica:0/task:0/device:CPU:0',).\n",
      "INFO:tensorflow:Reduce to /job:localhost/replica:0/task:0/device:CPU:0 then broadcast to ('/job:localhost/replica:0/task:0/device:CPU:0',).\n",
      "I0216 14:10:11.432102 19468 cross_device_ops.py:616] Reduce to /job:localhost/replica:0/task:0/device:CPU:0 then broadcast to ('/job:localhost/replica:0/task:0/device:CPU:0',).\n",
      "INFO:tensorflow:Reduce to /job:localhost/replica:0/task:0/device:CPU:0 then broadcast to ('/job:localhost/replica:0/task:0/device:CPU:0',).\n",
      "I0216 14:10:11.434101 19468 cross_device_ops.py:616] Reduce to /job:localhost/replica:0/task:0/device:CPU:0 then broadcast to ('/job:localhost/replica:0/task:0/device:CPU:0',).\n",
      "INFO:tensorflow:Reduce to /job:localhost/replica:0/task:0/device:CPU:0 then broadcast to ('/job:localhost/replica:0/task:0/device:CPU:0',).\n",
      "I0216 14:10:11.435101 19468 cross_device_ops.py:616] Reduce to /job:localhost/replica:0/task:0/device:CPU:0 then broadcast to ('/job:localhost/replica:0/task:0/device:CPU:0',).\n",
      "INFO:tensorflow:Reduce to /job:localhost/replica:0/task:0/device:CPU:0 then broadcast to ('/job:localhost/replica:0/task:0/device:CPU:0',).\n",
      "I0216 14:10:11.437101 19468 cross_device_ops.py:616] Reduce to /job:localhost/replica:0/task:0/device:CPU:0 then broadcast to ('/job:localhost/replica:0/task:0/device:CPU:0',).\n",
      "INFO:tensorflow:Reduce to /job:localhost/replica:0/task:0/device:CPU:0 then broadcast to ('/job:localhost/replica:0/task:0/device:CPU:0',).\n",
      "I0216 14:10:11.437101 19468 cross_device_ops.py:616] Reduce to /job:localhost/replica:0/task:0/device:CPU:0 then broadcast to ('/job:localhost/replica:0/task:0/device:CPU:0',).\n",
      "INFO:tensorflow:Reduce to /job:localhost/replica:0/task:0/device:CPU:0 then broadcast to ('/job:localhost/replica:0/task:0/device:CPU:0',).\n",
      "I0216 14:10:11.439102 19468 cross_device_ops.py:616] Reduce to /job:localhost/replica:0/task:0/device:CPU:0 then broadcast to ('/job:localhost/replica:0/task:0/device:CPU:0',).\n",
      "INFO:tensorflow:Reduce to /job:localhost/replica:0/task:0/device:CPU:0 then broadcast to ('/job:localhost/replica:0/task:0/device:CPU:0',).\n",
      "I0216 14:10:11.440101 19468 cross_device_ops.py:616] Reduce to /job:localhost/replica:0/task:0/device:CPU:0 then broadcast to ('/job:localhost/replica:0/task:0/device:CPU:0',).\n",
      "INFO:tensorflow:Reduce to /job:localhost/replica:0/task:0/device:CPU:0 then broadcast to ('/job:localhost/replica:0/task:0/device:CPU:0',).\n",
      "I0216 14:10:11.442101 19468 cross_device_ops.py:616] Reduce to /job:localhost/replica:0/task:0/device:CPU:0 then broadcast to ('/job:localhost/replica:0/task:0/device:CPU:0',).\n",
      "INFO:tensorflow:Reduce to /job:localhost/replica:0/task:0/device:CPU:0 then broadcast to ('/job:localhost/replica:0/task:0/device:CPU:0',).\n",
      "I0216 14:10:11.443101 19468 cross_device_ops.py:616] Reduce to /job:localhost/replica:0/task:0/device:CPU:0 then broadcast to ('/job:localhost/replica:0/task:0/device:CPU:0',).\n",
      "WARNING:tensorflow:From C:\\Users\\brito\\OneDrive\\Documentos\\1 - Data Science\\5 - Projetos\\8 - TensorFlow Object Detection\\TFODCourse\\tfod\\lib\\site-packages\\tensorflow\\python\\util\\deprecation.py:616: calling map_fn_v2 (from tensorflow.python.ops.map_fn) with dtype is deprecated and will be removed in a future version.\n",
      "Instructions for updating:\n",
      "Use fn_output_signature instead\n",
      "W0216 14:10:12.243305  8848 deprecation.py:541] From C:\\Users\\brito\\OneDrive\\Documentos\\1 - Data Science\\5 - Projetos\\8 - TensorFlow Object Detection\\TFODCourse\\tfod\\lib\\site-packages\\tensorflow\\python\\util\\deprecation.py:616: calling map_fn_v2 (from tensorflow.python.ops.map_fn) with dtype is deprecated and will be removed in a future version.\n",
      "Instructions for updating:\n",
      "Use fn_output_signature instead\n",
      "INFO:tensorflow:Step 100 per-step time 0.505s\n",
      "I0216 14:11:02.243546 19468 model_lib_v2.py:705] Step 100 per-step time 0.505s\n",
      "INFO:tensorflow:{'Loss/classification_loss': 0.26601043,\n",
      " 'Loss/localization_loss': 0.29604998,\n",
      " 'Loss/regularization_loss': 0.15426943,\n",
      " 'Loss/total_loss': 0.7163298,\n",
      " 'learning_rate': 0.0319994}\n",
      "I0216 14:11:02.243546 19468 model_lib_v2.py:708] {'Loss/classification_loss': 0.26601043,\n",
      " 'Loss/localization_loss': 0.29604998,\n",
      " 'Loss/regularization_loss': 0.15426943,\n",
      " 'Loss/total_loss': 0.7163298,\n",
      " 'learning_rate': 0.0319994}\n",
      "INFO:tensorflow:Step 200 per-step time 0.103s\n",
      "I0216 14:11:12.496542 19468 model_lib_v2.py:705] Step 200 per-step time 0.103s\n",
      "INFO:tensorflow:{'Loss/classification_loss': 0.1459461,\n",
      " 'Loss/localization_loss': 0.16174832,\n",
      " 'Loss/regularization_loss': 0.15425935,\n",
      " 'Loss/total_loss': 0.4619538,\n",
      " 'learning_rate': 0.0373328}\n",
      "I0216 14:11:12.497542 19468 model_lib_v2.py:708] {'Loss/classification_loss': 0.1459461,\n",
      " 'Loss/localization_loss': 0.16174832,\n",
      " 'Loss/regularization_loss': 0.15425935,\n",
      " 'Loss/total_loss': 0.4619538,\n",
      " 'learning_rate': 0.0373328}\n",
      "INFO:tensorflow:Step 300 per-step time 0.092s\n",
      "I0216 14:11:21.697542 19468 model_lib_v2.py:705] Step 300 per-step time 0.092s\n",
      "INFO:tensorflow:{'Loss/classification_loss': 0.16087593,\n",
      " 'Loss/localization_loss': 0.24350932,\n",
      " 'Loss/regularization_loss': 0.15406029,\n",
      " 'Loss/total_loss': 0.5584456,\n",
      " 'learning_rate': 0.0426662}\n",
      "I0216 14:11:21.697542 19468 model_lib_v2.py:708] {'Loss/classification_loss': 0.16087593,\n",
      " 'Loss/localization_loss': 0.24350932,\n",
      " 'Loss/regularization_loss': 0.15406029,\n",
      " 'Loss/total_loss': 0.5584456,\n",
      " 'learning_rate': 0.0426662}\n",
      "INFO:tensorflow:Step 400 per-step time 0.103s\n",
      "I0216 14:11:32.027549 19468 model_lib_v2.py:705] Step 400 per-step time 0.103s\n",
      "INFO:tensorflow:{'Loss/classification_loss': 0.15256445,\n",
      " 'Loss/localization_loss': 0.16256307,\n",
      " 'Loss/regularization_loss': 0.15385763,\n",
      " 'Loss/total_loss': 0.46898514,\n",
      " 'learning_rate': 0.047999598}\n",
      "I0216 14:11:32.028550 19468 model_lib_v2.py:708] {'Loss/classification_loss': 0.15256445,\n",
      " 'Loss/localization_loss': 0.16256307,\n",
      " 'Loss/regularization_loss': 0.15385763,\n",
      " 'Loss/total_loss': 0.46898514,\n",
      " 'learning_rate': 0.047999598}\n",
      "INFO:tensorflow:Step 500 per-step time 0.105s\n",
      "I0216 14:11:42.570547 19468 model_lib_v2.py:705] Step 500 per-step time 0.105s\n",
      "INFO:tensorflow:{'Loss/classification_loss': 0.13096969,\n",
      " 'Loss/localization_loss': 0.07690561,\n",
      " 'Loss/regularization_loss': 0.15355799,\n",
      " 'Loss/total_loss': 0.36143327,\n",
      " 'learning_rate': 0.053333}\n",
      "I0216 14:11:42.570547 19468 model_lib_v2.py:708] {'Loss/classification_loss': 0.13096969,\n",
      " 'Loss/localization_loss': 0.07690561,\n",
      " 'Loss/regularization_loss': 0.15355799,\n",
      " 'Loss/total_loss': 0.36143327,\n",
      " 'learning_rate': 0.053333}\n",
      "INFO:tensorflow:Step 600 per-step time 0.104s\n",
      "I0216 14:11:52.988542 19468 model_lib_v2.py:705] Step 600 per-step time 0.104s\n",
      "INFO:tensorflow:{'Loss/classification_loss': 0.10529279,\n",
      " 'Loss/localization_loss': 0.07021473,\n",
      " 'Loss/regularization_loss': 0.15320435,\n",
      " 'Loss/total_loss': 0.32871187,\n",
      " 'learning_rate': 0.0586664}\n",
      "I0216 14:11:52.989542 19468 model_lib_v2.py:708] {'Loss/classification_loss': 0.10529279,\n",
      " 'Loss/localization_loss': 0.07021473,\n",
      " 'Loss/regularization_loss': 0.15320435,\n",
      " 'Loss/total_loss': 0.32871187,\n",
      " 'learning_rate': 0.0586664}\n",
      "INFO:tensorflow:Step 700 per-step time 0.104s\n",
      "I0216 14:12:03.377542 19468 model_lib_v2.py:705] Step 700 per-step time 0.104s\n",
      "INFO:tensorflow:{'Loss/classification_loss': 0.18552332,\n",
      " 'Loss/localization_loss': 0.06392463,\n",
      " 'Loss/regularization_loss': 0.15294965,\n"
     ]
    },
    {
     "name": "stderr",
     "output_type": "stream",
     "text": [
      " 'Loss/total_loss': 0.40239757,\n",
      " 'learning_rate': 0.0639998}\n",
      "I0216 14:12:03.377542 19468 model_lib_v2.py:708] {'Loss/classification_loss': 0.18552332,\n",
      " 'Loss/localization_loss': 0.06392463,\n",
      " 'Loss/regularization_loss': 0.15294965,\n",
      " 'Loss/total_loss': 0.40239757,\n",
      " 'learning_rate': 0.0639998}\n",
      "INFO:tensorflow:Step 800 per-step time 0.105s\n",
      "I0216 14:12:13.851551 19468 model_lib_v2.py:705] Step 800 per-step time 0.105s\n",
      "INFO:tensorflow:{'Loss/classification_loss': 0.09728843,\n",
      " 'Loss/localization_loss': 0.06975923,\n",
      " 'Loss/regularization_loss': 0.15291241,\n",
      " 'Loss/total_loss': 0.31996006,\n",
      " 'learning_rate': 0.069333196}\n",
      "I0216 14:12:13.851551 19468 model_lib_v2.py:708] {'Loss/classification_loss': 0.09728843,\n",
      " 'Loss/localization_loss': 0.06975923,\n",
      " 'Loss/regularization_loss': 0.15291241,\n",
      " 'Loss/total_loss': 0.31996006,\n",
      " 'learning_rate': 0.069333196}\n",
      "INFO:tensorflow:Step 900 per-step time 0.104s\n",
      "I0216 14:12:24.225542 19468 model_lib_v2.py:705] Step 900 per-step time 0.104s\n",
      "INFO:tensorflow:{'Loss/classification_loss': 0.107157275,\n",
      " 'Loss/localization_loss': 0.05570567,\n",
      " 'Loss/regularization_loss': 0.15245445,\n",
      " 'Loss/total_loss': 0.3153174,\n",
      " 'learning_rate': 0.074666604}\n",
      "I0216 14:12:24.225542 19468 model_lib_v2.py:708] {'Loss/classification_loss': 0.107157275,\n",
      " 'Loss/localization_loss': 0.05570567,\n",
      " 'Loss/regularization_loss': 0.15245445,\n",
      " 'Loss/total_loss': 0.3153174,\n",
      " 'learning_rate': 0.074666604}\n",
      "INFO:tensorflow:Step 1000 per-step time 0.106s\n",
      "I0216 14:12:34.800319 19468 model_lib_v2.py:705] Step 1000 per-step time 0.106s\n",
      "INFO:tensorflow:{'Loss/classification_loss': 0.1360138,\n",
      " 'Loss/localization_loss': 0.060833897,\n",
      " 'Loss/regularization_loss': 0.1520505,\n",
      " 'Loss/total_loss': 0.3488982,\n",
      " 'learning_rate': 0.08}\n",
      "I0216 14:12:34.801320 19468 model_lib_v2.py:708] {'Loss/classification_loss': 0.1360138,\n",
      " 'Loss/localization_loss': 0.060833897,\n",
      " 'Loss/regularization_loss': 0.1520505,\n",
      " 'Loss/total_loss': 0.3488982,\n",
      " 'learning_rate': 0.08}\n",
      "INFO:tensorflow:Step 1100 per-step time 0.108s\n",
      "I0216 14:12:45.621228 19468 model_lib_v2.py:705] Step 1100 per-step time 0.108s\n",
      "INFO:tensorflow:{'Loss/classification_loss': 0.08466549,\n",
      " 'Loss/localization_loss': 0.05500122,\n",
      " 'Loss/regularization_loss': 0.15138926,\n",
      " 'Loss/total_loss': 0.29105598,\n",
      " 'learning_rate': 0.07999918}\n",
      "I0216 14:12:45.621228 19468 model_lib_v2.py:708] {'Loss/classification_loss': 0.08466549,\n",
      " 'Loss/localization_loss': 0.05500122,\n",
      " 'Loss/regularization_loss': 0.15138926,\n",
      " 'Loss/total_loss': 0.29105598,\n",
      " 'learning_rate': 0.07999918}\n",
      "INFO:tensorflow:Step 1200 per-step time 0.102s\n",
      "I0216 14:12:55.768225 19468 model_lib_v2.py:705] Step 1200 per-step time 0.102s\n",
      "INFO:tensorflow:{'Loss/classification_loss': 0.10378083,\n",
      " 'Loss/localization_loss': 0.05746233,\n",
      " 'Loss/regularization_loss': 0.15073754,\n",
      " 'Loss/total_loss': 0.3119807,\n",
      " 'learning_rate': 0.079996705}\n",
      "I0216 14:12:55.768225 19468 model_lib_v2.py:708] {'Loss/classification_loss': 0.10378083,\n",
      " 'Loss/localization_loss': 0.05746233,\n",
      " 'Loss/regularization_loss': 0.15073754,\n",
      " 'Loss/total_loss': 0.3119807,\n",
      " 'learning_rate': 0.079996705}\n",
      "INFO:tensorflow:Step 1300 per-step time 0.103s\n",
      "I0216 14:13:06.054225 19468 model_lib_v2.py:705] Step 1300 per-step time 0.103s\n",
      "INFO:tensorflow:{'Loss/classification_loss': 0.06633893,\n",
      " 'Loss/localization_loss': 0.03131424,\n",
      " 'Loss/regularization_loss': 0.15013835,\n",
      " 'Loss/total_loss': 0.24779151,\n",
      " 'learning_rate': 0.0799926}\n",
      "I0216 14:13:06.054225 19468 model_lib_v2.py:708] {'Loss/classification_loss': 0.06633893,\n",
      " 'Loss/localization_loss': 0.03131424,\n",
      " 'Loss/regularization_loss': 0.15013835,\n",
      " 'Loss/total_loss': 0.24779151,\n",
      " 'learning_rate': 0.0799926}\n",
      "INFO:tensorflow:Step 1400 per-step time 0.104s\n",
      "I0216 14:13:16.420226 19468 model_lib_v2.py:705] Step 1400 per-step time 0.104s\n",
      "INFO:tensorflow:{'Loss/classification_loss': 0.09671535,\n",
      " 'Loss/localization_loss': 0.045946237,\n",
      " 'Loss/regularization_loss': 0.1494657,\n",
      " 'Loss/total_loss': 0.29212728,\n",
      " 'learning_rate': 0.07998685}\n",
      "I0216 14:13:16.420226 19468 model_lib_v2.py:708] {'Loss/classification_loss': 0.09671535,\n",
      " 'Loss/localization_loss': 0.045946237,\n",
      " 'Loss/regularization_loss': 0.1494657,\n",
      " 'Loss/total_loss': 0.29212728,\n",
      " 'learning_rate': 0.07998685}\n",
      "INFO:tensorflow:Step 1500 per-step time 0.104s\n",
      "I0216 14:13:26.864225 19468 model_lib_v2.py:705] Step 1500 per-step time 0.104s\n",
      "INFO:tensorflow:{'Loss/classification_loss': 0.060458682,\n",
      " 'Loss/localization_loss': 0.0583368,\n",
      " 'Loss/regularization_loss': 0.14878717,\n",
      " 'Loss/total_loss': 0.26758265,\n",
      " 'learning_rate': 0.07997945}\n",
      "I0216 14:13:26.865225 19468 model_lib_v2.py:708] {'Loss/classification_loss': 0.060458682,\n",
      " 'Loss/localization_loss': 0.0583368,\n",
      " 'Loss/regularization_loss': 0.14878717,\n",
      " 'Loss/total_loss': 0.26758265,\n",
      " 'learning_rate': 0.07997945}\n",
      "INFO:tensorflow:Step 1600 per-step time 0.102s\n",
      "I0216 14:13:37.107225 19468 model_lib_v2.py:705] Step 1600 per-step time 0.102s\n",
      "INFO:tensorflow:{'Loss/classification_loss': 0.053291094,\n",
      " 'Loss/localization_loss': 0.038955133,\n",
      " 'Loss/regularization_loss': 0.14813519,\n",
      " 'Loss/total_loss': 0.24038142,\n",
      " 'learning_rate': 0.079970405}\n",
      "I0216 14:13:37.107225 19468 model_lib_v2.py:708] {'Loss/classification_loss': 0.053291094,\n",
      " 'Loss/localization_loss': 0.038955133,\n",
      " 'Loss/regularization_loss': 0.14813519,\n",
      " 'Loss/total_loss': 0.24038142,\n",
      " 'learning_rate': 0.079970405}\n",
      "INFO:tensorflow:Step 1700 per-step time 0.106s\n",
      "I0216 14:13:47.693226 19468 model_lib_v2.py:705] Step 1700 per-step time 0.106s\n",
      "INFO:tensorflow:{'Loss/classification_loss': 0.075197555,\n",
      " 'Loss/localization_loss': 0.022674974,\n",
      " 'Loss/regularization_loss': 0.14742146,\n",
      " 'Loss/total_loss': 0.24529399,\n",
      " 'learning_rate': 0.07995972}\n",
      "I0216 14:13:47.694226 19468 model_lib_v2.py:708] {'Loss/classification_loss': 0.075197555,\n",
      " 'Loss/localization_loss': 0.022674974,\n",
      " 'Loss/regularization_loss': 0.14742146,\n",
      " 'Loss/total_loss': 0.24529399,\n",
      " 'learning_rate': 0.07995972}\n",
      "INFO:tensorflow:Step 1800 per-step time 0.103s\n",
      "I0216 14:13:58.023225 19468 model_lib_v2.py:705] Step 1800 per-step time 0.103s\n",
      "INFO:tensorflow:{'Loss/classification_loss': 0.082958065,\n",
      " 'Loss/localization_loss': 0.017689342,\n",
      " 'Loss/regularization_loss': 0.14671591,\n",
      " 'Loss/total_loss': 0.24736331,\n",
      " 'learning_rate': 0.0799474}\n",
      "I0216 14:13:58.023225 19468 model_lib_v2.py:708] {'Loss/classification_loss': 0.082958065,\n",
      " 'Loss/localization_loss': 0.017689342,\n",
      " 'Loss/regularization_loss': 0.14671591,\n",
      " 'Loss/total_loss': 0.24736331,\n",
      " 'learning_rate': 0.0799474}\n",
      "INFO:tensorflow:Step 1900 per-step time 0.105s\n",
      "I0216 14:14:08.851568 19468 model_lib_v2.py:705] Step 1900 per-step time 0.105s\n",
      "INFO:tensorflow:{'Loss/classification_loss': 0.06348865,\n",
      " 'Loss/localization_loss': 0.014349333,\n",
      " 'Loss/regularization_loss': 0.14599581,\n",
      " 'Loss/total_loss': 0.2238338,\n",
      " 'learning_rate': 0.07993342}\n",
      "I0216 14:14:08.852567 19468 model_lib_v2.py:708] {'Loss/classification_loss': 0.06348865,\n",
      " 'Loss/localization_loss': 0.014349333,\n",
      " 'Loss/regularization_loss': 0.14599581,\n",
      " 'Loss/total_loss': 0.2238338,\n",
      " 'learning_rate': 0.07993342}\n",
      "INFO:tensorflow:Step 2000 per-step time 0.109s\n",
      "I0216 14:14:19.323565 19468 model_lib_v2.py:705] Step 2000 per-step time 0.109s\n",
      "INFO:tensorflow:{'Loss/classification_loss': 0.078973725,\n",
      " 'Loss/localization_loss': 0.03656006,\n",
      " 'Loss/regularization_loss': 0.14525634,\n",
      " 'Loss/total_loss': 0.2607901,\n",
      " 'learning_rate': 0.07991781}\n",
      "I0216 14:14:19.323565 19468 model_lib_v2.py:708] {'Loss/classification_loss': 0.078973725,\n",
      " 'Loss/localization_loss': 0.03656006,\n",
      " 'Loss/regularization_loss': 0.14525634,\n",
      " 'Loss/total_loss': 0.2607901,\n",
      " 'learning_rate': 0.07991781}\n",
      "INFO:tensorflow:Step 2100 per-step time 0.112s\n",
      "I0216 14:14:30.492748 19468 model_lib_v2.py:705] Step 2100 per-step time 0.112s\n",
      "INFO:tensorflow:{'Loss/classification_loss': 0.075462155,\n",
      " 'Loss/localization_loss': 0.01758428,\n",
      " 'Loss/regularization_loss': 0.14455798,\n",
      " 'Loss/total_loss': 0.23760441,\n",
      " 'learning_rate': 0.07990056}\n",
      "I0216 14:14:30.492748 19468 model_lib_v2.py:708] {'Loss/classification_loss': 0.075462155,\n",
      " 'Loss/localization_loss': 0.01758428,\n",
      " 'Loss/regularization_loss': 0.14455798,\n",
      " 'Loss/total_loss': 0.23760441,\n",
      " 'learning_rate': 0.07990056}\n",
      "INFO:tensorflow:Step 2200 per-step time 0.100s\n",
      "I0216 14:14:40.508748 19468 model_lib_v2.py:705] Step 2200 per-step time 0.100s\n",
      "INFO:tensorflow:{'Loss/classification_loss': 0.13275588,\n",
      " 'Loss/localization_loss': 0.038052812,\n",
      " 'Loss/regularization_loss': 0.14383249,\n",
      " 'Loss/total_loss': 0.31464118,\n",
      " 'learning_rate': 0.07988167}\n",
      "I0216 14:14:40.508748 19468 model_lib_v2.py:708] {'Loss/classification_loss': 0.13275588,\n",
      " 'Loss/localization_loss': 0.038052812,\n",
      " 'Loss/regularization_loss': 0.14383249,\n",
      " 'Loss/total_loss': 0.31464118,\n",
      " 'learning_rate': 0.07988167}\n",
      "INFO:tensorflow:Step 2300 per-step time 0.103s\n",
      "I0216 14:14:50.792748 19468 model_lib_v2.py:705] Step 2300 per-step time 0.103s\n",
      "INFO:tensorflow:{'Loss/classification_loss': 0.06397544,\n",
      " 'Loss/localization_loss': 0.01250198,\n",
      " 'Loss/regularization_loss': 0.14319886,\n",
      " 'Loss/total_loss': 0.21967629,\n",
      " 'learning_rate': 0.07986114}\n",
      "I0216 14:14:50.792748 19468 model_lib_v2.py:708] {'Loss/classification_loss': 0.06397544,\n",
      " 'Loss/localization_loss': 0.01250198,\n",
      " 'Loss/regularization_loss': 0.14319886,\n",
      " 'Loss/total_loss': 0.21967629,\n",
      " 'learning_rate': 0.07986114}\n",
      "INFO:tensorflow:Step 2400 per-step time 0.106s\n",
      "I0216 14:15:01.410748 19468 model_lib_v2.py:705] Step 2400 per-step time 0.106s\n",
      "INFO:tensorflow:{'Loss/classification_loss': 0.083732106,\n",
      " 'Loss/localization_loss': 0.024963668,\n",
      " 'Loss/regularization_loss': 0.14247891,\n",
      " 'Loss/total_loss': 0.2511747,\n",
      " 'learning_rate': 0.07983897}\n",
      "I0216 14:15:01.410748 19468 model_lib_v2.py:708] {'Loss/classification_loss': 0.083732106,\n",
      " 'Loss/localization_loss': 0.024963668,\n",
      " 'Loss/regularization_loss': 0.14247891,\n",
      " 'Loss/total_loss': 0.2511747,\n",
      " 'learning_rate': 0.07983897}\n",
      "INFO:tensorflow:Step 2500 per-step time 0.106s\n",
      "I0216 14:15:11.991748 19468 model_lib_v2.py:705] Step 2500 per-step time 0.106s\n",
      "INFO:tensorflow:{'Loss/classification_loss': 0.09280542,\n",
      " 'Loss/localization_loss': 0.016724885,\n",
      " 'Loss/regularization_loss': 0.14171474,\n",
      " 'Loss/total_loss': 0.25124505,\n",
      " 'learning_rate': 0.079815164}\n",
      "I0216 14:15:11.991748 19468 model_lib_v2.py:708] {'Loss/classification_loss': 0.09280542,\n",
      " 'Loss/localization_loss': 0.016724885,\n",
      " 'Loss/regularization_loss': 0.14171474,\n",
      " 'Loss/total_loss': 0.25124505,\n",
      " 'learning_rate': 0.079815164}\n",
      "INFO:tensorflow:Step 2600 per-step time 0.106s\n",
      "I0216 14:15:22.565750 19468 model_lib_v2.py:705] Step 2600 per-step time 0.106s\n",
      "INFO:tensorflow:{'Loss/classification_loss': 0.07283181,\n",
      " 'Loss/localization_loss': 0.020971248,\n",
      " 'Loss/regularization_loss': 0.14101796,\n",
      " 'Loss/total_loss': 0.23482102,\n",
      " 'learning_rate': 0.07978972}\n",
      "I0216 14:15:22.565750 19468 model_lib_v2.py:708] {'Loss/classification_loss': 0.07283181,\n",
      " 'Loss/localization_loss': 0.020971248,\n",
      " 'Loss/regularization_loss': 0.14101796,\n",
      " 'Loss/total_loss': 0.23482102,\n",
      " 'learning_rate': 0.07978972}\n",
      "INFO:tensorflow:Step 2700 per-step time 0.105s\n",
      "I0216 14:15:33.105750 19468 model_lib_v2.py:705] Step 2700 per-step time 0.105s\n",
      "INFO:tensorflow:{'Loss/classification_loss': 0.038273893,\n",
      " 'Loss/localization_loss': 0.018720219,\n",
      " 'Loss/regularization_loss': 0.14029606,\n",
      " 'Loss/total_loss': 0.19729017,\n",
      " 'learning_rate': 0.07976264}\n",
      "I0216 14:15:33.105750 19468 model_lib_v2.py:708] {'Loss/classification_loss': 0.038273893,\n",
      " 'Loss/localization_loss': 0.018720219,\n",
      " 'Loss/regularization_loss': 0.14029606,\n",
      " 'Loss/total_loss': 0.19729017,\n",
      " 'learning_rate': 0.07976264}\n",
      "INFO:tensorflow:Step 2800 per-step time 0.103s\n",
      "I0216 14:15:43.391748 19468 model_lib_v2.py:705] Step 2800 per-step time 0.103s\n",
      "INFO:tensorflow:{'Loss/classification_loss': 0.039475176,\n",
      " 'Loss/localization_loss': 0.019514866,\n",
      " 'Loss/regularization_loss': 0.13955827,\n",
      " 'Loss/total_loss': 0.19854832,\n",
      " 'learning_rate': 0.07973392}\n",
      "I0216 14:15:43.392748 19468 model_lib_v2.py:708] {'Loss/classification_loss': 0.039475176,\n",
      " 'Loss/localization_loss': 0.019514866,\n",
      " 'Loss/regularization_loss': 0.13955827,\n",
      " 'Loss/total_loss': 0.19854832,\n",
      " 'learning_rate': 0.07973392}\n",
      "INFO:tensorflow:Step 2900 per-step time 0.103s\n",
      "I0216 14:15:53.689751 19468 model_lib_v2.py:705] Step 2900 per-step time 0.103s\n",
      "INFO:tensorflow:{'Loss/classification_loss': 0.041059203,\n",
      " 'Loss/localization_loss': 0.015852856,\n",
      " 'Loss/regularization_loss': 0.13883972,\n",
      " 'Loss/total_loss': 0.19575179,\n",
      " 'learning_rate': 0.07970358}\n",
      "I0216 14:15:53.690751 19468 model_lib_v2.py:708] {'Loss/classification_loss': 0.041059203,\n",
      " 'Loss/localization_loss': 0.015852856,\n",
      " 'Loss/regularization_loss': 0.13883972,\n",
      " 'Loss/total_loss': 0.19575179,\n",
      " 'learning_rate': 0.07970358}\n",
      "INFO:tensorflow:Step 3000 per-step time 0.106s\n",
      "I0216 14:16:04.247750 19468 model_lib_v2.py:705] Step 3000 per-step time 0.106s\n",
      "INFO:tensorflow:{'Loss/classification_loss': 0.04064461,\n",
      " 'Loss/localization_loss': 0.016281126,\n",
      " 'Loss/regularization_loss': 0.1381065,\n",
      " 'Loss/total_loss': 0.19503224,\n",
      " 'learning_rate': 0.0796716}\n",
      "I0216 14:16:04.247750 19468 model_lib_v2.py:708] {'Loss/classification_loss': 0.04064461,\n",
      " 'Loss/localization_loss': 0.016281126,\n",
      " 'Loss/regularization_loss': 0.1381065,\n",
      " 'Loss/total_loss': 0.19503224,\n",
      " 'learning_rate': 0.0796716}\n"
     ]
    }
   ],
   "source": [
    "!{command}"
   ]
  },
  {
   "cell_type": "markdown",
   "metadata": {
    "id": "4_YRZu7npfDH"
   },
   "source": [
    "# 7. Evaluate the Model"
   ]
  },
  {
   "cell_type": "code",
   "execution_count": 79,
   "metadata": {
    "id": "80L7-fdPpfDH"
   },
   "outputs": [],
   "source": [
    "command = \"python {} --model_dir={} --pipeline_config_path={} --checkpoint_dir={}\".format(TRAINING_SCRIPT, paths['CHECKPOINT_PATH'],files['PIPELINE_CONFIG'], paths['CHECKPOINT_PATH'])"
   ]
  },
  {
   "cell_type": "code",
   "execution_count": 80,
   "metadata": {
    "colab": {
     "base_uri": "https://localhost:8080/"
    },
    "id": "lYsgEPx9pfDH",
    "outputId": "8632d48b-91d2-45d9-bcb8-c1b172bf6eed"
   },
   "outputs": [
    {
     "name": "stdout",
     "output_type": "stream",
     "text": [
      "python Tensorflow\\models\\research\\object_detection\\model_main_tf2.py --model_dir=Tensorflow\\workspace\\models\\my_ssd_mobnet_tuned --pipeline_config_path=Tensorflow\\workspace\\models\\my_ssd_mobnet_tuned\\pipeline.config --checkpoint_dir=Tensorflow\\workspace\\models\\my_ssd_mobnet_tuned\n"
     ]
    }
   ],
   "source": [
    "print(command)"
   ]
  },
  {
   "cell_type": "code",
   "execution_count": 81,
   "metadata": {
    "id": "lqTV2jGBpfDH"
   },
   "outputs": [
    {
     "name": "stdout",
     "output_type": "stream",
     "text": [
      "creating index...\n",
      "index created!\n",
      "creating index...\n",
      "index created!\n",
      "Running per image evaluation...\n",
      "Evaluate annotation type *bbox*\n",
      "DONE (t=0.03s).\n",
      "Accumulating evaluation results...\n",
      "DONE (t=0.03s).\n",
      " Average Precision  (AP) @[ IoU=0.50:0.95 | area=   all | maxDets=100 ] = 0.658\n",
      " Average Precision  (AP) @[ IoU=0.50      | area=   all | maxDets=100 ] = 1.000\n",
      " Average Precision  (AP) @[ IoU=0.75      | area=   all | maxDets=100 ] = 0.752\n",
      " Average Precision  (AP) @[ IoU=0.50:0.95 | area= small | maxDets=100 ] = -1.000\n",
      " Average Precision  (AP) @[ IoU=0.50:0.95 | area=medium | maxDets=100 ] = -1.000\n",
      " Average Precision  (AP) @[ IoU=0.50:0.95 | area= large | maxDets=100 ] = 0.658\n",
      " Average Recall     (AR) @[ IoU=0.50:0.95 | area=   all | maxDets=  1 ] = 0.656\n",
      " Average Recall     (AR) @[ IoU=0.50:0.95 | area=   all | maxDets= 10 ] = 0.756\n",
      " Average Recall     (AR) @[ IoU=0.50:0.95 | area=   all | maxDets=100 ] = 0.806\n",
      " Average Recall     (AR) @[ IoU=0.50:0.95 | area= small | maxDets=100 ] = -1.000\n",
      " Average Recall     (AR) @[ IoU=0.50:0.95 | area=medium | maxDets=100 ] = -1.000\n",
      " Average Recall     (AR) @[ IoU=0.50:0.95 | area= large | maxDets=100 ] = 0.806\n"
     ]
    },
    {
     "name": "stderr",
     "output_type": "stream",
     "text": [
      "WARNING:tensorflow:Forced number of epochs for all eval validations to be 1.\n",
      "W0216 14:17:25.656710 17428 model_lib_v2.py:1089] Forced number of epochs for all eval validations to be 1.\n",
      "INFO:tensorflow:Maybe overwriting sample_1_of_n_eval_examples: None\n",
      "I0216 14:17:25.656710 17428 config_util.py:552] Maybe overwriting sample_1_of_n_eval_examples: None\n",
      "INFO:tensorflow:Maybe overwriting use_bfloat16: False\n",
      "I0216 14:17:25.656710 17428 config_util.py:552] Maybe overwriting use_bfloat16: False\n",
      "INFO:tensorflow:Maybe overwriting eval_num_epochs: 1\n",
      "I0216 14:17:25.657710 17428 config_util.py:552] Maybe overwriting eval_num_epochs: 1\n",
      "WARNING:tensorflow:Expected number of evaluation epochs is 1, but instead encountered `eval_on_train_input_config.num_epochs` = 0. Overwriting `num_epochs` to 1.\n",
      "W0216 14:17:25.657710 17428 model_lib_v2.py:1107] Expected number of evaluation epochs is 1, but instead encountered `eval_on_train_input_config.num_epochs` = 0. Overwriting `num_epochs` to 1.\n",
      "2022-02-16 14:17:25.661314: I tensorflow/core/platform/cpu_feature_guard.cc:151] This TensorFlow binary is optimized with oneAPI Deep Neural Network Library (oneDNN) to use the following CPU instructions in performance-critical operations:  AVX AVX2\n",
      "To enable them in other operations, rebuild TensorFlow with the appropriate compiler flags.\n",
      "2022-02-16 14:17:26.161724: I tensorflow/core/common_runtime/gpu/gpu_device.cc:1525] Created device /job:localhost/replica:0/task:0/device:GPU:0 with 3957 MB memory:  -> device: 0, name: NVIDIA GeForce RTX 2060, pci bus id: 0000:06:00.0, compute capability: 7.5\n",
      "INFO:tensorflow:Reading unweighted datasets: ['Tensorflow\\\\workspace\\\\annotations\\\\test.record']\n",
      "I0216 14:17:26.315423 17428 dataset_builder.py:163] Reading unweighted datasets: ['Tensorflow\\\\workspace\\\\annotations\\\\test.record']\n",
      "INFO:tensorflow:Reading record datasets for input file: ['Tensorflow\\\\workspace\\\\annotations\\\\test.record']\n",
      "I0216 14:17:26.316423 17428 dataset_builder.py:80] Reading record datasets for input file: ['Tensorflow\\\\workspace\\\\annotations\\\\test.record']\n",
      "INFO:tensorflow:Number of filenames to read: 1\n",
      "I0216 14:17:26.316423 17428 dataset_builder.py:81] Number of filenames to read: 1\n",
      "WARNING:tensorflow:num_readers has been reduced to 1 to match input file shards.\n",
      "W0216 14:17:26.316423 17428 dataset_builder.py:87] num_readers has been reduced to 1 to match input file shards.\n",
      "WARNING:tensorflow:From C:\\Users\\brito\\OneDrive\\Documentos\\1 - Data Science\\5 - Projetos\\8 - TensorFlow Object Detection\\TFODCourse\\tfod\\lib\\site-packages\\object_detection-0.1-py3.9.egg\\object_detection\\builders\\dataset_builder.py:101: parallel_interleave (from tensorflow.python.data.experimental.ops.interleave_ops) is deprecated and will be removed in a future version.\n",
      "Instructions for updating:\n",
      "Use `tf.data.Dataset.interleave(map_func, cycle_length, block_length, num_parallel_calls=tf.data.AUTOTUNE)` instead. If sloppy execution is desired, use `tf.data.Options.deterministic`.\n",
      "W0216 14:17:26.318423 17428 deprecation.py:337] From C:\\Users\\brito\\OneDrive\\Documentos\\1 - Data Science\\5 - Projetos\\8 - TensorFlow Object Detection\\TFODCourse\\tfod\\lib\\site-packages\\object_detection-0.1-py3.9.egg\\object_detection\\builders\\dataset_builder.py:101: parallel_interleave (from tensorflow.python.data.experimental.ops.interleave_ops) is deprecated and will be removed in a future version.\n",
      "Instructions for updating:\n",
      "Use `tf.data.Dataset.interleave(map_func, cycle_length, block_length, num_parallel_calls=tf.data.AUTOTUNE)` instead. If sloppy execution is desired, use `tf.data.Options.deterministic`.\n",
      "WARNING:tensorflow:From C:\\Users\\brito\\OneDrive\\Documentos\\1 - Data Science\\5 - Projetos\\8 - TensorFlow Object Detection\\TFODCourse\\tfod\\lib\\site-packages\\object_detection-0.1-py3.9.egg\\object_detection\\builders\\dataset_builder.py:236: DatasetV1.map_with_legacy_function (from tensorflow.python.data.ops.dataset_ops) is deprecated and will be removed in a future version.\n",
      "Instructions for updating:\n",
      "Use `tf.data.Dataset.map()\n",
      "W0216 14:17:26.341823 17428 deprecation.py:337] From C:\\Users\\brito\\OneDrive\\Documentos\\1 - Data Science\\5 - Projetos\\8 - TensorFlow Object Detection\\TFODCourse\\tfod\\lib\\site-packages\\object_detection-0.1-py3.9.egg\\object_detection\\builders\\dataset_builder.py:236: DatasetV1.map_with_legacy_function (from tensorflow.python.data.ops.dataset_ops) is deprecated and will be removed in a future version.\n",
      "Instructions for updating:\n",
      "Use `tf.data.Dataset.map()\n",
      "WARNING:tensorflow:From C:\\Users\\brito\\OneDrive\\Documentos\\1 - Data Science\\5 - Projetos\\8 - TensorFlow Object Detection\\TFODCourse\\tfod\\lib\\site-packages\\tensorflow\\python\\util\\dispatch.py:1082: sparse_to_dense (from tensorflow.python.ops.sparse_ops) is deprecated and will be removed in a future version.\n",
      "Instructions for updating:\n",
      "Create a `tf.sparse.SparseTensor` and use `tf.sparse.to_dense` instead.\n",
      "W0216 14:17:30.809556 17428 deprecation.py:337] From C:\\Users\\brito\\OneDrive\\Documentos\\1 - Data Science\\5 - Projetos\\8 - TensorFlow Object Detection\\TFODCourse\\tfod\\lib\\site-packages\\tensorflow\\python\\util\\dispatch.py:1082: sparse_to_dense (from tensorflow.python.ops.sparse_ops) is deprecated and will be removed in a future version.\n",
      "Instructions for updating:\n",
      "Create a `tf.sparse.SparseTensor` and use `tf.sparse.to_dense` instead.\n",
      "WARNING:tensorflow:From C:\\Users\\brito\\OneDrive\\Documentos\\1 - Data Science\\5 - Projetos\\8 - TensorFlow Object Detection\\TFODCourse\\tfod\\lib\\site-packages\\tensorflow\\python\\util\\dispatch.py:1082: to_float (from tensorflow.python.ops.math_ops) is deprecated and will be removed in a future version.\n",
      "Instructions for updating:\n",
      "Use `tf.cast` instead.\n",
      "W0216 14:17:31.991593 17428 deprecation.py:337] From C:\\Users\\brito\\OneDrive\\Documentos\\1 - Data Science\\5 - Projetos\\8 - TensorFlow Object Detection\\TFODCourse\\tfod\\lib\\site-packages\\tensorflow\\python\\util\\dispatch.py:1082: to_float (from tensorflow.python.ops.math_ops) is deprecated and will be removed in a future version.\n",
      "Instructions for updating:\n",
      "Use `tf.cast` instead.\n",
      "INFO:tensorflow:Waiting for new checkpoint at Tensorflow\\workspace\\models\\my_ssd_mobnet_tuned\n",
      "I0216 14:17:34.934810 17428 checkpoint_utils.py:136] Waiting for new checkpoint at Tensorflow\\workspace\\models\\my_ssd_mobnet_tuned\n",
      "INFO:tensorflow:Found new checkpoint at Tensorflow\\workspace\\models\\my_ssd_mobnet_tuned\\ckpt-4\n",
      "I0216 14:17:34.936807 17428 checkpoint_utils.py:145] Found new checkpoint at Tensorflow\\workspace\\models\\my_ssd_mobnet_tuned\\ckpt-4\n",
      "C:\\Users\\brito\\OneDrive\\Documentos\\1 - Data Science\\5 - Projetos\\8 - TensorFlow Object Detection\\TFODCourse\\tfod\\lib\\site-packages\\keras\\backend.py:450: UserWarning: `tf.keras.backend.set_learning_phase` is deprecated and will be removed after 2020-10-11. To update it, simply pass a True/False value to the `training` argument of the `__call__` method of your layer or model.\n",
      "  warnings.warn('`tf.keras.backend.set_learning_phase` is deprecated and '\n",
      "2022-02-16 14:18:00.937869: I tensorflow/stream_executor/cuda/cuda_dnn.cc:368] Loaded cuDNN version 8100\n",
      "WARNING:tensorflow:From C:\\Users\\brito\\OneDrive\\Documentos\\1 - Data Science\\5 - Projetos\\8 - TensorFlow Object Detection\\TFODCourse\\tfod\\lib\\site-packages\\tensorflow\\python\\util\\dispatch.py:1082: to_int64 (from tensorflow.python.ops.math_ops) is deprecated and will be removed in a future version.\n",
      "Instructions for updating:\n",
      "Use `tf.cast` instead.\n",
      "W0216 14:18:03.577524 17428 deprecation.py:337] From C:\\Users\\brito\\OneDrive\\Documentos\\1 - Data Science\\5 - Projetos\\8 - TensorFlow Object Detection\\TFODCourse\\tfod\\lib\\site-packages\\tensorflow\\python\\util\\dispatch.py:1082: to_int64 (from tensorflow.python.ops.math_ops) is deprecated and will be removed in a future version.\n",
      "Instructions for updating:\n",
      "Use `tf.cast` instead.\n",
      "INFO:tensorflow:Finished eval step 0\n",
      "I0216 14:18:03.598524 17428 model_lib_v2.py:966] Finished eval step 0\n",
      "WARNING:tensorflow:From C:\\Users\\brito\\OneDrive\\Documentos\\1 - Data Science\\5 - Projetos\\8 - TensorFlow Object Detection\\TFODCourse\\tfod\\lib\\site-packages\\tensorflow\\python\\autograph\\impl\\api.py:459: py_func (from tensorflow.python.ops.script_ops) is deprecated and will be removed in a future version.\n",
      "Instructions for updating:\n",
      "tf.py_func is deprecated in TF V2. Instead, there are two\n",
      "    options available in V2.\n",
      "    - tf.py_function takes a python function which manipulates tf eager\n",
      "    tensors instead of numpy arrays. It's easy to convert a tf eager tensor to\n",
      "    an ndarray (just call tensor.numpy()) but having access to eager tensors\n",
      "    means `tf.py_function`s can use accelerators such as GPUs as well as\n",
      "    being differentiable using a gradient tape.\n",
      "    - tf.numpy_function maintains the semantics of the deprecated tf.py_func\n",
      "    (it is not differentiable, and manipulates numpy arrays). It drops the\n",
      "    stateful argument making all functions stateful.\n",
      "    \n",
      "W0216 14:18:03.799527 17428 deprecation.py:337] From C:\\Users\\brito\\OneDrive\\Documentos\\1 - Data Science\\5 - Projetos\\8 - TensorFlow Object Detection\\TFODCourse\\tfod\\lib\\site-packages\\tensorflow\\python\\autograph\\impl\\api.py:459: py_func (from tensorflow.python.ops.script_ops) is deprecated and will be removed in a future version.\n",
      "Instructions for updating:\n",
      "tf.py_func is deprecated in TF V2. Instead, there are two\n",
      "    options available in V2.\n",
      "    - tf.py_function takes a python function which manipulates tf eager\n",
      "    tensors instead of numpy arrays. It's easy to convert a tf eager tensor to\n",
      "    an ndarray (just call tensor.numpy()) but having access to eager tensors\n",
      "    means `tf.py_function`s can use accelerators such as GPUs as well as\n",
      "    being differentiable using a gradient tape.\n",
      "    - tf.numpy_function maintains the semantics of the deprecated tf.py_func\n",
      "    (it is not differentiable, and manipulates numpy arrays). It drops the\n",
      "    stateful argument making all functions stateful.\n",
      "    \n",
      "INFO:tensorflow:Performing evaluation on 9 images.\n",
      "I0216 14:18:05.423527 17428 coco_evaluation.py:293] Performing evaluation on 9 images.\n",
      "INFO:tensorflow:Loading and preparing annotation results...\n",
      "I0216 14:18:05.423527 17428 coco_tools.py:116] Loading and preparing annotation results...\n",
      "INFO:tensorflow:DONE (t=0.00s)\n",
      "I0216 14:18:05.424527 17428 coco_tools.py:138] DONE (t=0.00s)\n",
      "INFO:tensorflow:Eval metrics at step 3000\n",
      "I0216 14:18:05.485527 17428 model_lib_v2.py:1015] Eval metrics at step 3000\n",
      "INFO:tensorflow:\t+ DetectionBoxes_Precision/mAP: 0.657777\n",
      "I0216 14:18:05.488528 17428 model_lib_v2.py:1018] \t+ DetectionBoxes_Precision/mAP: 0.657777\n",
      "INFO:tensorflow:\t+ DetectionBoxes_Precision/mAP@.50IOU: 1.000000\n",
      "I0216 14:18:05.502527 17428 model_lib_v2.py:1018] \t+ DetectionBoxes_Precision/mAP@.50IOU: 1.000000\n",
      "INFO:tensorflow:\t+ DetectionBoxes_Precision/mAP@.75IOU: 0.752083\n",
      "I0216 14:18:05.503527 17428 model_lib_v2.py:1018] \t+ DetectionBoxes_Precision/mAP@.75IOU: 0.752083\n",
      "INFO:tensorflow:\t+ DetectionBoxes_Precision/mAP (small): -1.000000\n",
      "I0216 14:18:05.504526 17428 model_lib_v2.py:1018] \t+ DetectionBoxes_Precision/mAP (small): -1.000000\n",
      "INFO:tensorflow:\t+ DetectionBoxes_Precision/mAP (medium): -1.000000\n",
      "I0216 14:18:05.505526 17428 model_lib_v2.py:1018] \t+ DetectionBoxes_Precision/mAP (medium): -1.000000\n",
      "INFO:tensorflow:\t+ DetectionBoxes_Precision/mAP (large): 0.657779\n",
      "I0216 14:18:05.506526 17428 model_lib_v2.py:1018] \t+ DetectionBoxes_Precision/mAP (large): 0.657779\n",
      "INFO:tensorflow:\t+ DetectionBoxes_Recall/AR@1: 0.656250\n",
      "I0216 14:18:05.507527 17428 model_lib_v2.py:1018] \t+ DetectionBoxes_Recall/AR@1: 0.656250\n",
      "INFO:tensorflow:\t+ DetectionBoxes_Recall/AR@10: 0.756250\n",
      "I0216 14:18:05.508527 17428 model_lib_v2.py:1018] \t+ DetectionBoxes_Recall/AR@10: 0.756250\n",
      "INFO:tensorflow:\t+ DetectionBoxes_Recall/AR@100: 0.806250\n",
      "I0216 14:18:05.509526 17428 model_lib_v2.py:1018] \t+ DetectionBoxes_Recall/AR@100: 0.806250\n",
      "INFO:tensorflow:\t+ DetectionBoxes_Recall/AR@100 (small): -1.000000\n",
      "I0216 14:18:05.510528 17428 model_lib_v2.py:1018] \t+ DetectionBoxes_Recall/AR@100 (small): -1.000000\n",
      "INFO:tensorflow:\t+ DetectionBoxes_Recall/AR@100 (medium): -1.000000\n",
      "I0216 14:18:05.511526 17428 model_lib_v2.py:1018] \t+ DetectionBoxes_Recall/AR@100 (medium): -1.000000\n",
      "INFO:tensorflow:\t+ DetectionBoxes_Recall/AR@100 (large): 0.806250\n",
      "I0216 14:18:05.512527 17428 model_lib_v2.py:1018] \t+ DetectionBoxes_Recall/AR@100 (large): 0.806250\n",
      "INFO:tensorflow:\t+ Loss/localization_loss: 0.104802\n",
      "I0216 14:18:05.515527 17428 model_lib_v2.py:1018] \t+ Loss/localization_loss: 0.104802\n",
      "INFO:tensorflow:\t+ Loss/classification_loss: 0.166377\n",
      "I0216 14:18:05.516525 17428 model_lib_v2.py:1018] \t+ Loss/classification_loss: 0.166377\n",
      "INFO:tensorflow:\t+ Loss/regularization_loss: 0.138099\n",
      "I0216 14:18:05.518527 17428 model_lib_v2.py:1018] \t+ Loss/regularization_loss: 0.138099\n",
      "INFO:tensorflow:\t+ Loss/total_loss: 0.409279\n",
      "I0216 14:18:05.518527 17428 model_lib_v2.py:1018] \t+ Loss/total_loss: 0.409279\n",
      "INFO:tensorflow:Waiting for new checkpoint at Tensorflow\\workspace\\models\\my_ssd_mobnet_tuned\n",
      "I0216 14:22:34.946037 17428 checkpoint_utils.py:136] Waiting for new checkpoint at Tensorflow\\workspace\\models\\my_ssd_mobnet_tuned\n",
      "INFO:tensorflow:Timed-out waiting for a checkpoint.\n",
      "I0216 15:22:34.365346 17428 checkpoint_utils.py:199] Timed-out waiting for a checkpoint.\n"
     ]
    }
   ],
   "source": [
    "!{command}"
   ]
  },
  {
   "cell_type": "markdown",
   "metadata": {
    "id": "orvRk02UpfDI"
   },
   "source": [
    "# 8. Load Train Model From Checkpoint"
   ]
  },
  {
   "cell_type": "code",
   "execution_count": 82,
   "metadata": {
    "id": "8TYk4_oIpfDI"
   },
   "outputs": [],
   "source": [
    "import os\n",
    "import tensorflow as tf\n",
    "from object_detection.utils import label_map_util\n",
    "from object_detection.utils import visualization_utils as viz_utils\n",
    "from object_detection.builders import model_builder\n",
    "from object_detection.utils import config_util"
   ]
  },
  {
   "cell_type": "code",
   "execution_count": 83,
   "metadata": {
    "id": "tDnQg-cYpfDI"
   },
   "outputs": [],
   "source": [
    "# Load pipeline config and build a detection model\n",
    "configs = config_util.get_configs_from_pipeline_file(files['PIPELINE_CONFIG'])\n",
    "detection_model = model_builder.build(model_config=configs['model'], is_training=False)\n",
    "\n",
    "# Restore checkpoint\n",
    "ckpt = tf.compat.v2.train.Checkpoint(model=detection_model)\n",
    "ckpt.restore(os.path.join(paths['CHECKPOINT_PATH'], 'ckpt-4')).expect_partial()\n",
    "\n",
    "@tf.function\n",
    "def detect_fn(image):\n",
    "    image, shapes = detection_model.preprocess(image)\n",
    "    prediction_dict = detection_model.predict(image, shapes)\n",
    "    detections = detection_model.postprocess(prediction_dict, shapes)\n",
    "    return detections"
   ]
  },
  {
   "cell_type": "markdown",
   "metadata": {
    "id": "0EmsmbBZpfDI"
   },
   "source": [
    "# 9. Detect from an Image"
   ]
  },
  {
   "cell_type": "code",
   "execution_count": 84,
   "metadata": {
    "id": "Y_MKiuZ4pfDI"
   },
   "outputs": [],
   "source": [
    "import cv2 \n",
    "import numpy as np\n",
    "from matplotlib import pyplot as plt\n",
    "%matplotlib inline"
   ]
  },
  {
   "cell_type": "code",
   "execution_count": 85,
   "metadata": {
    "id": "cBDbIhNapfDI"
   },
   "outputs": [],
   "source": [
    "category_index = label_map_util.create_category_index_from_labelmap(files['LABELMAP'])"
   ]
  },
  {
   "cell_type": "code",
   "execution_count": 35,
   "metadata": {
    "id": "Lx3crOhOzITB"
   },
   "outputs": [],
   "source": [
    "IMAGE_PATH = os.path.join(paths['IMAGE_PATH'], 'test', 'thumbsdown.cedb82a8-8e86-11ec-9640-8c882b122a33.jpg')"
   ]
  },
  {
   "cell_type": "code",
   "execution_count": 86,
   "metadata": {
    "colab": {
     "base_uri": "https://localhost:8080/",
     "height": 269
    },
    "id": "Tpzn1SMry1yK",
    "outputId": "c392a2c5-10fe-4fc4-9998-a1d4c7db2bd3"
   },
   "outputs": [
    {
     "data": {
      "image/png": "[encoded data removed]",
      "text/plain": [
       "<Figure size 432x288 with 1 Axes>"
      ]
     },
     "metadata": {
      "needs_background": "light"
     },
     "output_type": "display_data"
    }
   ],
   "source": [
    "img = cv2.imread(IMAGE_PATH)\n",
    "image_np = np.array(img)\n",
    "\n",
    "input_tensor = tf.convert_to_tensor(np.expand_dims(image_np, 0), dtype=tf.float32)\n",
    "detections = detect_fn(input_tensor)\n",
    "\n",
    "num_detections = int(detections.pop('num_detections'))\n",
    "detections = {key: value[0, :num_detections].numpy()\n",
    "              for key, value in detections.items()}\n",
    "detections['num_detections'] = num_detections\n",
    "\n",
    "# detection_classes should be ints.\n",
    "detections['detection_classes'] = detections['detection_classes'].astype(np.int64)\n",
    "\n",
    "label_id_offset = 1\n",
    "image_np_with_detections = image_np.copy()\n",
    "\n",
    "viz_utils.visualize_boxes_and_labels_on_image_array(\n",
    "            image_np_with_detections,\n",
    "            detections['detection_boxes'],\n",
    "            detections['detection_classes']+label_id_offset,\n",
    "            detections['detection_scores'],\n",
    "            category_index,\n",
    "            use_normalized_coordinates=True,\n",
    "            max_boxes_to_draw=5,\n",
    "            min_score_thresh=.8,\n",
    "            agnostic_mode=False)\n",
    "\n",
    "plt.imshow(cv2.cvtColor(image_np_with_detections, cv2.COLOR_BGR2RGB))\n",
    "plt.show()"
   ]
  },
  {
   "cell_type": "markdown",
   "metadata": {
    "id": "IsNAaYAo0WVL"
   },
   "source": [
    "# 10. Real Time Detections from your Webcam"
   ]
  },
  {
   "cell_type": "code",
   "execution_count": 37,
   "metadata": {},
   "outputs": [],
   "source": [
    "#!pip uninstall opencv-python-headless -y"
   ]
  },
  {
   "cell_type": "code",
   "execution_count": 87,
   "metadata": {
    "id": "o_grs6OGpfDJ"
   },
   "outputs": [],
   "source": [
    "cap = cv2.VideoCapture(0)\n",
    "width = int(cap.get(cv2.CAP_PROP_FRAME_WIDTH))\n",
    "height = int(cap.get(cv2.CAP_PROP_FRAME_HEIGHT))\n",
    "\n",
    "while cap.isOpened(): \n",
    "    ret, frame = cap.read()\n",
    "    image_np = np.array(frame)\n",
    "    \n",
    "    input_tensor = tf.convert_to_tensor(np.expand_dims(image_np, 0), dtype=tf.float32)\n",
    "    detections = detect_fn(input_tensor)\n",
    "    \n",
    "    num_detections = int(detections.pop('num_detections'))\n",
    "    detections = {key: value[0, :num_detections].numpy()\n",
    "                  for key, value in detections.items()}\n",
    "    detections['num_detections'] = num_detections\n",
    "\n",
    "    # detection_classes should be ints.\n",
    "    detections['detection_classes'] = detections['detection_classes'].astype(np.int64)\n",
    "\n",
    "    label_id_offset = 1\n",
    "    image_np_with_detections = image_np.copy()\n",
    "\n",
    "    viz_utils.visualize_boxes_and_labels_on_image_array(\n",
    "                image_np_with_detections,\n",
    "                detections['detection_boxes'],\n",
    "                detections['detection_classes']+label_id_offset,\n",
    "                detections['detection_scores'],\n",
    "                category_index,\n",
    "                use_normalized_coordinates=True,\n",
    "                max_boxes_to_draw=5,\n",
    "                min_score_thresh=.8,\n",
    "                agnostic_mode=False)\n",
    "\n",
    "    cv2.imshow('object detection',  cv2.resize(image_np_with_detections, (800, 600)))\n",
    "    \n",
    "    if cv2.waitKey(10) & 0xFF == ord('q'):\n",
    "        cap.release()\n",
    "        cv2.destroyAllWindows()\n",
    "        break"
   ]
  },
  {
   "cell_type": "markdown",
   "metadata": {
    "id": "rzlM4jt0pfDJ"
   },
   "source": [
    "# 10. Freezing the Graph"
   ]
  },
  {
   "cell_type": "code",
   "execution_count": 39,
   "metadata": {
    "id": "n4olHB2npfDJ"
   },
   "outputs": [],
   "source": [
    "FREEZE_SCRIPT = os.path.join(paths['APIMODEL_PATH'], 'research', 'object_detection', 'exporter_main_v2.py ')"
   ]
  },
  {
   "cell_type": "code",
   "execution_count": 40,
   "metadata": {
    "id": "0AjO93QDpfDJ"
   },
   "outputs": [],
   "source": [
    "command = \"python {} --input_type=image_tensor --pipeline_config_path={} --trained_checkpoint_dir={} --output_directory={}\".format(FREEZE_SCRIPT ,files['PIPELINE_CONFIG'], paths['CHECKPOINT_PATH'], paths['OUTPUT_PATH'])"
   ]
  },
  {
   "cell_type": "code",
   "execution_count": 41,
   "metadata": {
    "colab": {
     "base_uri": "https://localhost:8080/"
    },
    "id": "F6Lsp3tCpfDJ",
    "outputId": "c3828529-bf06-4df5-d7f3-145890ec3edd"
   },
   "outputs": [
    {
     "name": "stdout",
     "output_type": "stream",
     "text": [
      "python Tensorflow\\models\\research\\object_detection\\exporter_main_v2.py  --input_type=image_tensor --pipeline_config_path=Tensorflow\\workspace\\models\\my_ssd_mobnet\\pipeline.config --trained_checkpoint_dir=Tensorflow\\workspace\\models\\my_ssd_mobnet --output_directory=Tensorflow\\workspace\\models\\my_ssd_mobnet\\export\n"
     ]
    }
   ],
   "source": [
    "print(command)"
   ]
  },
  {
   "cell_type": "code",
   "execution_count": 42,
   "metadata": {
    "colab": {
     "base_uri": "https://localhost:8080/"
    },
    "id": "1Sw1ULgHpfDJ",
    "outputId": "6fd441e1-9fc9-4889-d072-3395c21e40b6"
   },
   "outputs": [
    {
     "name": "stderr",
     "output_type": "stream",
     "text": [
      "2022-02-16 13:31:16.333318: I tensorflow/core/platform/cpu_feature_guard.cc:151] This TensorFlow binary is optimized with oneAPI Deep Neural Network Library (oneDNN) to use the following CPU instructions in performance-critical operations:  AVX AVX2\n",
      "To enable them in other operations, rebuild TensorFlow with the appropriate compiler flags.\n",
      "2022-02-16 13:31:16.862842: I tensorflow/core/common_runtime/gpu/gpu_device.cc:1525] Created device /job:localhost/replica:0/task:0/device:GPU:0 with 3438 MB memory:  -> device: 0, name: NVIDIA GeForce RTX 2060, pci bus id: 0000:06:00.0, compute capability: 7.5\n",
      "WARNING:tensorflow:From C:\\Users\\brito\\OneDrive\\Documentos\\1 - Data Science\\5 - Projetos\\8 - TensorFlow Object Detection\\TFODCourse\\tfod\\lib\\site-packages\\tensorflow\\python\\autograph\\impl\\api.py:458: calling map_fn_v2 (from tensorflow.python.ops.map_fn) with back_prop=False is deprecated and will be removed in a future version.\n",
      "Instructions for updating:\n",
      "back_prop=False is deprecated. Consider using tf.stop_gradient instead.\n",
      "Instead of:\n",
      "results = tf.map_fn(fn, elems, back_prop=False)\n",
      "Use:\n",
      "results = tf.nest.map_structure(tf.stop_gradient, tf.map_fn(fn, elems))\n",
      "W0216 13:31:18.330344  4228 deprecation.py:610] From C:\\Users\\brito\\OneDrive\\Documentos\\1 - Data Science\\5 - Projetos\\8 - TensorFlow Object Detection\\TFODCourse\\tfod\\lib\\site-packages\\tensorflow\\python\\autograph\\impl\\api.py:458: calling map_fn_v2 (from tensorflow.python.ops.map_fn) with back_prop=False is deprecated and will be removed in a future version.\n",
      "Instructions for updating:\n",
      "back_prop=False is deprecated. Consider using tf.stop_gradient instead.\n",
      "Instead of:\n",
      "results = tf.map_fn(fn, elems, back_prop=False)\n",
      "Use:\n",
      "results = tf.nest.map_structure(tf.stop_gradient, tf.map_fn(fn, elems))\n",
      "2022-02-16 13:31:38.188690: W tensorflow/python/util/util.cc:368] Sets are not currently considered sequences, but this may change in the future, so consider avoiding using them.\n",
      "WARNING:tensorflow:Skipping full serialization of Keras layer <object_detection.meta_architectures.ssd_meta_arch.SSDMetaArch object at 0x0000020785C7D6D0>, because it is not built.\n",
      "W0216 13:31:42.016474  4228 save_impl.py:71] Skipping full serialization of Keras layer <object_detection.meta_architectures.ssd_meta_arch.SSDMetaArch object at 0x0000020785C7D6D0>, because it is not built.\n",
      "WARNING:tensorflow:Skipping full serialization of Keras layer <keras.layers.convolutional.SeparableConv2D object at 0x0000020785D12370>, because it is not built.\n",
      "W0216 13:31:42.339542  4228 save_impl.py:71] Skipping full serialization of Keras layer <keras.layers.convolutional.SeparableConv2D object at 0x0000020785D12370>, because it is not built.\n",
      "WARNING:tensorflow:Skipping full serialization of Keras layer <object_detection.core.freezable_batch_norm.FreezableBatchNorm object at 0x000002078CC6D0D0>, because it is not built.\n",
      "W0216 13:31:42.339542  4228 save_impl.py:71] Skipping full serialization of Keras layer <object_detection.core.freezable_batch_norm.FreezableBatchNorm object at 0x000002078CC6D0D0>, because it is not built.\n",
      "WARNING:tensorflow:Skipping full serialization of Keras layer <keras.layers.core.lambda_layer.Lambda object at 0x000002078CDEF460>, because it is not built.\n",
      "W0216 13:31:42.339542  4228 save_impl.py:71] Skipping full serialization of Keras layer <keras.layers.core.lambda_layer.Lambda object at 0x000002078CDEF460>, because it is not built.\n",
      "WARNING:tensorflow:Skipping full serialization of Keras layer <keras.layers.convolutional.SeparableConv2D object at 0x000002078CD1D190>, because it is not built.\n",
      "W0216 13:31:42.339542  4228 save_impl.py:71] Skipping full serialization of Keras layer <keras.layers.convolutional.SeparableConv2D object at 0x000002078CD1D190>, because it is not built.\n",
      "WARNING:tensorflow:Skipping full serialization of Keras layer <object_detection.core.freezable_batch_norm.FreezableBatchNorm object at 0x000002078CE49130>, because it is not built.\n",
      "W0216 13:31:42.339542  4228 save_impl.py:71] Skipping full serialization of Keras layer <object_detection.core.freezable_batch_norm.FreezableBatchNorm object at 0x000002078CE49130>, because it is not built.\n",
      "WARNING:tensorflow:Skipping full serialization of Keras layer <keras.layers.core.lambda_layer.Lambda object at 0x000002078CE497F0>, because it is not built.\n",
      "W0216 13:31:42.340541  4228 save_impl.py:71] Skipping full serialization of Keras layer <keras.layers.core.lambda_layer.Lambda object at 0x000002078CE497F0>, because it is not built.\n",
      "WARNING:tensorflow:Skipping full serialization of Keras layer <keras.layers.convolutional.SeparableConv2D object at 0x0000020787943EE0>, because it is not built.\n",
      "W0216 13:31:42.340541  4228 save_impl.py:71] Skipping full serialization of Keras layer <keras.layers.convolutional.SeparableConv2D object at 0x0000020787943EE0>, because it is not built.\n",
      "WARNING:tensorflow:Skipping full serialization of Keras layer <object_detection.core.freezable_batch_norm.FreezableBatchNorm object at 0x0000020787943370>, because it is not built.\n",
      "W0216 13:31:42.340541  4228 save_impl.py:71] Skipping full serialization of Keras layer <object_detection.core.freezable_batch_norm.FreezableBatchNorm object at 0x0000020787943370>, because it is not built.\n",
      "WARNING:tensorflow:Skipping full serialization of Keras layer <keras.layers.core.lambda_layer.Lambda object at 0x000002078CE30D00>, because it is not built.\n",
      "W0216 13:31:42.340541  4228 save_impl.py:71] Skipping full serialization of Keras layer <keras.layers.core.lambda_layer.Lambda object at 0x000002078CE30D00>, because it is not built.\n",
      "WARNING:tensorflow:Skipping full serialization of Keras layer <keras.layers.convolutional.SeparableConv2D object at 0x000002078CE30D90>, because it is not built.\n",
      "W0216 13:31:42.340541  4228 save_impl.py:71] Skipping full serialization of Keras layer <keras.layers.convolutional.SeparableConv2D object at 0x000002078CE30D90>, because it is not built.\n",
      "WARNING:tensorflow:Skipping full serialization of Keras layer <object_detection.core.freezable_batch_norm.FreezableBatchNorm object at 0x000002078CBE80A0>, because it is not built.\n",
      "W0216 13:31:42.340541  4228 save_impl.py:71] Skipping full serialization of Keras layer <object_detection.core.freezable_batch_norm.FreezableBatchNorm object at 0x000002078CBE80A0>, because it is not built.\n",
      "WARNING:tensorflow:Skipping full serialization of Keras layer <keras.layers.core.lambda_layer.Lambda object at 0x000002078CBE8490>, because it is not built.\n",
      "W0216 13:31:42.340541  4228 save_impl.py:71] Skipping full serialization of Keras layer <keras.layers.core.lambda_layer.Lambda object at 0x000002078CBE8490>, because it is not built.\n",
      "WARNING:tensorflow:Skipping full serialization of Keras layer <object_detection.core.freezable_batch_norm.FreezableBatchNorm object at 0x0000020785D12940>, because it is not built.\n",
      "W0216 13:31:42.340541  4228 save_impl.py:71] Skipping full serialization of Keras layer <object_detection.core.freezable_batch_norm.FreezableBatchNorm object at 0x0000020785D12940>, because it is not built.\n",
      "WARNING:tensorflow:Skipping full serialization of Keras layer <keras.layers.core.lambda_layer.Lambda object at 0x000002078CF4F8E0>, because it is not built.\n",
      "W0216 13:31:42.340541  4228 save_impl.py:71] Skipping full serialization of Keras layer <keras.layers.core.lambda_layer.Lambda object at 0x000002078CF4F8E0>, because it is not built.\n",
      "WARNING:tensorflow:Skipping full serialization of Keras layer <object_detection.core.freezable_batch_norm.FreezableBatchNorm object at 0x000002078CF37730>, because it is not built.\n",
      "W0216 13:31:42.341539  4228 save_impl.py:71] Skipping full serialization of Keras layer <object_detection.core.freezable_batch_norm.FreezableBatchNorm object at 0x000002078CF37730>, because it is not built.\n",
      "WARNING:tensorflow:Skipping full serialization of Keras layer <keras.layers.core.lambda_layer.Lambda object at 0x000002078CF37A30>, because it is not built.\n",
      "W0216 13:31:42.341539  4228 save_impl.py:71] Skipping full serialization of Keras layer <keras.layers.core.lambda_layer.Lambda object at 0x000002078CF37A30>, because it is not built.\n",
      "WARNING:tensorflow:Skipping full serialization of Keras layer <object_detection.core.freezable_batch_norm.FreezableBatchNorm object at 0x000002078CF310D0>, because it is not built.\n",
      "W0216 13:31:42.341539  4228 save_impl.py:71] Skipping full serialization of Keras layer <object_detection.core.freezable_batch_norm.FreezableBatchNorm object at 0x000002078CF310D0>, because it is not built.\n",
      "WARNING:tensorflow:Skipping full serialization of Keras layer <keras.layers.core.lambda_layer.Lambda object at 0x000002078CF31670>, because it is not built.\n",
      "W0216 13:31:42.341539  4228 save_impl.py:71] Skipping full serialization of Keras layer <keras.layers.core.lambda_layer.Lambda object at 0x000002078CF31670>, because it is not built.\n",
      "WARNING:tensorflow:Skipping full serialization of Keras layer <object_detection.core.freezable_batch_norm.FreezableBatchNorm object at 0x000002078CF31130>, because it is not built.\n",
      "W0216 13:31:42.341539  4228 save_impl.py:71] Skipping full serialization of Keras layer <object_detection.core.freezable_batch_norm.FreezableBatchNorm object at 0x000002078CF31130>, because it is not built.\n",
      "WARNING:tensorflow:Skipping full serialization of Keras layer <keras.layers.core.lambda_layer.Lambda object at 0x000002078CF318E0>, because it is not built.\n",
      "W0216 13:31:42.341539  4228 save_impl.py:71] Skipping full serialization of Keras layer <keras.layers.core.lambda_layer.Lambda object at 0x000002078CF318E0>, because it is not built.\n",
      "WARNING:tensorflow:Skipping full serialization of Keras layer <object_detection.core.freezable_batch_norm.FreezableBatchNorm object at 0x0000020785D12970>, because it is not built.\n",
      "W0216 13:31:42.341539  4228 save_impl.py:71] Skipping full serialization of Keras layer <object_detection.core.freezable_batch_norm.FreezableBatchNorm object at 0x0000020785D12970>, because it is not built.\n",
      "WARNING:tensorflow:Skipping full serialization of Keras layer <keras.layers.core.lambda_layer.Lambda object at 0x000002078CF7A250>, because it is not built.\n",
      "W0216 13:31:42.341539  4228 save_impl.py:71] Skipping full serialization of Keras layer <keras.layers.core.lambda_layer.Lambda object at 0x000002078CF7A250>, because it is not built.\n",
      "WARNING:tensorflow:Skipping full serialization of Keras layer <object_detection.core.freezable_batch_norm.FreezableBatchNorm object at 0x0000020787902220>, because it is not built.\n",
      "W0216 13:31:42.341539  4228 save_impl.py:71] Skipping full serialization of Keras layer <object_detection.core.freezable_batch_norm.FreezableBatchNorm object at 0x0000020787902220>, because it is not built.\n",
      "WARNING:tensorflow:Skipping full serialization of Keras layer <keras.layers.core.lambda_layer.Lambda object at 0x0000020787902F70>, because it is not built.\n",
      "W0216 13:31:42.341539  4228 save_impl.py:71] Skipping full serialization of Keras layer <keras.layers.core.lambda_layer.Lambda object at 0x0000020787902F70>, because it is not built.\n",
      "WARNING:tensorflow:Skipping full serialization of Keras layer <object_detection.core.freezable_batch_norm.FreezableBatchNorm object at 0x000002078CF69580>, because it is not built.\n",
      "W0216 13:31:42.341539  4228 save_impl.py:71] Skipping full serialization of Keras layer <object_detection.core.freezable_batch_norm.FreezableBatchNorm object at 0x000002078CF69580>, because it is not built.\n",
      "WARNING:tensorflow:Skipping full serialization of Keras layer <keras.layers.core.lambda_layer.Lambda object at 0x000002078CF698B0>, because it is not built.\n",
      "W0216 13:31:42.341539  4228 save_impl.py:71] Skipping full serialization of Keras layer <keras.layers.core.lambda_layer.Lambda object at 0x000002078CF698B0>, because it is not built.\n",
      "WARNING:tensorflow:Skipping full serialization of Keras layer <object_detection.core.freezable_batch_norm.FreezableBatchNorm object at 0x000002078CF69BE0>, because it is not built.\n",
      "W0216 13:31:42.341539  4228 save_impl.py:71] Skipping full serialization of Keras layer <object_detection.core.freezable_batch_norm.FreezableBatchNorm object at 0x000002078CF69BE0>, because it is not built.\n",
      "WARNING:tensorflow:Skipping full serialization of Keras layer <keras.layers.core.lambda_layer.Lambda object at 0x000002078CF69FA0>, because it is not built.\n",
      "W0216 13:31:42.341539  4228 save_impl.py:71] Skipping full serialization of Keras layer <keras.layers.core.lambda_layer.Lambda object at 0x000002078CF69FA0>, because it is not built.\n",
      "WARNING:tensorflow:Skipping full serialization of Keras layer <object_detection.core.freezable_batch_norm.FreezableBatchNorm object at 0x0000020785D129A0>, because it is not built.\n",
      "W0216 13:31:42.342980  4228 save_impl.py:71] Skipping full serialization of Keras layer <object_detection.core.freezable_batch_norm.FreezableBatchNorm object at 0x0000020785D129A0>, because it is not built.\n",
      "WARNING:tensorflow:Skipping full serialization of Keras layer <keras.layers.core.lambda_layer.Lambda object at 0x000002078CD51D00>, because it is not built.\n",
      "W0216 13:31:42.342980  4228 save_impl.py:71] Skipping full serialization of Keras layer <keras.layers.core.lambda_layer.Lambda object at 0x000002078CD51D00>, because it is not built.\n",
      "WARNING:tensorflow:Skipping full serialization of Keras layer <object_detection.core.freezable_batch_norm.FreezableBatchNorm object at 0x000002078CF49D60>, because it is not built.\n",
      "W0216 13:31:42.342980  4228 save_impl.py:71] Skipping full serialization of Keras layer <object_detection.core.freezable_batch_norm.FreezableBatchNorm object at 0x000002078CF49D60>, because it is not built.\n",
      "WARNING:tensorflow:Skipping full serialization of Keras layer <keras.layers.core.lambda_layer.Lambda object at 0x000002078CF49F70>, because it is not built.\n",
      "W0216 13:31:42.342980  4228 save_impl.py:71] Skipping full serialization of Keras layer <keras.layers.core.lambda_layer.Lambda object at 0x000002078CF49F70>, because it is not built.\n",
      "WARNING:tensorflow:Skipping full serialization of Keras layer <object_detection.core.freezable_batch_norm.FreezableBatchNorm object at 0x000002078CF49B50>, because it is not built.\n",
      "W0216 13:31:42.342980  4228 save_impl.py:71] Skipping full serialization of Keras layer <object_detection.core.freezable_batch_norm.FreezableBatchNorm object at 0x000002078CF49B50>, because it is not built.\n",
      "WARNING:tensorflow:Skipping full serialization of Keras layer <keras.layers.core.lambda_layer.Lambda object at 0x00000207878B1340>, because it is not built.\n",
      "W0216 13:31:42.342980  4228 save_impl.py:71] Skipping full serialization of Keras layer <keras.layers.core.lambda_layer.Lambda object at 0x00000207878B1340>, because it is not built.\n",
      "WARNING:tensorflow:Skipping full serialization of Keras layer <object_detection.core.freezable_batch_norm.FreezableBatchNorm object at 0x00000207878CB0A0>, because it is not built.\n",
      "W0216 13:31:42.342980  4228 save_impl.py:71] Skipping full serialization of Keras layer <object_detection.core.freezable_batch_norm.FreezableBatchNorm object at 0x00000207878CB0A0>, because it is not built.\n",
      "WARNING:tensorflow:Skipping full serialization of Keras layer <keras.layers.core.lambda_layer.Lambda object at 0x00000207878CB490>, because it is not built.\n",
      "W0216 13:31:42.342980  4228 save_impl.py:71] Skipping full serialization of Keras layer <keras.layers.core.lambda_layer.Lambda object at 0x00000207878CB490>, because it is not built.\n",
      "WARNING:tensorflow:Skipping full serialization of Keras layer <object_detection.core.freezable_batch_norm.FreezableBatchNorm object at 0x000002078CF551F0>, because it is not built.\n",
      "W0216 13:31:42.342980  4228 save_impl.py:71] Skipping full serialization of Keras layer <object_detection.core.freezable_batch_norm.FreezableBatchNorm object at 0x000002078CF551F0>, because it is not built.\n",
      "WARNING:tensorflow:Skipping full serialization of Keras layer <keras.layers.core.lambda_layer.Lambda object at 0x000002078CF55BE0>, because it is not built.\n",
      "W0216 13:31:42.342980  4228 save_impl.py:71] Skipping full serialization of Keras layer <keras.layers.core.lambda_layer.Lambda object at 0x000002078CF55BE0>, because it is not built.\n",
      "WARNING:tensorflow:Skipping full serialization of Keras layer <object_detection.core.freezable_batch_norm.FreezableBatchNorm object at 0x000002078CF5C640>, because it is not built.\n",
      "W0216 13:31:42.342980  4228 save_impl.py:71] Skipping full serialization of Keras layer <object_detection.core.freezable_batch_norm.FreezableBatchNorm object at 0x000002078CF5C640>, because it is not built.\n",
      "WARNING:tensorflow:Skipping full serialization of Keras layer <keras.layers.core.lambda_layer.Lambda object at 0x000002078CF5CA60>, because it is not built.\n",
      "W0216 13:31:42.343978  4228 save_impl.py:71] Skipping full serialization of Keras layer <keras.layers.core.lambda_layer.Lambda object at 0x000002078CF5CA60>, because it is not built.\n",
      "WARNING:tensorflow:Skipping full serialization of Keras layer <object_detection.core.freezable_batch_norm.FreezableBatchNorm object at 0x000002078CF5CE50>, because it is not built.\n",
      "W0216 13:31:42.343978  4228 save_impl.py:71] Skipping full serialization of Keras layer <object_detection.core.freezable_batch_norm.FreezableBatchNorm object at 0x000002078CF5CE50>, because it is not built.\n",
      "WARNING:tensorflow:Skipping full serialization of Keras layer <keras.layers.core.lambda_layer.Lambda object at 0x000002078CF5CB80>, because it is not built.\n",
      "W0216 13:31:42.343978  4228 save_impl.py:71] Skipping full serialization of Keras layer <keras.layers.core.lambda_layer.Lambda object at 0x000002078CF5CB80>, because it is not built.\n",
      "WARNING:tensorflow:Skipping full serialization of Keras layer <object_detection.core.freezable_batch_norm.FreezableBatchNorm object at 0x000002078CF5C880>, because it is not built.\n",
      "W0216 13:31:42.343978  4228 save_impl.py:71] Skipping full serialization of Keras layer <object_detection.core.freezable_batch_norm.FreezableBatchNorm object at 0x000002078CF5C880>, because it is not built.\n",
      "WARNING:tensorflow:Skipping full serialization of Keras layer <keras.layers.core.lambda_layer.Lambda object at 0x000002078CF5C160>, because it is not built.\n",
      "W0216 13:31:42.343978  4228 save_impl.py:71] Skipping full serialization of Keras layer <keras.layers.core.lambda_layer.Lambda object at 0x000002078CF5C160>, because it is not built.\n",
      "W0216 13:32:00.508214  4228 save.py:260] Found untraced functions such as WeightSharedConvolutionalBoxPredictor_layer_call_fn, WeightSharedConvolutionalBoxPredictor_layer_call_and_return_conditional_losses, WeightSharedConvolutionalBoxHead_layer_call_fn, WeightSharedConvolutionalBoxHead_layer_call_and_return_conditional_losses, WeightSharedConvolutionalClassHead_layer_call_fn while saving (showing 5 of 104). These functions will not be directly callable after loading.\n",
      "INFO:tensorflow:Assets written to: Tensorflow\\workspace\\models\\my_ssd_mobnet\\export\\saved_model\\assets\n",
      "I0216 13:32:06.544810  4228 builder_impl.py:779] Assets written to: Tensorflow\\workspace\\models\\my_ssd_mobnet\\export\\saved_model\\assets\n",
      "INFO:tensorflow:Writing pipeline config file to Tensorflow\\workspace\\models\\my_ssd_mobnet\\export\\pipeline.config\n",
      "I0216 13:32:07.354901  4228 config_util.py:253] Writing pipeline config file to Tensorflow\\workspace\\models\\my_ssd_mobnet\\export\\pipeline.config\n"
     ]
    }
   ],
   "source": [
    "!{command}"
   ]
  },
  {
   "cell_type": "markdown",
   "metadata": {
    "id": "wTPmdqaXpfDK"
   },
   "source": [
    "# 11. Conversion to TFJS"
   ]
  },
  {
   "cell_type": "code",
   "execution_count": 43,
   "metadata": {
    "colab": {
     "base_uri": "https://localhost:8080/"
    },
    "id": "gZ6UzY_fpfDK",
    "outputId": "0c84722e-1c2b-4002-d857-80827ade828a",
    "scrolled": true
   },
   "outputs": [
    {
     "name": "stdout",
     "output_type": "stream",
     "text": [
      "Collecting tensorflowjs\n",
      "  Downloading tensorflowjs-3.13.0-py3-none-any.whl (77 kB)\n",
      "     -------------------------------------- 77.3/77.3 KB 713.2 kB/s eta 0:00:00\n",
      "Requirement already satisfied: six<2,>=1.12.0 in c:\\users\\brito\\onedrive\\documentos\\1 - data science\\5 - projetos\\8 - tensorflow object detection\\tfodcourse\\tfod\\lib\\site-packages (from tensorflowjs) (1.15.0)\n",
      "Collecting tensorflow-hub<0.13,>=0.7.0\n",
      "  Downloading tensorflow_hub-0.12.0-py2.py3-none-any.whl (108 kB)\n",
      "     -------------------------------------- 108.8/108.8 KB 3.2 MB/s eta 0:00:00\n",
      "Requirement already satisfied: tensorflow<3,>=2.1.0 in c:\\users\\brito\\onedrive\\documentos\\1 - data science\\5 - projetos\\8 - tensorflow object detection\\tfodcourse\\tfod\\lib\\site-packages (from tensorflowjs) (2.8.0)\n",
      "Requirement already satisfied: h5py>=2.9.0 in c:\\users\\brito\\onedrive\\documentos\\1 - data science\\5 - projetos\\8 - tensorflow object detection\\tfodcourse\\tfod\\lib\\site-packages (from tensorflow<3,>=2.1.0->tensorflowjs) (3.1.0)\n",
      "Requirement already satisfied: keras<2.9,>=2.8.0rc0 in c:\\users\\brito\\onedrive\\documentos\\1 - data science\\5 - projetos\\8 - tensorflow object detection\\tfodcourse\\tfod\\lib\\site-packages (from tensorflow<3,>=2.1.0->tensorflowjs) (2.8.0)\n",
      "Requirement already satisfied: setuptools in c:\\users\\brito\\onedrive\\documentos\\1 - data science\\5 - projetos\\8 - tensorflow object detection\\tfodcourse\\tfod\\lib\\site-packages (from tensorflow<3,>=2.1.0->tensorflowjs) (60.9.1)\n",
      "Requirement already satisfied: astunparse>=1.6.0 in c:\\users\\brito\\onedrive\\documentos\\1 - data science\\5 - projetos\\8 - tensorflow object detection\\tfodcourse\\tfod\\lib\\site-packages (from tensorflow<3,>=2.1.0->tensorflowjs) (1.6.3)\n",
      "Requirement already satisfied: gast>=0.2.1 in c:\\users\\brito\\onedrive\\documentos\\1 - data science\\5 - projetos\\8 - tensorflow object detection\\tfodcourse\\tfod\\lib\\site-packages (from tensorflow<3,>=2.1.0->tensorflowjs) (0.4.0)\n",
      "Requirement already satisfied: tensorflow-io-gcs-filesystem>=0.23.1 in c:\\users\\brito\\onedrive\\documentos\\1 - data science\\5 - projetos\\8 - tensorflow object detection\\tfodcourse\\tfod\\lib\\site-packages (from tensorflow<3,>=2.1.0->tensorflowjs) (0.24.0)\n",
      "Requirement already satisfied: tf-estimator-nightly==2.8.0.dev2021122109 in c:\\users\\brito\\onedrive\\documentos\\1 - data science\\5 - projetos\\8 - tensorflow object detection\\tfodcourse\\tfod\\lib\\site-packages (from tensorflow<3,>=2.1.0->tensorflowjs) (2.8.0.dev2021122109)\n",
      "Requirement already satisfied: absl-py>=0.4.0 in c:\\users\\brito\\onedrive\\documentos\\1 - data science\\5 - projetos\\8 - tensorflow object detection\\tfodcourse\\tfod\\lib\\site-packages (from tensorflow<3,>=2.1.0->tensorflowjs) (0.15.0)\n",
      "Requirement already satisfied: protobuf>=3.9.2 in c:\\users\\brito\\onedrive\\documentos\\1 - data science\\5 - projetos\\8 - tensorflow object detection\\tfodcourse\\tfod\\lib\\site-packages (from tensorflow<3,>=2.1.0->tensorflowjs) (3.19.4)\n",
      "Requirement already satisfied: google-pasta>=0.1.1 in c:\\users\\brito\\onedrive\\documentos\\1 - data science\\5 - projetos\\8 - tensorflow object detection\\tfodcourse\\tfod\\lib\\site-packages (from tensorflow<3,>=2.1.0->tensorflowjs) (0.2.0)\n",
      "Requirement already satisfied: tensorboard<2.9,>=2.8 in c:\\users\\brito\\onedrive\\documentos\\1 - data science\\5 - projetos\\8 - tensorflow object detection\\tfodcourse\\tfod\\lib\\site-packages (from tensorflow<3,>=2.1.0->tensorflowjs) (2.8.0)\n",
      "Requirement already satisfied: termcolor>=1.1.0 in c:\\users\\brito\\onedrive\\documentos\\1 - data science\\5 - projetos\\8 - tensorflow object detection\\tfodcourse\\tfod\\lib\\site-packages (from tensorflow<3,>=2.1.0->tensorflowjs) (1.1.0)\n",
      "Requirement already satisfied: libclang>=9.0.1 in c:\\users\\brito\\onedrive\\documentos\\1 - data science\\5 - projetos\\8 - tensorflow object detection\\tfodcourse\\tfod\\lib\\site-packages (from tensorflow<3,>=2.1.0->tensorflowjs) (13.0.0)\n",
      "Requirement already satisfied: numpy>=1.20 in c:\\users\\brito\\onedrive\\documentos\\1 - data science\\5 - projetos\\8 - tensorflow object detection\\tfodcourse\\tfod\\lib\\site-packages (from tensorflow<3,>=2.1.0->tensorflowjs) (1.22.2)\n",
      "Requirement already satisfied: wrapt>=1.11.0 in c:\\users\\brito\\onedrive\\documentos\\1 - data science\\5 - projetos\\8 - tensorflow object detection\\tfodcourse\\tfod\\lib\\site-packages (from tensorflow<3,>=2.1.0->tensorflowjs) (1.12.1)\n",
      "Requirement already satisfied: typing-extensions>=3.6.6 in c:\\users\\brito\\onedrive\\documentos\\1 - data science\\5 - projetos\\8 - tensorflow object detection\\tfodcourse\\tfod\\lib\\site-packages (from tensorflow<3,>=2.1.0->tensorflowjs) (3.7.4.3)\n",
      "Requirement already satisfied: flatbuffers>=1.12 in c:\\users\\brito\\onedrive\\documentos\\1 - data science\\5 - projetos\\8 - tensorflow object detection\\tfodcourse\\tfod\\lib\\site-packages (from tensorflow<3,>=2.1.0->tensorflowjs) (1.12)\n",
      "Requirement already satisfied: opt-einsum>=2.3.2 in c:\\users\\brito\\onedrive\\documentos\\1 - data science\\5 - projetos\\8 - tensorflow object detection\\tfodcourse\\tfod\\lib\\site-packages (from tensorflow<3,>=2.1.0->tensorflowjs) (3.3.0)\n",
      "Requirement already satisfied: grpcio<2.0,>=1.24.3 in c:\\users\\brito\\onedrive\\documentos\\1 - data science\\5 - projetos\\8 - tensorflow object detection\\tfodcourse\\tfod\\lib\\site-packages (from tensorflow<3,>=2.1.0->tensorflowjs) (1.43.0)\n",
      "Requirement already satisfied: keras-preprocessing>=1.1.1 in c:\\users\\brito\\onedrive\\documentos\\1 - data science\\5 - projetos\\8 - tensorflow object detection\\tfodcourse\\tfod\\lib\\site-packages (from tensorflow<3,>=2.1.0->tensorflowjs) (1.1.2)\n",
      "Requirement already satisfied: wheel<1.0,>=0.23.0 in c:\\users\\brito\\onedrive\\documentos\\1 - data science\\5 - projetos\\8 - tensorflow object detection\\tfodcourse\\tfod\\lib\\site-packages (from astunparse>=1.6.0->tensorflow<3,>=2.1.0->tensorflowjs) (0.37.1)\n",
      "Requirement already satisfied: markdown>=2.6.8 in c:\\users\\brito\\onedrive\\documentos\\1 - data science\\5 - projetos\\8 - tensorflow object detection\\tfodcourse\\tfod\\lib\\site-packages (from tensorboard<2.9,>=2.8->tensorflow<3,>=2.1.0->tensorflowjs) (3.3.6)\n",
      "Requirement already satisfied: tensorboard-plugin-wit>=1.6.0 in c:\\users\\brito\\onedrive\\documentos\\1 - data science\\5 - projetos\\8 - tensorflow object detection\\tfodcourse\\tfod\\lib\\site-packages (from tensorboard<2.9,>=2.8->tensorflow<3,>=2.1.0->tensorflowjs) (1.8.1)\n",
      "Requirement already satisfied: google-auth-oauthlib<0.5,>=0.4.1 in c:\\users\\brito\\onedrive\\documentos\\1 - data science\\5 - projetos\\8 - tensorflow object detection\\tfodcourse\\tfod\\lib\\site-packages (from tensorboard<2.9,>=2.8->tensorflow<3,>=2.1.0->tensorflowjs) (0.4.6)\n",
      "Requirement already satisfied: google-auth<3,>=1.6.3 in c:\\users\\brito\\onedrive\\documentos\\1 - data science\\5 - projetos\\8 - tensorflow object detection\\tfodcourse\\tfod\\lib\\site-packages (from tensorboard<2.9,>=2.8->tensorflow<3,>=2.1.0->tensorflowjs) (2.6.0)\n",
      "Requirement already satisfied: tensorboard-data-server<0.7.0,>=0.6.0 in c:\\users\\brito\\onedrive\\documentos\\1 - data science\\5 - projetos\\8 - tensorflow object detection\\tfodcourse\\tfod\\lib\\site-packages (from tensorboard<2.9,>=2.8->tensorflow<3,>=2.1.0->tensorflowjs) (0.6.1)\n",
      "Requirement already satisfied: requests<3,>=2.21.0 in c:\\users\\brito\\onedrive\\documentos\\1 - data science\\5 - projetos\\8 - tensorflow object detection\\tfodcourse\\tfod\\lib\\site-packages (from tensorboard<2.9,>=2.8->tensorflow<3,>=2.1.0->tensorflowjs) (2.27.1)\n",
      "Requirement already satisfied: werkzeug>=0.11.15 in c:\\users\\brito\\onedrive\\documentos\\1 - data science\\5 - projetos\\8 - tensorflow object detection\\tfodcourse\\tfod\\lib\\site-packages (from tensorboard<2.9,>=2.8->tensorflow<3,>=2.1.0->tensorflowjs) (2.0.3)\n",
      "Requirement already satisfied: rsa<5,>=3.1.4 in c:\\users\\brito\\onedrive\\documentos\\1 - data science\\5 - projetos\\8 - tensorflow object detection\\tfodcourse\\tfod\\lib\\site-packages (from google-auth<3,>=1.6.3->tensorboard<2.9,>=2.8->tensorflow<3,>=2.1.0->tensorflowjs) (4.8)\n",
      "Requirement already satisfied: cachetools<6.0,>=2.0.0 in c:\\users\\brito\\onedrive\\documentos\\1 - data science\\5 - projetos\\8 - tensorflow object detection\\tfodcourse\\tfod\\lib\\site-packages (from google-auth<3,>=1.6.3->tensorboard<2.9,>=2.8->tensorflow<3,>=2.1.0->tensorflowjs) (5.0.0)\n",
      "Requirement already satisfied: pyasn1-modules>=0.2.1 in c:\\users\\brito\\onedrive\\documentos\\1 - data science\\5 - projetos\\8 - tensorflow object detection\\tfodcourse\\tfod\\lib\\site-packages (from google-auth<3,>=1.6.3->tensorboard<2.9,>=2.8->tensorflow<3,>=2.1.0->tensorflowjs) (0.2.8)\n",
      "Requirement already satisfied: requests-oauthlib>=0.7.0 in c:\\users\\brito\\onedrive\\documentos\\1 - data science\\5 - projetos\\8 - tensorflow object detection\\tfodcourse\\tfod\\lib\\site-packages (from google-auth-oauthlib<0.5,>=0.4.1->tensorboard<2.9,>=2.8->tensorflow<3,>=2.1.0->tensorflowjs) (1.3.1)\n",
      "Requirement already satisfied: importlib-metadata>=4.4 in c:\\users\\brito\\onedrive\\documentos\\1 - data science\\5 - projetos\\8 - tensorflow object detection\\tfodcourse\\tfod\\lib\\site-packages (from markdown>=2.6.8->tensorboard<2.9,>=2.8->tensorflow<3,>=2.1.0->tensorflowjs) (4.11.1)\n",
      "Requirement already satisfied: charset-normalizer~=2.0.0 in c:\\users\\brito\\onedrive\\documentos\\1 - data science\\5 - projetos\\8 - tensorflow object detection\\tfodcourse\\tfod\\lib\\site-packages (from requests<3,>=2.21.0->tensorboard<2.9,>=2.8->tensorflow<3,>=2.1.0->tensorflowjs) (2.0.12)\n",
      "Requirement already satisfied: certifi>=2017.4.17 in c:\\users\\brito\\onedrive\\documentos\\1 - data science\\5 - projetos\\8 - tensorflow object detection\\tfodcourse\\tfod\\lib\\site-packages (from requests<3,>=2.21.0->tensorboard<2.9,>=2.8->tensorflow<3,>=2.1.0->tensorflowjs) (2021.10.8)\n",
      "Requirement already satisfied: idna<4,>=2.5 in c:\\users\\brito\\onedrive\\documentos\\1 - data science\\5 - projetos\\8 - tensorflow object detection\\tfodcourse\\tfod\\lib\\site-packages (from requests<3,>=2.21.0->tensorboard<2.9,>=2.8->tensorflow<3,>=2.1.0->tensorflowjs) (3.3)\n",
      "Requirement already satisfied: urllib3<1.27,>=1.21.1 in c:\\users\\brito\\onedrive\\documentos\\1 - data science\\5 - projetos\\8 - tensorflow object detection\\tfodcourse\\tfod\\lib\\site-packages (from requests<3,>=2.21.0->tensorboard<2.9,>=2.8->tensorflow<3,>=2.1.0->tensorflowjs) (1.26.8)\n",
      "Requirement already satisfied: zipp>=0.5 in c:\\users\\brito\\onedrive\\documentos\\1 - data science\\5 - projetos\\8 - tensorflow object detection\\tfodcourse\\tfod\\lib\\site-packages (from importlib-metadata>=4.4->markdown>=2.6.8->tensorboard<2.9,>=2.8->tensorflow<3,>=2.1.0->tensorflowjs) (3.7.0)\n",
      "Requirement already satisfied: pyasn1<0.5.0,>=0.4.6 in c:\\users\\brito\\onedrive\\documentos\\1 - data science\\5 - projetos\\8 - tensorflow object detection\\tfodcourse\\tfod\\lib\\site-packages (from pyasn1-modules>=0.2.1->google-auth<3,>=1.6.3->tensorboard<2.9,>=2.8->tensorflow<3,>=2.1.0->tensorflowjs) (0.4.8)\n",
      "Requirement already satisfied: oauthlib>=3.0.0 in c:\\users\\brito\\onedrive\\documentos\\1 - data science\\5 - projetos\\8 - tensorflow object detection\\tfodcourse\\tfod\\lib\\site-packages (from requests-oauthlib>=0.7.0->google-auth-oauthlib<0.5,>=0.4.1->tensorboard<2.9,>=2.8->tensorflow<3,>=2.1.0->tensorflowjs) (3.2.0)\n",
      "Installing collected packages: tensorflow-hub, tensorflowjs\n",
      "Successfully installed tensorflow-hub-0.12.0 tensorflowjs-3.13.0\n"
     ]
    },
    {
     "name": "stderr",
     "output_type": "stream",
     "text": [
      "WARNING: Ignoring invalid distribution -eras (c:\\users\\brito\\onedrive\\documentos\\1 - data science\\5 - projetos\\8 - tensorflow object detection\\tfodcourse\\tfod\\lib\\site-packages)\n",
      "WARNING: Ignoring invalid distribution -eras (c:\\users\\brito\\onedrive\\documentos\\1 - data science\\5 - projetos\\8 - tensorflow object detection\\tfodcourse\\tfod\\lib\\site-packages)\n",
      "WARNING: Ignoring invalid distribution -eras (c:\\users\\brito\\onedrive\\documentos\\1 - data science\\5 - projetos\\8 - tensorflow object detection\\tfodcourse\\tfod\\lib\\site-packages)\n",
      "WARNING: Ignoring invalid distribution -eras (c:\\users\\brito\\onedrive\\documentos\\1 - data science\\5 - projetos\\8 - tensorflow object detection\\tfodcourse\\tfod\\lib\\site-packages)\n",
      "WARNING: Ignoring invalid distribution -eras (c:\\users\\brito\\onedrive\\documentos\\1 - data science\\5 - projetos\\8 - tensorflow object detection\\tfodcourse\\tfod\\lib\\site-packages)\n",
      "ERROR: pip's dependency resolver does not currently take into account all the packages that are installed. This behaviour is the source of the following dependency conflicts.\n",
      "tf-models-official 2.8.0 requires google-api-python-client>=1.6.7, which is not installed.\n",
      "tf-models-official 2.8.0 requires kaggle>=1.3.9, which is not installed.\n",
      "tf-models-official 2.8.0 requires oauth2client, which is not installed.\n",
      "tf-models-official 2.8.0 requires opencv-python-headless, which is not installed.\n",
      "tf-models-official 2.8.0 requires psutil>=5.4.3, which is not installed.\n",
      "tf-models-official 2.8.0 requires py-cpuinfo>=3.3.0, which is not installed.\n",
      "tf-models-official 2.8.0 requires sacrebleu, which is not installed.\n",
      "tf-models-official 2.8.0 requires sentencepiece, which is not installed.\n",
      "tf-models-official 2.8.0 requires seqeval, which is not installed.\n",
      "tf-models-official 2.8.0 requires tensorflow-datasets, which is not installed.\n",
      "tf-models-official 2.8.0 requires tensorflow-model-optimization>=0.4.1, which is not installed.\n",
      "tf-models-official 2.8.0 requires tensorflow-text~=2.8.0, which is not installed.\n",
      "tf-models-official 2.8.0 requires pyyaml<6.0,>=5.1, but you have pyyaml 6.0 which is incompatible.\n",
      "WARNING: Ignoring invalid distribution -eras (c:\\users\\brito\\onedrive\\documentos\\1 - data science\\5 - projetos\\8 - tensorflow object detection\\tfodcourse\\tfod\\lib\\site-packages)\n",
      "WARNING: Ignoring invalid distribution -eras (c:\\users\\brito\\onedrive\\documentos\\1 - data science\\5 - projetos\\8 - tensorflow object detection\\tfodcourse\\tfod\\lib\\site-packages)\n"
     ]
    }
   ],
   "source": [
    "!pip install tensorflowjs"
   ]
  },
  {
   "cell_type": "code",
   "execution_count": 44,
   "metadata": {
    "id": "0oxbVynHpfDK"
   },
   "outputs": [],
   "source": [
    "command = \"tensorflowjs_converter --input_format=tf_saved_model --output_node_names='detection_boxes,detection_classes,detection_features,detection_multiclass_scores,detection_scores,num_detections,raw_detection_boxes,raw_detection_scores' --output_format=tfjs_graph_model --signature_name=serving_default {} {}\".format(os.path.join(paths['OUTPUT_PATH'], 'saved_model'), paths['TFJS_PATH'])"
   ]
  },
  {
   "cell_type": "code",
   "execution_count": 45,
   "metadata": {
    "colab": {
     "base_uri": "https://localhost:8080/"
    },
    "id": "DB2AGNmJpfDK",
    "outputId": "fbc9f747-f511-47e8-df8f-5ea65cef0374"
   },
   "outputs": [
    {
     "name": "stdout",
     "output_type": "stream",
     "text": [
      "tensorflowjs_converter --input_format=tf_saved_model --output_node_names='detection_boxes,detection_classes,detection_features,detection_multiclass_scores,detection_scores,num_detections,raw_detection_boxes,raw_detection_scores' --output_format=tfjs_graph_model --signature_name=serving_default Tensorflow\\workspace\\models\\my_ssd_mobnet\\export\\saved_model Tensorflow\\workspace\\models\\my_ssd_mobnet\\tfjsexport\n"
     ]
    }
   ],
   "source": [
    "print(command)"
   ]
  },
  {
   "cell_type": "code",
   "execution_count": 48,
   "metadata": {
    "colab": {
     "base_uri": "https://localhost:8080/"
    },
    "collapsed": true,
    "id": "K7rfT4-hpfDK",
    "outputId": "532707fd-6feb-4bc6-84a3-325b5d16303c"
   },
   "outputs": [
    {
     "name": "stdout",
     "output_type": "stream",
     "text": [
      "Writing weight file Tensorflow\\workspace\\models\\my_ssd_mobnet\\tfjsexport\\model.json...\n"
     ]
    },
    {
     "name": "stderr",
     "output_type": "stream",
     "text": [
      "2022-02-16 13:33:47.825721: I tensorflow/core/platform/cpu_feature_guard.cc:151] This TensorFlow binary is optimized with oneAPI Deep Neural Network Library (oneDNN) to use the following CPU instructions in performance-critical operations:  AVX AVX2\n",
      "To enable them in other operations, rebuild TensorFlow with the appropriate compiler flags.\n",
      "2022-02-16 13:33:48.300625: I tensorflow/core/common_runtime/gpu/gpu_device.cc:1525] Created device /job:localhost/replica:0/task:0/device:GPU:0 with 3957 MB memory:  -> device: 0, name: NVIDIA GeForce RTX 2060, pci bus id: 0000:06:00.0, compute capability: 7.5\n",
      "2022-02-16 13:33:59.039709: I tensorflow/core/grappler/devices.cc:66] Number of eligible GPUs (core count >= 8, compute capability >= 0.0): 1\n",
      "2022-02-16 13:33:59.039872: I tensorflow/core/grappler/clusters/single_machine.cc:358] Starting new session\n",
      "2022-02-16 13:33:59.048225: I tensorflow/core/common_runtime/gpu/gpu_device.cc:1525] Created device /job:localhost/replica:0/task:0/device:GPU:0 with 3957 MB memory:  -> device: 0, name: NVIDIA GeForce RTX 2060, pci bus id: 0000:06:00.0, compute capability: 7.5\n",
      "2022-02-16 13:33:59.457291: I tensorflow/core/grappler/optimizers/meta_optimizer.cc:1164] Optimization results for grappler item: graph_to_optimize\n",
      "  function_optimizer: Graph size after: 3843 nodes (3433), 5137 edges (4720), time = 218.735ms.\n",
      "  function_optimizer: function_optimizer did nothing. time = 0.003ms.\n",
      "\n",
      "2022-02-16 13:34:03.877721: I tensorflow/core/grappler/optimizers/meta_optimizer.cc:1164] Optimization results for grappler item: graph_to_optimize\n",
      "  model_pruner: Graph size after: 3112 nodes (-441), 4467 edges (-441), time = 74.307ms.\n",
      "  constant_folding: Graph size after: 1531 nodes (-1581), 2637 edges (-1830), time = 137.025ms.\n",
      "  arithmetic_optimizer: Graph size after: 1547 nodes (16), 2647 edges (10), time = 32.464ms.\n",
      "  dependency_optimizer: Graph size after: 1460 nodes (-87), 1660 edges (-987), time = 23.551ms.\n",
      "  model_pruner: Graph size after: 1460 nodes (0), 1660 edges (0), time = 12.229ms.\n",
      "  constant_folding: Graph size after: 1460 nodes (0), 1660 edges (0), time = 43.604ms.\n",
      "  arithmetic_optimizer: Graph size after: 1460 nodes (0), 1660 edges (0), time = 32.613ms.\n",
      "  dependency_optimizer: Graph size after: 1460 nodes (0), 1660 edges (0), time = 15.765ms.\n",
      "  debug_stripper: Graph size after: 1460 nodes (0), 1660 edges (0), time = 4.668ms.\n",
      "  model_pruner: Graph size after: 1458 nodes (-2), 1658 edges (-2), time = 19.602ms.\n",
      "  constant_folding: Graph size after: 1458 nodes (0), 1658 edges (0), time = 37.683ms.\n",
      "  arithmetic_optimizer: Graph size after: 1458 nodes (0), 1658 edges (0), time = 27.387ms.\n",
      "  dependency_optimizer: Graph size after: 1453 nodes (-5), 1648 edges (-10), time = 14.145ms.\n",
      "  model_pruner: Graph size after: 1453 nodes (0), 1648 edges (0), time = 9.14ms.\n",
      "  constant_folding: Graph size after: 1453 nodes (0), 1648 edges (0), time = 35.941ms.\n",
      "  arithmetic_optimizer: Graph size after: 1453 nodes (0), 1648 edges (0), time = 28.267ms.\n",
      "  dependency_optimizer: Graph size after: 1453 nodes (0), 1648 edges (0), time = 13.692ms.\n",
      "  debug_stripper: debug_stripper did nothing. time = 0.027ms.\n",
      "\n",
      "2022-02-16 13:34:14.882272: I tensorflow/core/grappler/optimizers/meta_optimizer.cc:1164] Optimization results for grappler item: graph_to_optimize\n",
      "  remapper: Graph size after: 1417 nodes (-112), 1308 edges (-112), time = 9.17ms.\n",
      "  constant_folding: Graph size after: 1113 nodes (-304), 1308 edges (0), time = 82.333ms.\n",
      "  arithmetic_optimizer: Graph size after: 1113 nodes (0), 1308 edges (0), time = 52.69ms.\n",
      "  dependency_optimizer: Graph size after: 1113 nodes (0), 1308 edges (0), time = 21.974ms.\n",
      "  remapper: Graph size after: 1113 nodes (0), 1308 edges (0), time = 11.669ms.\n",
      "  constant_folding: Graph size after: 1113 nodes (0), 1308 edges (0), time = 43.869ms.\n",
      "  arithmetic_optimizer: Graph size after: 1113 nodes (0), 1308 edges (0), time = 25.307ms.\n",
      "  dependency_optimizer: Graph size after: 1113 nodes (0), 1308 edges (0), time = 12.83ms.\n",
      "\n"
     ]
    }
   ],
   "source": [
    "!{command}"
   ]
  },
  {
   "cell_type": "code",
   "execution_count": null,
   "metadata": {
    "id": "o8_hm-itpfDK"
   },
   "outputs": [],
   "source": [
    "# Test Code: https://github.com/nicknochnack/RealTimeSignLanguageDetectionwithTFJS"
   ]
  },
  {
   "cell_type": "markdown",
   "metadata": {
    "id": "VtUw73FHpfDK"
   },
   "source": [
    "# 12. Conversion to TFLite"
   ]
  },
  {
   "cell_type": "code",
   "execution_count": 49,
   "metadata": {
    "id": "XviMtewLpfDK"
   },
   "outputs": [],
   "source": [
    "TFLITE_SCRIPT = os.path.join(paths['APIMODEL_PATH'], 'research', 'object_detection', 'export_tflite_graph_tf2.py ')"
   ]
  },
  {
   "cell_type": "code",
   "execution_count": 50,
   "metadata": {
    "id": "us86cjC4pfDL"
   },
   "outputs": [],
   "source": [
    "command = \"python {} --pipeline_config_path={} --trained_checkpoint_dir={} --output_directory={}\".format(TFLITE_SCRIPT ,files['PIPELINE_CONFIG'], paths['CHECKPOINT_PATH'], paths['TFLITE_PATH'])"
   ]
  },
  {
   "cell_type": "code",
   "execution_count": 51,
   "metadata": {
    "colab": {
     "base_uri": "https://localhost:8080/"
    },
    "id": "n1r5YO3rpfDL",
    "outputId": "5fcdf7a4-eee2-4365-f1ca-1751968379ea"
   },
   "outputs": [
    {
     "name": "stdout",
     "output_type": "stream",
     "text": [
      "python Tensorflow\\models\\research\\object_detection\\export_tflite_graph_tf2.py  --pipeline_config_path=Tensorflow\\workspace\\models\\my_ssd_mobnet\\pipeline.config --trained_checkpoint_dir=Tensorflow\\workspace\\models\\my_ssd_mobnet --output_directory=Tensorflow\\workspace\\models\\my_ssd_mobnet\\tfliteexport\n"
     ]
    }
   ],
   "source": [
    "print(command)"
   ]
  },
  {
   "cell_type": "code",
   "execution_count": 52,
   "metadata": {
    "colab": {
     "base_uri": "https://localhost:8080/"
    },
    "id": "I-xWpHN8pfDL",
    "outputId": "7f6bacd8-d077-43b5-c131-5b081fba24a4"
   },
   "outputs": [
    {
     "name": "stderr",
     "output_type": "stream",
     "text": [
      "2022-02-16 13:35:16.042422: I tensorflow/core/platform/cpu_feature_guard.cc:151] This TensorFlow binary is optimized with oneAPI Deep Neural Network Library (oneDNN) to use the following CPU instructions in performance-critical operations:  AVX AVX2\n",
      "To enable them in other operations, rebuild TensorFlow with the appropriate compiler flags.\n",
      "2022-02-16 13:35:16.545292: I tensorflow/core/common_runtime/gpu/gpu_device.cc:1525] Created device /job:localhost/replica:0/task:0/device:GPU:0 with 3957 MB memory:  -> device: 0, name: NVIDIA GeForce RTX 2060, pci bus id: 0000:06:00.0, compute capability: 7.5\n",
      "2022-02-16 13:35:24.677157: I tensorflow/core/common_runtime/gpu/gpu_device.cc:1525] Created device /job:localhost/replica:0/task:0/device:GPU:0 with 3957 MB memory:  -> device: 0, name: NVIDIA GeForce RTX 2060, pci bus id: 0000:06:00.0, compute capability: 7.5\n",
      "2022-02-16 13:35:26.658569: I tensorflow/core/common_runtime/gpu/gpu_device.cc:1525] Created device /job:localhost/replica:0/task:0/device:GPU:0 with 3957 MB memory:  -> device: 0, name: NVIDIA GeForce RTX 2060, pci bus id: 0000:06:00.0, compute capability: 7.5\n",
      "2022-02-16 13:35:27.384319: W tensorflow/python/util/util.cc:368] Sets are not currently considered sequences, but this may change in the future, so consider avoiding using them.\n",
      "2022-02-16 13:35:29.125858: I tensorflow/core/common_runtime/gpu/gpu_device.cc:1525] Created device /job:localhost/replica:0/task:0/device:GPU:0 with 3957 MB memory:  -> device: 0, name: NVIDIA GeForce RTX 2060, pci bus id: 0000:06:00.0, compute capability: 7.5\n",
      "WARNING:tensorflow:Skipping full serialization of Keras layer <object_detection.meta_architectures.ssd_meta_arch.SSDMetaArch object at 0x00000282800E5D60>, because it is not built.\n",
      "W0216 13:35:29.521294 10480 save_impl.py:71] Skipping full serialization of Keras layer <object_detection.meta_architectures.ssd_meta_arch.SSDMetaArch object at 0x00000282800E5D60>, because it is not built.\n",
      "WARNING:tensorflow:Skipping full serialization of Keras layer <keras.layers.convolutional.SeparableConv2D object at 0x0000028280128B50>, because it is not built.\n",
      "W0216 13:35:29.965293 10480 save_impl.py:71] Skipping full serialization of Keras layer <keras.layers.convolutional.SeparableConv2D object at 0x0000028280128B50>, because it is not built.\n",
      "WARNING:tensorflow:Skipping full serialization of Keras layer <object_detection.core.freezable_batch_norm.FreezableBatchNorm object at 0x000002829FAFD9A0>, because it is not built.\n",
      "W0216 13:35:29.965293 10480 save_impl.py:71] Skipping full serialization of Keras layer <object_detection.core.freezable_batch_norm.FreezableBatchNorm object at 0x000002829FAFD9A0>, because it is not built.\n",
      "WARNING:tensorflow:Skipping full serialization of Keras layer <keras.layers.core.lambda_layer.Lambda object at 0x000002829FA985E0>, because it is not built.\n",
      "W0216 13:35:29.966293 10480 save_impl.py:71] Skipping full serialization of Keras layer <keras.layers.core.lambda_layer.Lambda object at 0x000002829FA985E0>, because it is not built.\n",
      "WARNING:tensorflow:Skipping full serialization of Keras layer <keras.layers.convolutional.SeparableConv2D object at 0x00000282E3426D30>, because it is not built.\n",
      "W0216 13:35:29.966293 10480 save_impl.py:71] Skipping full serialization of Keras layer <keras.layers.convolutional.SeparableConv2D object at 0x00000282E3426D30>, because it is not built.\n",
      "WARNING:tensorflow:Skipping full serialization of Keras layer <object_detection.core.freezable_batch_norm.FreezableBatchNorm object at 0x00000282E3426340>, because it is not built.\n",
      "W0216 13:35:29.966293 10480 save_impl.py:71] Skipping full serialization of Keras layer <object_detection.core.freezable_batch_norm.FreezableBatchNorm object at 0x00000282E3426340>, because it is not built.\n",
      "WARNING:tensorflow:Skipping full serialization of Keras layer <keras.layers.core.lambda_layer.Lambda object at 0x00000282E3426E80>, because it is not built.\n",
      "W0216 13:35:29.966293 10480 save_impl.py:71] Skipping full serialization of Keras layer <keras.layers.core.lambda_layer.Lambda object at 0x00000282E3426E80>, because it is not built.\n",
      "WARNING:tensorflow:Skipping full serialization of Keras layer <keras.layers.convolutional.SeparableConv2D object at 0x00000282E34263A0>, because it is not built.\n",
      "W0216 13:35:29.966293 10480 save_impl.py:71] Skipping full serialization of Keras layer <keras.layers.convolutional.SeparableConv2D object at 0x00000282E34263A0>, because it is not built.\n",
      "WARNING:tensorflow:Skipping full serialization of Keras layer <object_detection.core.freezable_batch_norm.FreezableBatchNorm object at 0x00000282E3426EB0>, because it is not built.\n",
      "W0216 13:35:29.966293 10480 save_impl.py:71] Skipping full serialization of Keras layer <object_detection.core.freezable_batch_norm.FreezableBatchNorm object at 0x00000282E3426EB0>, because it is not built.\n",
      "WARNING:tensorflow:Skipping full serialization of Keras layer <keras.layers.core.lambda_layer.Lambda object at 0x00000282E3387580>, because it is not built.\n",
      "W0216 13:35:29.966293 10480 save_impl.py:71] Skipping full serialization of Keras layer <keras.layers.core.lambda_layer.Lambda object at 0x00000282E3387580>, because it is not built.\n",
      "WARNING:tensorflow:Skipping full serialization of Keras layer <keras.layers.convolutional.SeparableConv2D object at 0x00000282E3387D60>, because it is not built.\n",
      "W0216 13:35:29.966293 10480 save_impl.py:71] Skipping full serialization of Keras layer <keras.layers.convolutional.SeparableConv2D object at 0x00000282E3387D60>, because it is not built.\n",
      "WARNING:tensorflow:Skipping full serialization of Keras layer <object_detection.core.freezable_batch_norm.FreezableBatchNorm object at 0x00000282E33875B0>, because it is not built.\n",
      "W0216 13:35:29.966293 10480 save_impl.py:71] Skipping full serialization of Keras layer <object_detection.core.freezable_batch_norm.FreezableBatchNorm object at 0x00000282E33875B0>, because it is not built.\n",
      "WARNING:tensorflow:Skipping full serialization of Keras layer <keras.layers.core.lambda_layer.Lambda object at 0x00000282E33879D0>, because it is not built.\n",
      "W0216 13:35:29.966293 10480 save_impl.py:71] Skipping full serialization of Keras layer <keras.layers.core.lambda_layer.Lambda object at 0x00000282E33879D0>, because it is not built.\n",
      "WARNING:tensorflow:Skipping full serialization of Keras layer <object_detection.core.freezable_batch_norm.FreezableBatchNorm object at 0x00000282850AF160>, because it is not built.\n",
      "W0216 13:35:29.967293 10480 save_impl.py:71] Skipping full serialization of Keras layer <object_detection.core.freezable_batch_norm.FreezableBatchNorm object at 0x00000282850AF160>, because it is not built.\n",
      "WARNING:tensorflow:Skipping full serialization of Keras layer <keras.layers.core.lambda_layer.Lambda object at 0x00000282A0B2FD00>, because it is not built.\n",
      "W0216 13:35:29.967293 10480 save_impl.py:71] Skipping full serialization of Keras layer <keras.layers.core.lambda_layer.Lambda object at 0x00000282A0B2FD00>, because it is not built.\n",
      "WARNING:tensorflow:Skipping full serialization of Keras layer <object_detection.core.freezable_batch_norm.FreezableBatchNorm object at 0x00000282A0C5AA60>, because it is not built.\n",
      "W0216 13:35:29.967293 10480 save_impl.py:71] Skipping full serialization of Keras layer <object_detection.core.freezable_batch_norm.FreezableBatchNorm object at 0x00000282A0C5AA60>, because it is not built.\n",
      "WARNING:tensorflow:Skipping full serialization of Keras layer <keras.layers.core.lambda_layer.Lambda object at 0x00000282A0C5AA00>, because it is not built.\n",
      "W0216 13:35:29.967293 10480 save_impl.py:71] Skipping full serialization of Keras layer <keras.layers.core.lambda_layer.Lambda object at 0x00000282A0C5AA00>, because it is not built.\n",
      "WARNING:tensorflow:Skipping full serialization of Keras layer <object_detection.core.freezable_batch_norm.FreezableBatchNorm object at 0x00000282E387F880>, because it is not built.\n",
      "W0216 13:35:29.967293 10480 save_impl.py:71] Skipping full serialization of Keras layer <object_detection.core.freezable_batch_norm.FreezableBatchNorm object at 0x00000282E387F880>, because it is not built.\n",
      "WARNING:tensorflow:Skipping full serialization of Keras layer <keras.layers.core.lambda_layer.Lambda object at 0x00000282E387F4F0>, because it is not built.\n",
      "W0216 13:35:29.967293 10480 save_impl.py:71] Skipping full serialization of Keras layer <keras.layers.core.lambda_layer.Lambda object at 0x00000282E387F4F0>, because it is not built.\n",
      "WARNING:tensorflow:Skipping full serialization of Keras layer <object_detection.core.freezable_batch_norm.FreezableBatchNorm object at 0x00000282E387FD00>, because it is not built.\n",
      "W0216 13:35:29.967293 10480 save_impl.py:71] Skipping full serialization of Keras layer <object_detection.core.freezable_batch_norm.FreezableBatchNorm object at 0x00000282E387FD00>, because it is not built.\n",
      "WARNING:tensorflow:Skipping full serialization of Keras layer <keras.layers.core.lambda_layer.Lambda object at 0x00000282E387FCD0>, because it is not built.\n",
      "W0216 13:35:29.967293 10480 save_impl.py:71] Skipping full serialization of Keras layer <keras.layers.core.lambda_layer.Lambda object at 0x00000282E387FCD0>, because it is not built.\n",
      "WARNING:tensorflow:Skipping full serialization of Keras layer <object_detection.core.freezable_batch_norm.FreezableBatchNorm object at 0x00000282850AF190>, because it is not built.\n",
      "W0216 13:35:29.968294 10480 save_impl.py:71] Skipping full serialization of Keras layer <object_detection.core.freezable_batch_norm.FreezableBatchNorm object at 0x00000282850AF190>, because it is not built.\n",
      "WARNING:tensorflow:Skipping full serialization of Keras layer <keras.layers.core.lambda_layer.Lambda object at 0x00000282E34700A0>, because it is not built.\n",
      "W0216 13:35:29.968294 10480 save_impl.py:71] Skipping full serialization of Keras layer <keras.layers.core.lambda_layer.Lambda object at 0x00000282E34700A0>, because it is not built.\n",
      "WARNING:tensorflow:Skipping full serialization of Keras layer <object_detection.core.freezable_batch_norm.FreezableBatchNorm object at 0x00000282E38579D0>, because it is not built.\n",
      "W0216 13:35:29.968294 10480 save_impl.py:71] Skipping full serialization of Keras layer <object_detection.core.freezable_batch_norm.FreezableBatchNorm object at 0x00000282E38579D0>, because it is not built.\n",
      "WARNING:tensorflow:Skipping full serialization of Keras layer <keras.layers.core.lambda_layer.Lambda object at 0x00000282E3857400>, because it is not built.\n",
      "W0216 13:35:29.968294 10480 save_impl.py:71] Skipping full serialization of Keras layer <keras.layers.core.lambda_layer.Lambda object at 0x00000282E3857400>, because it is not built.\n",
      "WARNING:tensorflow:Skipping full serialization of Keras layer <object_detection.core.freezable_batch_norm.FreezableBatchNorm object at 0x00000282E34754F0>, because it is not built.\n",
      "W0216 13:35:29.968294 10480 save_impl.py:71] Skipping full serialization of Keras layer <object_detection.core.freezable_batch_norm.FreezableBatchNorm object at 0x00000282E34754F0>, because it is not built.\n",
      "WARNING:tensorflow:Skipping full serialization of Keras layer <keras.layers.core.lambda_layer.Lambda object at 0x00000282E3475A00>, because it is not built.\n",
      "W0216 13:35:29.968294 10480 save_impl.py:71] Skipping full serialization of Keras layer <keras.layers.core.lambda_layer.Lambda object at 0x00000282E3475A00>, because it is not built.\n",
      "WARNING:tensorflow:Skipping full serialization of Keras layer <object_detection.core.freezable_batch_norm.FreezableBatchNorm object at 0x00000282E3475B20>, because it is not built.\n",
      "W0216 13:35:29.968294 10480 save_impl.py:71] Skipping full serialization of Keras layer <object_detection.core.freezable_batch_norm.FreezableBatchNorm object at 0x00000282E3475B20>, because it is not built.\n",
      "WARNING:tensorflow:Skipping full serialization of Keras layer <keras.layers.core.lambda_layer.Lambda object at 0x00000282E3475D00>, because it is not built.\n",
      "W0216 13:35:29.968294 10480 save_impl.py:71] Skipping full serialization of Keras layer <keras.layers.core.lambda_layer.Lambda object at 0x00000282E3475D00>, because it is not built.\n",
      "WARNING:tensorflow:Skipping full serialization of Keras layer <object_detection.core.freezable_batch_norm.FreezableBatchNorm object at 0x00000282850AF1C0>, because it is not built.\n",
      "W0216 13:35:29.968294 10480 save_impl.py:71] Skipping full serialization of Keras layer <object_detection.core.freezable_batch_norm.FreezableBatchNorm object at 0x00000282850AF1C0>, because it is not built.\n",
      "WARNING:tensorflow:Skipping full serialization of Keras layer <keras.layers.core.lambda_layer.Lambda object at 0x00000282E347CA00>, because it is not built.\n",
      "W0216 13:35:29.968294 10480 save_impl.py:71] Skipping full serialization of Keras layer <keras.layers.core.lambda_layer.Lambda object at 0x00000282E347CA00>, because it is not built.\n",
      "WARNING:tensorflow:Skipping full serialization of Keras layer <object_detection.core.freezable_batch_norm.FreezableBatchNorm object at 0x00000282A0BFE9A0>, because it is not built.\n",
      "W0216 13:35:29.969296 10480 save_impl.py:71] Skipping full serialization of Keras layer <object_detection.core.freezable_batch_norm.FreezableBatchNorm object at 0x00000282A0BFE9A0>, because it is not built.\n",
      "WARNING:tensorflow:Skipping full serialization of Keras layer <keras.layers.core.lambda_layer.Lambda object at 0x00000282A0BFE6D0>, because it is not built.\n",
      "W0216 13:35:29.969296 10480 save_impl.py:71] Skipping full serialization of Keras layer <keras.layers.core.lambda_layer.Lambda object at 0x00000282A0BFE6D0>, because it is not built.\n",
      "WARNING:tensorflow:Skipping full serialization of Keras layer <object_detection.core.freezable_batch_norm.FreezableBatchNorm object at 0x00000282A0BFE220>, because it is not built.\n",
      "W0216 13:35:29.969296 10480 save_impl.py:71] Skipping full serialization of Keras layer <object_detection.core.freezable_batch_norm.FreezableBatchNorm object at 0x00000282A0BFE220>, because it is not built.\n",
      "WARNING:tensorflow:Skipping full serialization of Keras layer <keras.layers.core.lambda_layer.Lambda object at 0x00000282A0BFEC40>, because it is not built.\n",
      "W0216 13:35:29.969296 10480 save_impl.py:71] Skipping full serialization of Keras layer <keras.layers.core.lambda_layer.Lambda object at 0x00000282A0BFEC40>, because it is not built.\n",
      "WARNING:tensorflow:Skipping full serialization of Keras layer <object_detection.core.freezable_batch_norm.FreezableBatchNorm object at 0x000002829FAB1EB0>, because it is not built.\n",
      "W0216 13:35:29.969296 10480 save_impl.py:71] Skipping full serialization of Keras layer <object_detection.core.freezable_batch_norm.FreezableBatchNorm object at 0x000002829FAB1EB0>, because it is not built.\n",
      "WARNING:tensorflow:Skipping full serialization of Keras layer <keras.layers.core.lambda_layer.Lambda object at 0x000002829FAB1130>, because it is not built.\n",
      "W0216 13:35:29.969296 10480 save_impl.py:71] Skipping full serialization of Keras layer <keras.layers.core.lambda_layer.Lambda object at 0x000002829FAB1130>, because it is not built.\n",
      "WARNING:tensorflow:Skipping full serialization of Keras layer <object_detection.core.freezable_batch_norm.FreezableBatchNorm object at 0x00000282E348DA00>, because it is not built.\n",
      "W0216 13:35:29.969296 10480 save_impl.py:71] Skipping full serialization of Keras layer <object_detection.core.freezable_batch_norm.FreezableBatchNorm object at 0x00000282E348DA00>, because it is not built.\n",
      "WARNING:tensorflow:Skipping full serialization of Keras layer <keras.layers.core.lambda_layer.Lambda object at 0x00000282E386EAF0>, because it is not built.\n",
      "W0216 13:35:29.969296 10480 save_impl.py:71] Skipping full serialization of Keras layer <keras.layers.core.lambda_layer.Lambda object at 0x00000282E386EAF0>, because it is not built.\n",
      "WARNING:tensorflow:Skipping full serialization of Keras layer <object_detection.core.freezable_batch_norm.FreezableBatchNorm object at 0x000002829FA04D00>, because it is not built.\n",
      "W0216 13:35:29.969296 10480 save_impl.py:71] Skipping full serialization of Keras layer <object_detection.core.freezable_batch_norm.FreezableBatchNorm object at 0x000002829FA04D00>, because it is not built.\n",
      "WARNING:tensorflow:Skipping full serialization of Keras layer <keras.layers.core.lambda_layer.Lambda object at 0x000002829FA04250>, because it is not built.\n",
      "W0216 13:35:29.969296 10480 save_impl.py:71] Skipping full serialization of Keras layer <keras.layers.core.lambda_layer.Lambda object at 0x000002829FA04250>, because it is not built.\n",
      "WARNING:tensorflow:Skipping full serialization of Keras layer <object_detection.core.freezable_batch_norm.FreezableBatchNorm object at 0x000002829FA04190>, because it is not built.\n",
      "W0216 13:35:29.970294 10480 save_impl.py:71] Skipping full serialization of Keras layer <object_detection.core.freezable_batch_norm.FreezableBatchNorm object at 0x000002829FA04190>, because it is not built.\n",
      "WARNING:tensorflow:Skipping full serialization of Keras layer <keras.layers.core.lambda_layer.Lambda object at 0x000002829FA045B0>, because it is not built.\n",
      "W0216 13:35:29.970294 10480 save_impl.py:71] Skipping full serialization of Keras layer <keras.layers.core.lambda_layer.Lambda object at 0x000002829FA045B0>, because it is not built.\n",
      "WARNING:tensorflow:Skipping full serialization of Keras layer <object_detection.core.freezable_batch_norm.FreezableBatchNorm object at 0x00000282A0C67B20>, because it is not built.\n",
      "W0216 13:35:29.970294 10480 save_impl.py:71] Skipping full serialization of Keras layer <object_detection.core.freezable_batch_norm.FreezableBatchNorm object at 0x00000282A0C67B20>, because it is not built.\n",
      "WARNING:tensorflow:Skipping full serialization of Keras layer <keras.layers.core.lambda_layer.Lambda object at 0x00000282A0C67F10>, because it is not built.\n",
      "W0216 13:35:29.970294 10480 save_impl.py:71] Skipping full serialization of Keras layer <keras.layers.core.lambda_layer.Lambda object at 0x00000282A0C67F10>, because it is not built.\n",
      "W0216 13:35:47.930316 10480 save.py:260] Found untraced functions such as WeightSharedConvolutionalBoxPredictor_layer_call_fn, WeightSharedConvolutionalBoxPredictor_layer_call_and_return_conditional_losses, WeightSharedConvolutionalBoxHead_layer_call_fn, WeightSharedConvolutionalBoxHead_layer_call_and_return_conditional_losses, WeightSharedConvolutionalClassHead_layer_call_fn while saving (showing 5 of 104). These functions will not be directly callable after loading.\n",
      "INFO:tensorflow:Assets written to: Tensorflow\\workspace\\models\\my_ssd_mobnet\\tfliteexport\\saved_model\\assets\n",
      "I0216 13:35:53.698512 10480 builder_impl.py:779] Assets written to: Tensorflow\\workspace\\models\\my_ssd_mobnet\\tfliteexport\\saved_model\\assets\n"
     ]
    }
   ],
   "source": [
    "!{command}"
   ]
  },
  {
   "cell_type": "code",
   "execution_count": 53,
   "metadata": {
    "id": "iJfYMbN6pfDL"
   },
   "outputs": [],
   "source": [
    "FROZEN_TFLITE_PATH = os.path.join(paths['TFLITE_PATH'], 'saved_model')\n",
    "TFLITE_MODEL = os.path.join(paths['TFLITE_PATH'], 'saved_model', 'detect.tflite')"
   ]
  },
  {
   "cell_type": "code",
   "execution_count": 54,
   "metadata": {},
   "outputs": [],
   "source": [
    "command = \"tflite_convert \\\n",
    "--saved_model_dir={} \\\n",
    "--output_file={} \\\n",
    "--input_shapes=1,300,300,3 \\\n",
    "--input_arrays=normalized_input_image_tensor \\\n",
    "--output_arrays='TFLite_Detection_PostProcess','TFLite_Detection_PostProcess:1','TFLite_Detection_PostProcess:2','TFLite_Detection_PostProcess:3' \\\n",
    "--inference_type=FLOAT \\\n",
    "--allow_custom_ops\".format(FROZEN_TFLITE_PATH, TFLITE_MODEL, )"
   ]
  },
  {
   "cell_type": "code",
   "execution_count": 55,
   "metadata": {
    "colab": {
     "base_uri": "https://localhost:8080/"
    },
    "id": "E8GwUeoFpfDL",
    "outputId": "fac43ea4-cc85-471b-a362-e994b06fd583"
   },
   "outputs": [
    {
     "name": "stdout",
     "output_type": "stream",
     "text": [
      "tflite_convert --saved_model_dir=Tensorflow\\workspace\\models\\my_ssd_mobnet\\tfliteexport\\saved_model --output_file=Tensorflow\\workspace\\models\\my_ssd_mobnet\\tfliteexport\\saved_model\\detect.tflite --input_shapes=1,300,300,3 --input_arrays=normalized_input_image_tensor --output_arrays='TFLite_Detection_PostProcess','TFLite_Detection_PostProcess:1','TFLite_Detection_PostProcess:2','TFLite_Detection_PostProcess:3' --inference_type=FLOAT --allow_custom_ops\n"
     ]
    }
   ],
   "source": [
    "print(command)"
   ]
  },
  {
   "cell_type": "code",
   "execution_count": 56,
   "metadata": {
    "colab": {
     "base_uri": "https://localhost:8080/"
    },
    "id": "Nbd7gqHMpfDL",
    "outputId": "7c8fe6d5-2415-4641-8548-39d425c202f7"
   },
   "outputs": [
    {
     "name": "stdout",
     "output_type": "stream",
     "text": [
      "Estimated count of arithmetic ops: 1.710 G  ops, equivalently 0.855 G  MACs\n"
     ]
    },
    {
     "name": "stderr",
     "output_type": "stream",
     "text": [
      "2022-02-16 13:36:00.364613: I tensorflow/core/platform/cpu_feature_guard.cc:151] This TensorFlow binary is optimized with oneAPI Deep Neural Network Library (oneDNN) to use the following CPU instructions in performance-critical operations:  AVX AVX2\n",
      "To enable them in other operations, rebuild TensorFlow with the appropriate compiler flags.\n",
      "2022-02-16 13:36:00.821840: I tensorflow/core/common_runtime/gpu/gpu_device.cc:1525] Created device /job:localhost/replica:0/task:0/device:GPU:0 with 3957 MB memory:  -> device: 0, name: NVIDIA GeForce RTX 2060, pci bus id: 0000:06:00.0, compute capability: 7.5\n",
      "2022-02-16 13:36:12.739160: W tensorflow/compiler/mlir/lite/python/tf_tfl_flatbuffer_helpers.cc:357] Ignored output_format.\n",
      "2022-02-16 13:36:12.739180: W tensorflow/compiler/mlir/lite/python/tf_tfl_flatbuffer_helpers.cc:360] Ignored drop_control_dependency.\n",
      "2022-02-16 13:36:12.741713: I tensorflow/cc/saved_model/reader.cc:43] Reading SavedModel from: Tensorflow\\workspace\\models\\my_ssd_mobnet\\tfliteexport\\saved_model\n",
      "2022-02-16 13:36:12.823466: I tensorflow/cc/saved_model/reader.cc:78] Reading meta graph with tags { serve }\n",
      "2022-02-16 13:36:12.823512: I tensorflow/cc/saved_model/reader.cc:119] Reading SavedModel debug info (if present) from: Tensorflow\\workspace\\models\\my_ssd_mobnet\\tfliteexport\\saved_model\n",
      "2022-02-16 13:36:13.114794: I tensorflow/cc/saved_model/loader.cc:228] Restoring SavedModel bundle.\n",
      "2022-02-16 13:36:14.780663: I tensorflow/cc/saved_model/loader.cc:212] Running initialization op on SavedModel bundle at path: Tensorflow\\workspace\\models\\my_ssd_mobnet\\tfliteexport\\saved_model\n",
      "2022-02-16 13:36:15.362629: I tensorflow/cc/saved_model/loader.cc:301] SavedModel load for tags { serve }; Status: success: OK. Took 2620914 microseconds.\n",
      "2022-02-16 13:36:16.277811: I tensorflow/compiler/mlir/tensorflow/utils/dump_mlir_util.cc:237] disabling MLIR crash reproducer, set env var `MLIR_CRASH_REPRODUCER_DIRECTORY` to enable.\n",
      "2022-02-16 13:36:17.282432: I tensorflow/compiler/mlir/lite/flatbuffer_export.cc:1963] Estimated count of arithmetic ops: 1.710 G  ops, equivalently 0.855 G  MACs\n",
      "\n"
     ]
    }
   ],
   "source": [
    "!{command}"
   ]
  },
  {
   "cell_type": "markdown",
   "metadata": {
    "id": "5NQqZRdA21Uc"
   },
   "source": [
    "# 13. Zip and Export Models "
   ]
  },
  {
   "cell_type": "code",
   "execution_count": null,
   "metadata": {
    "id": "tTVTGCQp2ZJJ"
   },
   "outputs": [],
   "source": [
    "!tar -czf models.tar.gz {paths['CHECKPOINT_PATH']}"
   ]
  },
  {
   "cell_type": "code",
   "execution_count": null,
   "metadata": {
    "colab": {
     "base_uri": "https://localhost:8080/"
    },
    "id": "whShhB0x3PYJ",
    "outputId": "b773201d-35c9-46a8-b893-4a76bd4d5d97"
   },
   "outputs": [],
   "source": [
    "from google.colab import drive\n",
    "drive.mount('/content/drive')"
   ]
  }
 ],
 "metadata": {
  "accelerator": "GPU",
  "colab": {
   "name": "3. Training and Detection.ipynb",
   "provenance": []
  },
  "interpreter": {
   "hash": "1c54981e5cbc84067c5714c85a001b4c0d5dffeff0c43fb9d154a244e7ca46d6"
  },
  "kernelspec": {
   "display_name": "tfod",
   "language": "python",
   "name": "tfod"
  },
  "language_info": {
   "codemirror_mode": {
    "name": "ipython",
    "version": 3
   },
   "file_extension": ".py",
   "mimetype": "text/x-python",
   "name": "python",
   "nbconvert_exporter": "python",
   "pygments_lexer": "ipython3",
   "version": "3.9.7"
  }
 },
 "nbformat": 4,
 "nbformat_minor": 1
}
